{
 "cells": [
  {
   "cell_type": "markdown",
   "id": "ece70e78",
   "metadata": {},
   "source": [
    "# Connectivity Graph Notebook - live version\n",
    "\n",
    "The connectivity graph notebook provides access to information on individual neuron populations as per SCKAN and ApiNATOMY models. It allows visualisation of the individual neuron connections and the related anatomical features.\n",
    "\n",
    "This live version of the notebook allows usage without the need to install any of the requirements.\n",
    "\n",
    "This notebook utilizes SciCrunch, where both production and staging versions can be accessed. The production version of SCKAN accesses officially released versions of SCKAN with finalised information. The staging version of SCKAN is a beta version in progress. For more info on SCKAN refer to the [SciCrunch](https://scicrunch.org/sawg/about/SCKAN) site.\n",
    "\n",
    "For more information on how this notebook works refer to the [GitHub documentation](https://github.com/keeran97/connectivity-graph#usage)."
   ]
  },
  {
   "cell_type": "code",
   "execution_count": 1,
   "id": "814491d7-bbef-4270-8198-b82d473af030",
   "metadata": {},
   "outputs": [],
   "source": [
    "%load_ext autoreload\n",
    "%autoreload 2"
   ]
  },
  {
   "cell_type": "markdown",
   "id": "5292ee88",
   "metadata": {},
   "source": [
    "**NOTE**: This is the live version of the connectivity graph notebook. A SciCrunch API Key must be set in order to access SCKAN.\n",
    "\n",
    "For information on how to obtain a SciCrunch key refer to the [official documentation](https://docs.sparc.science/docs/accessing-scicrunch-vocabulary-services#getting-an-api-key-to-access-scicrunch). The key can be set in this environment by changing the *SCICRUNCH_API_KEY* varible below."
   ]
  },
  {
   "cell_type": "code",
   "execution_count": null,
   "id": "c73b14e8",
   "metadata": {},
   "outputs": [],
   "source": [
    "import logging\n",
    "logger = logging.getLogger()\n",
    "logger.setLevel(logging.INFO)\n",
    "\n",
    "from connectivity_graph import ConnectivityKnowledge, display_connectivity_for_entity\n",
    "from mapknowledge.scicrunch import SCICRUNCH_PRODUCTION, SCICRUNCH_STAGING\n",
    "\n",
    "%env SCICRUNCH_API_KEY= 'A valid SciCrunch Key'\n",
    "\n",
    "production = ConnectivityKnowledge(store_directory='production', scicrunch_release=SCICRUNCH_PRODUCTION, clean_connectivity=False)\n",
    "staging = ConnectivityKnowledge(store_directory='staging', scicrunch_release=SCICRUNCH_STAGING, clean_connectivity=False)"
   ]
  },
  {
   "cell_type": "markdown",
   "id": "86c89d8a",
   "metadata": {},
   "source": [
    "Neuron populations can be accessed via the 'entity' field below. By entering the desired model and path and running the notebook, the connection and all related features can be visualised. Note that depending on the size, it may take some time to load the neuron population. The different versions of SCKAN can be accessed by interchanging 'production' and 'staging' below.\n",
    "\n",
    "For more information on how this notebook works refer to the [GitHub documentation](https://github.com/keeran97/connectivity-graph#usage).\n",
    "\n",
    "The table below contains the IDs for Paths that can be visualised.\n",
    "\n",
    "| **Model**                                 | **ilxtr** ('X' represents Path ID) | **Path IDs**                                                          |\n",
    "| ----------------------------------------- | ---------------------------------- | --------------------------------------------------------------------- |\n",
    "| ApiNATOMY model of bronchomotor control   | neuron-type-bromo-X                | 1, 2, 3, 4, 5, 6                                                      |\n",
    "| ApiNATOMY model of the spleen             | neuron-type-splen-X                | 1, 2, 3, 4, 5                                                         |\n",
    "| ApiNATOMY model of the stomach            | neuron-type-sstom-X                | 1, 2, 3, 4, 5, 6, 7, 8, 9, 10, 11, 12, 13                             |\n",
    "| Ardell-Armour model of the heart          | neuron-type-aacar-X                | 1, 2i, 2m, 4, 5, 6, 7a, 7v, 8a, 8v, 9a, 9v, 10a, 10v, 11, 12, 13      |\n",
    "| Bolser-Lewis model of defensive breathing | neuron-type-bolew-unbranched-X     | 1, 2, 3, 4, 5, 6, 7, 8, 9, 10, 11, 12, 13, 14, 15, 16, 17, 18, 19, 20, 21, 22, 23, 24, 25, 26, 27, 28, 29 |\n",
    "| Keast model of the bladder                | neuron-type-keast-X                | 1, 2, 3, 4, 5, 6, 7, 8, 9, 10, 11, 12, 13, 14, 15, 16, 17, 18, 19, 20 |\n",
    "| SAWG model of the distal colon            | neuron-type-sdcol-X                | b, c, d, f, g, h, i, j, j’, k, l, l’, m, n, o, p, q                   |"
   ]
  },
  {
   "cell_type": "code",
   "execution_count": 4,
   "id": "95e57d0a",
   "metadata": {
    "scrolled": false
   },
   "outputs": [
    {
     "data": {
      "application/vnd.jupyter.widget-view+json": {
       "model_id": "afdecd49af37436193595b85d99690d9",
       "version_major": 2,
       "version_minor": 0
      },
      "text/plain": [
       "CytoscapeWidget(cytoscape_layout={'name': 'cola'}, cytoscape_style=[{'selector': 'node', 'style': {'label': 'd…"
      ]
     },
     "metadata": {},
     "output_type": "display_data"
    },
    {
     "name": "stdout",
     "output_type": "stream",
     "text": [
      "{'axons': [],\n",
      " 'connectivity': [[['ILX:0739296', []], ['ILX:0777092', []]],\n",
      "                  [['ILX:0739299', []], ['UBERON:0018675', []]],\n",
      "                  [['ILX:0789109', []], ['ILX:0793228', []]],\n",
      "                  [['ILX:0777086', []], ['ILX:0739295', []]],\n",
      "                  [['ILX:0793559', []], ['kblad:K100', ['UBERON:0001258']]],\n",
      "                  [['ILX:0777087', []], ['ILX:0789862', []]],\n",
      "                  [['ILX:0777089', []], ['ILX:0788315', []]],\n",
      "                  [['ILX:0789862', []], ['ILX:0777088', []]],\n",
      "                  [['ILX:0788315', []], ['ILX:0777090', []]],\n",
      "                  [['ILX:0739297', []], ['ILX:0739299', []]],\n",
      "                  [['UBERON:0018675', []], ['UBERON:0016508', []]],\n",
      "                  [['ILX:0793228', []], ['UBERON:0018675', []]],\n",
      "                  [['ILX:0777088', []], ['ILX:0786933', []]],\n",
      "                  [['ILX:0777093', []], ['ILX:0789109', []]],\n",
      "                  [['UBERON:0016508', []], ['ILX:0793559', []]],\n",
      "                  [['ILX:0777091', []], ['ILX:0739296', []]],\n",
      "                  [['ILX:0787009', []], ['ILX:0777086', []]],\n",
      "                  [['kblad:K100', ['UBERON:0001258']],\n",
      "                   ['kblad:K105',\n",
      "                    ['ILX:0793663',\n",
      "                     'kblad:ref_mat_KM_11_K100_3',\n",
      "                     'kblad:K100',\n",
      "                     'UBERON:0001258']]],\n",
      "                  [['kblad:K99', ['UBERON:0006082']],\n",
      "                   ['kblad:K106',\n",
      "                    ['ILX:0793664',\n",
      "                     'kblad:ref_mat_KM_11_K99_3',\n",
      "                     'kblad:K99',\n",
      "                     'UBERON:0006082']]],\n",
      "                  [['ILX:0793559', []], ['kblad:K99', ['UBERON:0006082']]],\n",
      "                  [['ILX:0739297', []], ['ILX:0777093', []]],\n",
      "                  [['ILX:0739295', []], ['ILX:0777087', []]],\n",
      "                  [['ILX:0786933', []], ['ILX:0777089', []]],\n",
      "                  [['ILX:0777090', []], ['ILX:0790472', []]],\n",
      "                  [['ILX:0777092', []], ['ILX:0739297', []]],\n",
      "                  [['ILX:0790472', []], ['ILX:0777091', []]]],\n",
      " 'dendrites': [],\n",
      " 'errors': [],\n",
      " 'id': 'ilxtr:neuron-type-keast-4',\n",
      " 'label': 'sympathetic chain ganglion neuron (kblad)',\n",
      " 'long-label': 'neuron type kblad 4',\n",
      " 'phenotypes': ['ilxtr:SympatheticPhenotype', 'ilxtr:PostGanglionicPhenotype'],\n",
      " 'references': ['PMID:7174880', 'PMID:9442414', 'PMID:1358408', 'PMID:9622251']}\n"
     ]
    }
   ],
   "source": [
    "from pprint import pprint\n",
    "\n",
    "entity = 'ilxtr:neuron-type-keast-4'\n",
    "(knowledge, graph) = display_connectivity_for_entity(production, entity)\n",
    "pprint(knowledge)"
   ]
  }
 ],
 "metadata": {
  "kernelspec": {
   "display_name": "Python 3 (ipykernel)",
   "language": "python",
   "name": "python3"
  },
  "language_info": {
   "codemirror_mode": {
    "name": "ipython",
    "version": 3
   },
   "file_extension": ".py",
   "mimetype": "text/x-python",
   "name": "python",
   "nbconvert_exporter": "python",
   "pygments_lexer": "ipython3",
   "version": "3.10.6"
  },
  "widgets": {
   "application/vnd.jupyter.widget-state+json": {
    "state": {
     "0244bc6fbe054646a3ec8bc143741ee2": {
      "model_module": "jupyter-cytoscape",
      "model_module_version": "^1.2.2",
      "model_name": "GraphModel",
      "state": {
       "_adj": {},
       "_model_module_version": "^1.2.2",
       "_view_module": "jupyter-cytoscape",
       "_view_module_version": "^1.2.2"
      }
     },
     "02f3412e48c245d7a93f25cb35925fa0": {
      "model_module": "jupyter-cytoscape",
      "model_module_version": "^1.2.2",
      "model_name": "NodeModel",
      "state": {
       "_model_module_version": "^1.2.2",
       "_view_module_version": "^1.2.2",
       "data": {
        "id": "UBERON:0016578: lamina VII of gray matter of spinal cord\nUBERON:0006448: first lumbar spinal cord segment\n\nUBERON:0005844: spinal cord segment"
       },
       "grabbable": true,
       "grabbed": false,
       "selectable": false
      }
     },
     "042364b6ccd24e35b5720569ce97dcf9": {
      "model_module": "jupyter-cytoscape",
      "model_module_version": "^1.2.2",
      "model_name": "EdgeModel",
      "state": {
       "_model_module_version": "^1.2.2",
       "_view_module_version": "^1.2.2",
       "classes": " directed ",
       "data": {
        "directed": true,
        "id": 66,
        "source": "\nFMA:6552: First sacral ganglion",
        "target": "\nFMA:65986: Gray communicating ramus of first sacral nerve"
       },
       "selectable": false
      }
     },
     "04f0dded9457421489349ed6e10a6cc9": {
      "model_module": "jupyter-cytoscape",
      "model_module_version": "^1.2.2",
      "model_name": "EdgeModel",
      "state": {
       "_model_module_version": "^1.2.2",
       "_view_module_version": "^1.2.2",
       "classes": " directed ",
       "data": {
        "directed": true,
        "id": 4,
        "source": "\nEMAPA:31526",
        "target": "UBERON:0002384: connective tissue\nUBERON:0006082: fundus of urinary bladder"
       },
       "selectable": false
      }
     },
     "0575404046c04acdac54aa3232d9e1e1": {
      "model_module": "jupyter-cytoscape",
      "model_module_version": "^1.2.2",
      "model_name": "NodeModel",
      "state": {
       "_model_module_version": "^1.2.2",
       "_view_module_version": "^1.2.2",
       "data": {
        "id": "\nUBERON:0016508: pelvic ganglion"
       },
       "grabbable": true,
       "grabbed": false,
       "selectable": false
      }
     },
     "0596d699f82947cdae302e5870f94d29": {
      "model_module": "jupyter-cytoscape",
      "model_module_version": "^1.2.2",
      "model_name": "NodeModel",
      "state": {
       "_model_module_version": "^1.2.2",
       "_view_module_version": "^1.2.2",
       "data": {
        "id": "UBERON:0001135: smooth muscle tissue\nUBERON:0001258: neck of urinary bladder"
       },
       "grabbable": true,
       "grabbed": false,
       "selectable": false
      }
     },
     "05e48c08478644469e649ada425325a1": {
      "model_module": "jupyter-cytoscape",
      "model_module_version": "^1.2.2",
      "model_name": "GraphModel",
      "state": {
       "_adj": {
        "\nEMAPA:31526": {},
        "\nUBERON:0016508: pelvic ganglion": {},
        "UBERON:0000483: epithelium\nUBERON:0001258: neck of urinary bladder": {},
        "UBERON:0000483: epithelium\nUBERON:0006082: fundus of urinary bladder": {},
        "UBERON:0001135: smooth muscle tissue\nUBERON:0001258: neck of urinary bladder": {},
        "UBERON:0001135: smooth muscle tissue\nUBERON:0006082: fundus of urinary bladder": {},
        "UBERON:0002384: connective tissue\nUBERON:0001258: neck of urinary bladder": {},
        "UBERON:0002384: connective tissue\nUBERON:0006082: fundus of urinary bladder": {}
       },
       "_model_module_version": "^1.2.2",
       "_view_module": "jupyter-cytoscape",
       "_view_module_version": "^1.2.2",
       "edges": [
        "IPY_MODEL_119dca42cbe14fcaa9ec5063ada739df",
        "IPY_MODEL_04f0dded9457421489349ed6e10a6cc9",
        "IPY_MODEL_ae1b682e04664f609054a9a279c2cf70",
        "IPY_MODEL_63224ead41b548ada233697289f28be7",
        "IPY_MODEL_c1994883951748b990af347e004fada7",
        "IPY_MODEL_cd797e6294a4479e8de8d7b2c09400a0",
        "IPY_MODEL_1968d13964b24ec196806902b3487996"
       ],
       "nodes": [
        "IPY_MODEL_0575404046c04acdac54aa3232d9e1e1",
        "IPY_MODEL_772491c7d12e4e93b1a6cdc2f3570756",
        "IPY_MODEL_09eb433af0ce45aea9bae863f68eba30",
        "IPY_MODEL_7b24e29314e449508c29f9a70b80be22",
        "IPY_MODEL_7ae1b947eeae4466b84e834aa10136fb",
        "IPY_MODEL_2146c7e738e545a6b1017854ca0af5fd",
        "IPY_MODEL_3fad53fd7fbc4b4e96609ebf95a68544",
        "IPY_MODEL_cdfae35fcfd6495f9cd9ffae62b36a75"
       ]
      }
     },
     "05ecc6e14df54c7fb518fd738af5b1ac": {
      "model_module": "jupyter-cytoscape",
      "model_module_version": "^1.2.2",
      "model_name": "NodeModel",
      "state": {
       "_model_module_version": "^1.2.2",
       "_view_module_version": "^1.2.2",
       "data": {
        "id": "UBERON:0016549: central nervous system white matter layer\nILX:0738432: Sixth lumbar spinal cord segment"
       },
       "grabbable": true,
       "grabbed": false,
       "position": {
        "x": 207.1496206050684,
        "y": 252.13658717635494
       },
       "selectable": false
      }
     },
     "06d88635a0754c4bb7d5ec2b3aa902df": {
      "model_module": "jupyter-cytoscape",
      "model_module_version": "^1.2.2",
      "model_name": "EdgeModel",
      "state": {
       "_model_module_version": "^1.2.2",
       "_view_module_version": "^1.2.2",
       "classes": " directed ",
       "data": {
        "directed": true,
        "id": 0,
        "source": "\nEMAPA:31526",
        "target": "UBERON:0001135: smooth muscle tissue\nUBERON:0006082: fundus of urinary bladder"
       },
       "selectable": false
      }
     },
     "08f74c9678a64624a0152b3c65dff1ea": {
      "model_module": "jupyter-cytoscape",
      "model_module_version": "^1.2.2",
      "model_name": "NodeModel",
      "state": {
       "_model_module_version": "^1.2.2",
       "_view_module_version": "^1.2.2",
       "data": {
        "id": "UBERON:0016549: central nervous system white matter layer\nUBERON:0006460: first sacral spinal cord segment\n\nUBERON:0005844: spinal cord segment"
       },
       "grabbable": true,
       "grabbed": false,
       "selectable": false
      }
     },
     "08ffe08d7a394c269ab8d5bf8764eeb6": {
      "model_module": "jupyter-cytoscape",
      "model_module_version": "^1.2.2",
      "model_name": "NodeModel",
      "state": {
       "_model_module_version": "^1.2.2",
       "_view_module_version": "^1.2.2",
       "data": {
        "id": "UBERON:0016549: central nervous system white matter layer\nUBERON:0005844: spinal cord segment\n\nUBERON:0006447: fifth lumbar spinal cord segment"
       },
       "grabbable": true,
       "grabbed": false,
       "selectable": false
      }
     },
     "0978729e64b64e07b1e40b7ecdd3b3ba": {
      "model_module": "jupyter-cytoscape",
      "model_module_version": "^1.2.2",
      "model_name": "EdgeModel",
      "state": {
       "_model_module_version": "^1.2.2",
       "_view_module_version": "^1.2.2",
       "classes": " directed ",
       "data": {
        "directed": true,
        "id": "17",
        "source": "UBERON:0001135: smooth muscle tissue\nUBERON:0006082: fundus of urinary bladder",
        "target": "UBERON:0000483: epithelium\nUBERON:0006082: fundus of urinary bladder"
       },
       "selectable": false
      }
     },
     "09c08eb26500403da03373fed50cd011": {
      "model_module": "jupyter-cytoscape",
      "model_module_version": "^1.2.2",
      "model_name": "EdgeModel",
      "state": {
       "_model_module_version": "^1.2.2",
       "_view_module_version": "^1.2.2",
       "classes": " directed ",
       "data": {
        "directed": true,
        "id": 6,
        "source": "\nUBERON:0002860: first sacral dorsal root ganglion",
        "target": "UBERON:0001359: cerebrospinal fluid\nUBERON:0006460: first sacral spinal cord segment"
       },
       "selectable": false
      }
     },
     "09eb433af0ce45aea9bae863f68eba30": {
      "model_module": "jupyter-cytoscape",
      "model_module_version": "^1.2.2",
      "model_name": "NodeModel",
      "state": {
       "_model_module_version": "^1.2.2",
       "_view_module_version": "^1.2.2",
       "data": {
        "id": "UBERON:0002384: connective tissue\nUBERON:0006082: fundus of urinary bladder"
       },
       "grabbable": true,
       "grabbed": false,
       "selectable": false
      }
     },
     "09f89118714a43e6b806d2915b3e608f": {
      "model_module": "jupyter-cytoscape",
      "model_module_version": "^1.2.2",
      "model_name": "NodeModel",
      "state": {
       "_model_module_version": "^1.2.2",
       "_view_module_version": "^1.2.2",
       "data": {
        "id": "UBERON:0001017: central nervous system\nUBERON:0001894: diencephalon"
       },
       "grabbable": true,
       "grabbed": false,
       "selectable": false
      }
     },
     "0a07c740787c4704a34a2cac4dc22bfa": {
      "model_module": "jupyter-cytoscape",
      "model_module_version": "^1.2.2",
      "model_name": "NodeModel",
      "state": {
       "_model_module_version": "^1.2.2",
       "_view_module_version": "^1.2.2",
       "data": {
        "id": "UBERON:0002384: connective tissue\nUBERON:0001258: neck of urinary bladder"
       },
       "grabbable": true,
       "grabbed": false,
       "position": {
        "x": 822.1514569411652,
        "y": 347.8599595640234
       },
       "selectable": false
      }
     },
     "0a1cf5b85f7f40308870e0b48b3e2d97": {
      "model_module": "jupyter-cytoscape",
      "model_module_version": "^1.2.2",
      "model_name": "NodeModel",
      "state": {
       "_model_module_version": "^1.2.2",
       "_view_module_version": "^1.2.2",
       "data": {
        "id": "UBERON:0004677: spinal cord gray commissure\nUBERON:0006460: first sacral spinal cord segment"
       },
       "grabbable": true,
       "grabbed": false,
       "position": {
        "x": 380.8014147421671,
        "y": -115.80266708441053
       },
       "selectable": false
      }
     },
     "0ab5d029e2ff43feb00f2a63b479841d": {
      "model_module": "jupyter-cytoscape",
      "model_module_version": "^1.2.2",
      "model_name": "EdgeModel",
      "state": {
       "_model_module_version": "^1.2.2",
       "_view_module_version": "^1.2.2",
       "classes": " directed ",
       "data": {
        "directed": true,
        "id": 0,
        "source": "UBERON:0016578: lamina VII of gray matter of spinal cord\nUBERON:0005844: spinal cord segment\n\nILX:0738432: Sixth lumbar spinal cord segment",
        "target": "UBERON:0016549: central nervous system white matter layer\nUBERON:0005844: spinal cord segment\n\nILX:0738432: Sixth lumbar spinal cord segment"
       },
       "selectable": false
      }
     },
     "0ad31c64820b4019930402c473feddb4": {
      "model_module": "jupyter-cytoscape",
      "model_module_version": "^1.2.2",
      "model_name": "EdgeModel",
      "state": {
       "_model_module_version": "^1.2.2",
       "_view_module_version": "^1.2.2",
       "classes": " directed ",
       "data": {
        "directed": true,
        "id": 4,
        "source": "UBERON:0016578: lamina VII of gray matter of spinal cord\nUBERON:0006460: first sacral spinal cord segment\n\nUBERON:0005844: spinal cord segment",
        "target": "UBERON:0016549: central nervous system white matter layer\nUBERON:0006460: first sacral spinal cord segment\n\nUBERON:0005844: spinal cord segment"
       },
       "selectable": false
      }
     },
     "0b0d67abcd1a4626a4d13eba22e79858": {
      "model_module": "jupyter-cytoscape",
      "model_module_version": "^1.2.2",
      "model_name": "EdgeModel",
      "state": {
       "_model_module_version": "^1.2.2",
       "_view_module_version": "^1.2.2",
       "classes": " directed ",
       "data": {
        "directed": true,
        "id": 27,
        "source": "UBERON:0016549: central nervous system white matter layer\nUBERON:0006492: C6 segment of cervical spinal cord",
        "target": "UBERON:0016549: central nervous system white matter layer\nUBERON:0006493: C7 segment of cervical spinal cord"
       },
       "selectable": false
      }
     },
     "0cfd6a2bed7449fb927e0a430f394c8e": {
      "model_module": "jupyter-cytoscape",
      "model_module_version": "^1.2.2",
      "model_name": "EdgeModel",
      "state": {
       "_model_module_version": "^1.2.2",
       "_view_module_version": "^1.2.2",
       "classes": " directed ",
       "data": {
        "directed": true,
        "id": "3",
        "source": "UBERON:0016549: central nervous system white matter layer\nILX:0738432: Sixth lumbar spinal cord segment",
        "target": "UBERON:0016578: lamina VII of gray matter of spinal cord\nILX:0738432: Sixth lumbar spinal cord segment"
       },
       "selectable": false
      }
     },
     "0d1af2a4106e427ea2e0424dd82933f8": {
      "model_module": "jupyter-cytoscape",
      "model_module_version": "^1.2.2",
      "model_name": "NodeModel",
      "state": {
       "_model_module_version": "^1.2.2",
       "_view_module_version": "^1.2.2",
       "data": {
        "id": "\nUBERON:0001931: lateral preoptic nucleus\nUBERON:0001017: central nervous system\nUBERON:0001894: diencephalon"
       },
       "grabbable": true,
       "grabbed": false,
       "selectable": false
      }
     },
     "0d20136a61f346a5bfc58e2ade5af4df": {
      "model_module": "jupyter-cytoscape",
      "model_module_version": "^1.2.2",
      "model_name": "NodeModel",
      "state": {
       "_model_module_version": "^1.2.2",
       "_view_module_version": "^1.2.2",
       "data": {
        "id": "UBERON:0002181: substantia gelatinosa\nUBERON:0006448: first lumbar spinal cord segment"
       },
       "grabbable": true,
       "grabbed": false,
       "position": {
        "x": 115.28700134400113,
        "y": 250.74556750675643
       },
       "selectable": false
      }
     },
     "0d9d0eafc2c4468bad663632c6f8da4f": {
      "model_module": "jupyter-cytoscape",
      "model_module_version": "^1.2.2",
      "model_name": "EdgeModel",
      "state": {
       "_model_module_version": "^1.2.2",
       "_view_module_version": "^1.2.2",
       "classes": " directed ",
       "data": {
        "directed": true,
        "id": "7",
        "source": "UBERON:0016549: central nervous system white matter layer\nUBERON:0006450: second lumbar spinal cord segment",
        "target": "UBERON:0006118: lamina I of gray matter of spinal cord\nUBERON:0006450: second lumbar spinal cord segment"
       },
       "selectable": false
      }
     },
     "0e5c2e0930df452a9e61b0a0efe66693": {
      "model_module": "jupyter-cytoscape",
      "model_module_version": "^1.2.2",
      "model_name": "EdgeModel",
      "state": {
       "_model_module_version": "^1.2.2",
       "_view_module_version": "^1.2.2",
       "classes": " directed ",
       "data": {
        "directed": true,
        "id": 63,
        "source": "\nILX:0739299: Gray communicating ramus of sixth lumbar nerve",
        "target": "\nUBERON:0018675: pelvic splanchnic nerve"
       },
       "selectable": false
      }
     },
     "0f94f9c62a744671ab9aa8373afa7a4f": {
      "model_module": "jupyter-cytoscape",
      "model_module_version": "^1.2.2",
      "model_name": "NodeModel",
      "state": {
       "_model_module_version": "^1.2.2",
       "_view_module_version": "^1.2.2",
       "data": {
        "id": "\nILX:0739295: thirteenth thoracic ganglion"
       },
       "grabbable": true,
       "grabbed": false,
       "selectable": false
      }
     },
     "0fd1c7e0ea0f4b7a877ead9deb0dfea1": {
      "model_module": "jupyter-cytoscape",
      "model_module_version": "^1.2.2",
      "model_name": "EdgeModel",
      "state": {
       "_model_module_version": "^1.2.2",
       "_view_module_version": "^1.2.2",
       "classes": " directed ",
       "data": {
        "directed": true,
        "id": "19",
        "source": "UBERON:0002384: connective tissue\nUBERON:0001258: neck of urinary bladder",
        "target": "UBERON:0035965: wall of blood vessel\nUBERON:0001981: blood vessel\nUBERON:0002384: connective tissue\nUBERON:0001258: neck of urinary bladder"
       },
       "selectable": false
      }
     },
     "102d96743c544b2ca714e9337a9dd26e": {
      "model_module": "jupyter-cytoscape",
      "model_module_version": "^1.2.2",
      "model_name": "NodeModel",
      "state": {
       "_model_module_version": "^1.2.2",
       "_view_module_version": "^1.2.2",
       "data": {
        "id": "\nFMA:6540: First lumbar ganglion"
       },
       "grabbable": true,
       "grabbed": false,
       "selectable": false
      }
     },
     "104f6507d0554cb79870c15ec0247b5f": {
      "model_module": "jupyter-cytoscape",
      "model_module_version": "^1.2.2",
      "model_name": "GraphModel",
      "state": {
       "_adj": {},
       "_model_module_version": "^1.2.2",
       "_view_module": "jupyter-cytoscape",
       "_view_module_version": "^1.2.2"
      }
     },
     "10ab8f360e014457b38d97a664aa93fc": {
      "model_module": "jupyter-cytoscape",
      "model_module_version": "^1.2.2",
      "model_name": "NodeModel",
      "state": {
       "_model_module_version": "^1.2.2",
       "_view_module_version": "^1.2.2",
       "data": {
        "id": "UBERON:0016549: central nervous system white matter layer\nEMAPA:19554"
       },
       "grabbable": true,
       "grabbed": false,
       "selectable": false
      }
     },
     "114457cabc314d03928a09f52925d45f": {
      "model_module": "jupyter-cytoscape",
      "model_module_version": "^1.2.2",
      "model_name": "EdgeModel",
      "state": {
       "_model_module_version": "^1.2.2",
       "_view_module_version": "^1.2.2",
       "classes": " directed ",
       "data": {
        "directed": true,
        "id": 2,
        "source": "UBERON:0001017: central nervous system\nUBERON:0001891: midbrain",
        "target": "UBERON:0001017: central nervous system\nUBERON:0000988: pons"
       },
       "selectable": false
      }
     },
     "1180693fd5a740deb7b2c7db17ad3f9b": {
      "model_module": "@jupyter-widgets/base",
      "model_module_version": "1.2.0",
      "model_name": "LayoutModel",
      "state": {}
     },
     "119dca42cbe14fcaa9ec5063ada739df": {
      "model_module": "jupyter-cytoscape",
      "model_module_version": "^1.2.2",
      "model_name": "EdgeModel",
      "state": {
       "_model_module_version": "^1.2.2",
       "_view_module_version": "^1.2.2",
       "classes": " directed ",
       "data": {
        "directed": true,
        "id": 0,
        "source": "\nUBERON:0016508: pelvic ganglion",
        "target": "\nEMAPA:31526"
       },
       "selectable": false
      }
     },
     "11b8e4c0ca8f45bca9474c50de260a7b": {
      "model_module": "jupyter-cytoscape",
      "model_module_version": "^1.2.2",
      "model_name": "EdgeModel",
      "state": {
       "_model_module_version": "^1.2.2",
       "_view_module_version": "^1.2.2",
       "classes": " directed ",
       "data": {
        "directed": true,
        "id": "16",
        "source": "UBERON:0002384: connective tissue\nUBERON:0006082: fundus of urinary bladder",
        "target": "UBERON:0001135: smooth muscle tissue\nUBERON:0006082: fundus of urinary bladder"
       },
       "selectable": false
      }
     },
     "1269198802474eea8509ca2b86f123d7": {
      "model_module": "jupyter-cytoscape",
      "model_module_version": "^1.2.2",
      "model_name": "NodeModel",
      "state": {
       "_model_module_version": "^1.2.2",
       "_view_module_version": "^1.2.2",
       "data": {
        "id": "UBERON:0001017: central nervous system\nUBERON:0000988: pons"
       },
       "grabbable": true,
       "grabbed": false,
       "selectable": false
      }
     },
     "12893a3c580d495e994f2671f9cff5ba": {
      "model_module": "jupyter-cytoscape",
      "model_module_version": "^1.2.2",
      "model_name": "EdgeModel",
      "state": {
       "_model_module_version": "^1.2.2",
       "_view_module_version": "^1.2.2",
       "classes": " directed ",
       "data": {
        "directed": true,
        "id": 3,
        "source": "UBERON:0016549: central nervous system white matter layer\nILX:0738432: Sixth lumbar spinal cord segment",
        "target": "UBERON:0004677: spinal cord gray commissure\nILX:0738432: Sixth lumbar spinal cord segment"
       },
       "selectable": false
      }
     },
     "14581f7a1b0b4bb9b52c3600dbd1a8c7": {
      "model_module": "jupyter-cytoscape",
      "model_module_version": "^1.2.2",
      "model_name": "EdgeModel",
      "state": {
       "_model_module_version": "^1.2.2",
       "_view_module_version": "^1.2.2",
       "classes": " directed ",
       "data": {
        "directed": true,
        "id": 24,
        "source": "UBERON:0016549: central nervous system white matter layer\nUBERON:0006488: C3 segment of cervical spinal cord",
        "target": "UBERON:0016549: central nervous system white matter layer\nUBERON:0006490: C4 segment of cervical spinal cord"
       },
       "selectable": false
      }
     },
     "14af54992bbe4274a2250a78576e7e71": {
      "model_module": "jupyter-cytoscape",
      "model_module_version": "^1.2.2",
      "model_name": "EdgeModel",
      "state": {
       "_model_module_version": "^1.2.2",
       "_view_module_version": "^1.2.2",
       "classes": " directed ",
       "data": {
        "directed": true,
        "id": 57,
        "source": "\nILX:0777092: L5 - L6 interganglionic segment",
        "target": "\nILX:0739297: sixth lumbar sympathetic ganglion"
       },
       "selectable": false
      }
     },
     "15a09d3a9842472583c6d6b883e44f7c": {
      "model_module": "jupyter-cytoscape",
      "model_module_version": "^1.2.2",
      "model_name": "NodeModel",
      "state": {
       "_model_module_version": "^1.2.2",
       "_view_module_version": "^1.2.2",
       "data": {
        "id": "\nUBERON:0005453: inferior mesenteric ganglion"
       },
       "grabbable": true,
       "grabbed": false,
       "selectable": false
      }
     },
     "16089c07c71b4d8e96d8cb29880785db": {
      "model_module": "jupyter-cytoscape",
      "model_module_version": "^1.2.2",
      "model_name": "NodeModel",
      "state": {
       "_model_module_version": "^1.2.2",
       "_view_module_version": "^1.2.2",
       "data": {
        "id": "UBERON:0002384: connective tissue\nUBERON:0006082: fundus of urinary bladder"
       },
       "grabbable": true,
       "grabbed": false,
       "position": {
        "x": 942.641843699273,
        "y": 453.3923510623885
       },
       "selectable": false
      }
     },
     "161a241904334d98861a6c8d676f7159": {
      "model_module": "jupyter-cytoscape",
      "model_module_version": "^1.2.2",
      "model_name": "NodeModel",
      "state": {
       "_model_module_version": "^1.2.2",
       "_view_module_version": "^1.2.2",
       "data": {
        "id": "UBERON:0001017: central nervous system\nUBERON:0001891: midbrain"
       },
       "grabbable": true,
       "grabbed": false,
       "selectable": false
      }
     },
     "161aa02268ac4396b6e4d2af18085d10": {
      "model_module": "@jupyter-widgets/base",
      "model_module_version": "1.2.0",
      "model_name": "LayoutModel",
      "state": {}
     },
     "176d9811625a4effacdd8807d4f42bd2": {
      "model_module": "@jupyter-widgets/base",
      "model_module_version": "1.2.0",
      "model_name": "LayoutModel",
      "state": {}
     },
     "17cd829fbc5a4d918478568f1fa6a846": {
      "model_module": "jupyter-cytoscape",
      "model_module_version": "^1.2.2",
      "model_name": "NodeModel",
      "state": {
       "_model_module_version": "^1.2.2",
       "_view_module_version": "^1.2.2",
       "data": {
        "id": "UBERON:0004677: spinal cord gray commissure\nUBERON:0006448: first lumbar spinal cord segment"
       },
       "grabbable": true,
       "grabbed": false,
       "position": {
        "x": 245.6979816789634,
        "y": 397.5782322019823
       },
       "selectable": false
      }
     },
     "17cfd3a4cf0e4617ae1dd263a49785d8": {
      "model_module": "jupyter-cytoscape",
      "model_module_version": "^1.2.2",
      "model_name": "EdgeModel",
      "state": {
       "_model_module_version": "^1.2.2",
       "_view_module_version": "^1.2.2",
       "classes": " directed ",
       "data": {
        "directed": true,
        "id": 0,
        "source": "\nUBERON:0001880: bed nucleus of stria terminalis\nUBERON:0001017: central nervous system\nUBERON:0001893: cerebrum",
        "target": "UBERON:0001017: central nervous system\nUBERON:0001893: cerebrum"
       },
       "selectable": false
      }
     },
     "18473a522d704e26991e1fb59b036b29": {
      "model_module": "jupyter-cytoscape",
      "model_module_version": "^1.2.2",
      "model_name": "GraphModel",
      "state": {
       "_adj": {},
       "_model_module_version": "^1.2.2",
       "_view_module": "jupyter-cytoscape",
       "_view_module_version": "^1.2.2"
      }
     },
     "18fe99c9fd9e45898be8a6f5b63628ad": {
      "model_module": "jupyter-cytoscape",
      "model_module_version": "^1.2.2",
      "model_name": "EdgeModel",
      "state": {
       "_model_module_version": "^1.2.2",
       "_view_module_version": "^1.2.2",
       "classes": " directed ",
       "data": {
        "directed": true,
        "id": 64,
        "source": "\nILX:0739297: sixth lumbar sympathetic ganglion",
        "target": "\nILX:0777093: L6 - S1 interganglionic segment"
       },
       "selectable": false
      }
     },
     "1968d13964b24ec196806902b3487996": {
      "model_module": "jupyter-cytoscape",
      "model_module_version": "^1.2.2",
      "model_name": "EdgeModel",
      "state": {
       "_model_module_version": "^1.2.2",
       "_view_module_version": "^1.2.2",
       "classes": " directed ",
       "data": {
        "directed": true,
        "id": 8,
        "source": "UBERON:0001135: smooth muscle tissue\nUBERON:0001258: neck of urinary bladder",
        "target": "UBERON:0000483: epithelium\nUBERON:0001258: neck of urinary bladder"
       },
       "selectable": false
      }
     },
     "1974e3fcf41c49e79af923876b9f84ea": {
      "model_module": "jupyter-cytoscape",
      "model_module_version": "^1.2.2",
      "model_name": "NodeModel",
      "state": {
       "_model_module_version": "^1.2.2",
       "_view_module_version": "^1.2.2",
       "data": {
        "id": "UBERON:0001017: central nervous system\nUBERON:0001891: midbrain"
       },
       "grabbable": true,
       "grabbed": false,
       "selectable": false
      }
     },
     "1af6a11b10da424bb9cbbc98673bc2f7": {
      "model_module": "jupyter-cytoscape",
      "model_module_version": "^1.2.2",
      "model_name": "NodeModel",
      "state": {
       "_model_module_version": "^1.2.2",
       "_view_module_version": "^1.2.2",
       "data": {
        "id": "\nILX:0777088: L1 - L2 interganglionic segment"
       },
       "grabbable": true,
       "grabbed": false,
       "selectable": false
      }
     },
     "1b754c0c0dc94bfaaff357c232eef3dc": {
      "model_module": "jupyter-cytoscape",
      "model_module_version": "^1.2.2",
      "model_name": "NodeModel",
      "state": {
       "_model_module_version": "^1.2.2",
       "_view_module_version": "^1.2.2",
       "data": {
        "id": "UBERON:0016578: lamina VII of gray matter of spinal cord\nUBERON:0006460: first sacral spinal cord segment"
       },
       "grabbable": true,
       "grabbed": false,
       "position": {
        "x": 390.21558827193684,
        "y": -223.65752478814707
       },
       "selectable": false
      }
     },
     "1c329d67b6a24104b63dc6b152e5032d": {
      "model_module": "jupyter-cytoscape",
      "model_module_version": "^1.2.2",
      "model_name": "NodeModel",
      "state": {
       "_model_module_version": "^1.2.2",
       "_view_module_version": "^1.2.2",
       "data": {
        "id": "UBERON:0001017: central nervous system\nUBERON:0001894: diencephalon"
       },
       "grabbable": true,
       "grabbed": false,
       "selectable": false
      }
     },
     "1c38b4e74a204caea437d5e3bfcc97b5": {
      "model_module": "jupyter-cytoscape",
      "model_module_version": "^1.2.2",
      "model_name": "EdgeModel",
      "state": {
       "_model_module_version": "^1.2.2",
       "_view_module_version": "^1.2.2",
       "classes": " directed ",
       "data": {
        "directed": true,
        "id": 0,
        "source": "\nUBERON:0007632: Barrington's nucleus\nUBERON:0001017: central nervous system\nUBERON:0000988: pons",
        "target": "UBERON:0001017: central nervous system\nUBERON:0000988: pons"
       },
       "selectable": false
      }
     },
     "1cbac991395d4e95be4dabbf2488265b": {
      "model_module": "jupyter-cytoscape",
      "model_module_version": "^1.2.2",
      "model_name": "GraphModel",
      "state": {
       "_adj": {
        "\nUBERON:0003040: central gray substance of midbrain\nUBERON:0001017: central nervous system\nUBERON:0001891: midbrain": {},
        "\nUBERON:0007632: Barrington's nucleus\nUBERON:0001017: central nervous system\nUBERON:0000988: pons": {},
        "UBERON:0001017: central nervous system\nUBERON:0000988: pons": {},
        "UBERON:0001017: central nervous system\nUBERON:0001891: midbrain": {}
       },
       "_model_module_version": "^1.2.2",
       "_view_module": "jupyter-cytoscape",
       "_view_module_version": "^1.2.2",
       "edges": [
        "IPY_MODEL_2249088234e24910975afc930f5e1349",
        "IPY_MODEL_90a1034c30bd4b6d8753f923a6a46f82",
        "IPY_MODEL_9e1356364fe54053a31c775d26a10340"
       ],
       "nodes": [
        "IPY_MODEL_68471fbc3aef479a9438a33111f02781",
        "IPY_MODEL_97049f2415e24f8693013433017917d7",
        "IPY_MODEL_694c41a43bb14ba2ba617c7ee59076e8",
        "IPY_MODEL_1d06916d9d3a4b20983d9fa7ee41487b"
       ]
      }
     },
     "1cc4c1e73116492aba7bf0ca5ced717a": {
      "model_module": "jupyter-cytoscape",
      "model_module_version": "^1.2.2",
      "model_name": "EdgeModel",
      "state": {
       "_model_module_version": "^1.2.2",
       "_view_module_version": "^1.2.2",
       "classes": " directed ",
       "data": {
        "directed": true,
        "id": 3,
        "source": "UBERON:0001017: central nervous system\nUBERON:0001891: midbrain",
        "target": "UBERON:0001017: central nervous system\nUBERON:0000988: pons"
       },
       "selectable": false
      }
     },
     "1d06916d9d3a4b20983d9fa7ee41487b": {
      "model_module": "jupyter-cytoscape",
      "model_module_version": "^1.2.2",
      "model_name": "NodeModel",
      "state": {
       "_model_module_version": "^1.2.2",
       "_view_module_version": "^1.2.2",
       "data": {
        "id": "\nUBERON:0007632: Barrington's nucleus\nUBERON:0001017: central nervous system\nUBERON:0000988: pons"
       },
       "grabbable": true,
       "grabbed": false,
       "selectable": false
      }
     },
     "1d1a24b3ba9e4677bebe4cc80cc46829": {
      "model_module": "jupyter-cytoscape",
      "model_module_version": "^1.2.2",
      "model_name": "EdgeModel",
      "state": {
       "_model_module_version": "^1.2.2",
       "_view_module_version": "^1.2.2",
       "classes": " directed ",
       "data": {
        "directed": true,
        "id": "11",
        "source": "\nUBERON:0002856: second lumbar dorsal root ganglion",
        "target": "UBERON:0016549: central nervous system white matter layer\nUBERON:0006450: second lumbar spinal cord segment"
       },
       "selectable": false
      }
     },
     "1d7b1007e5074aad86fba9e6efad8bae": {
      "model_module": "@jupyter-widgets/base",
      "model_module_version": "1.2.0",
      "model_name": "LayoutModel",
      "state": {}
     },
     "1db11861b16c4b2cb2f191fda0cf4c87": {
      "model_module": "jupyter-cytoscape",
      "model_module_version": "^1.2.2",
      "model_name": "EdgeModel",
      "state": {
       "_model_module_version": "^1.2.2",
       "_view_module_version": "^1.2.2",
       "classes": " directed ",
       "data": {
        "directed": true,
        "id": 2,
        "source": "\nFMA:6485: Twelfth thoracic ganglion",
        "target": "\nILX:0777086: T12 - T13 Interganglionic segment"
       },
       "selectable": false
      }
     },
     "1de432dc09ff4564ad6c52d292702001": {
      "model_module": "jupyter-cytoscape",
      "model_module_version": "^1.2.2",
      "model_name": "EdgeModel",
      "state": {
       "_model_module_version": "^1.2.2",
       "_view_module_version": "^1.2.2",
       "classes": " directed ",
       "data": {
        "directed": true,
        "id": 30,
        "source": "UBERON:0016549: central nervous system white matter layer\nILX:0738432: Sixth lumbar spinal cord segment",
        "target": "UBERON:0016578: lamina VII of gray matter of spinal cord\nUBERON:0006460: first sacral spinal cord segment"
       },
       "selectable": false
      }
     },
     "1e1d16ed8c8e483fab63ceac35196958": {
      "model_module": "jupyter-cytoscape",
      "model_module_version": "^1.2.2",
      "model_name": "NodeModel",
      "state": {
       "_model_module_version": "^1.2.2",
       "_view_module_version": "^1.2.2",
       "data": {
        "id": "\nEMAPA:31526"
       },
       "grabbable": true,
       "grabbed": false,
       "selectable": false
      }
     },
     "1f829ccf58444196a912813333f3290c": {
      "model_module": "jupyter-cytoscape",
      "model_module_version": "^1.2.2",
      "model_name": "NodeModel",
      "state": {
       "_model_module_version": "^1.2.2",
       "_view_module_version": "^1.2.2",
       "data": {
        "id": "UBERON:0016549: central nervous system white matter layer\nUBERON:0006456: eighth thoracic spinal cord segment"
       },
       "grabbable": true,
       "grabbed": false,
       "selectable": false
      }
     },
     "1fd5c966342249c6b0ae235825bac2bc": {
      "model_module": "jupyter-cytoscape",
      "model_module_version": "^1.2.2",
      "model_name": "EdgeModel",
      "state": {
       "_model_module_version": "^1.2.2",
       "_view_module_version": "^1.2.2",
       "classes": " directed ",
       "data": {
        "directed": true,
        "id": "27",
        "source": "\nEMAPA:25169",
        "target": "\nUBERON:0018675: pelvic splanchnic nerve"
       },
       "selectable": false
      }
     },
     "1fdbc40cd91e49f6801c9e12bf5251cb": {
      "model_module": "jupyter-cytoscape",
      "model_module_version": "^1.2.2",
      "model_name": "EdgeModel",
      "state": {
       "_model_module_version": "^1.2.2",
       "_view_module_version": "^1.2.2",
       "classes": " directed ",
       "data": {
        "directed": true,
        "id": 3,
        "source": "UBERON:0001017: central nervous system\nUBERON:0001891: midbrain",
        "target": "UBERON:0001017: central nervous system\nUBERON:0000988: pons"
       },
       "selectable": false
      }
     },
     "2132d475510c4ee2acf8c9f401cc0b9b": {
      "model_module": "jupyter-cytoscape",
      "model_module_version": "^1.2.2",
      "model_name": "NodeModel",
      "state": {
       "_model_module_version": "^1.2.2",
       "_view_module_version": "^1.2.2",
       "data": {
        "id": "\nUBERON:0016508: pelvic ganglion"
       },
       "grabbable": true,
       "grabbed": false,
       "position": {
        "x": 143.01839956495294,
        "y": 281.01726101956564
       },
       "selectable": false
      }
     },
     "2142cbfa46524c859a4a1b9d3b68563a": {
      "model_module": "jupyter-cytoscape",
      "model_module_version": "^1.2.2",
      "model_name": "EdgeModel",
      "state": {
       "_model_module_version": "^1.2.2",
       "_view_module_version": "^1.2.2",
       "classes": " directed ",
       "data": {
        "directed": true,
        "id": 2,
        "source": "UBERON:0001017: central nervous system\nUBERON:0001894: diencephalon",
        "target": "UBERON:0001017: central nervous system\nUBERON:0001891: midbrain"
       },
       "selectable": false
      }
     },
     "2146c7e738e545a6b1017854ca0af5fd": {
      "model_module": "jupyter-cytoscape",
      "model_module_version": "^1.2.2",
      "model_name": "NodeModel",
      "state": {
       "_model_module_version": "^1.2.2",
       "_view_module_version": "^1.2.2",
       "data": {
        "id": "UBERON:0002384: connective tissue\nUBERON:0001258: neck of urinary bladder"
       },
       "grabbable": true,
       "grabbed": false,
       "selectable": false
      }
     },
     "21fb580a41fd467d877105393229a3ee": {
      "model_module": "jupyter-cytoscape",
      "model_module_version": "^1.2.2",
      "model_name": "EdgeModel",
      "state": {
       "_model_module_version": "^1.2.2",
       "_view_module_version": "^1.2.2",
       "classes": " directed ",
       "data": {
        "directed": true,
        "id": 2,
        "source": "\nEMAPA:25169",
        "target": "UBERON:0016549: central nervous system white matter layer\nILX:0738432: Sixth lumbar spinal cord segment"
       },
       "selectable": false
      }
     },
     "2249088234e24910975afc930f5e1349": {
      "model_module": "jupyter-cytoscape",
      "model_module_version": "^1.2.2",
      "model_name": "EdgeModel",
      "state": {
       "_model_module_version": "^1.2.2",
       "_view_module_version": "^1.2.2",
       "classes": " directed ",
       "data": {
        "directed": true,
        "id": 0,
        "source": "\nUBERON:0003040: central gray substance of midbrain\nUBERON:0001017: central nervous system\nUBERON:0001891: midbrain",
        "target": "UBERON:0001017: central nervous system\nUBERON:0001891: midbrain"
       },
       "selectable": false
      }
     },
     "2300770328d84c419b279dac8df11391": {
      "model_module": "jupyter-cytoscape",
      "model_module_version": "^1.2.2",
      "model_name": "EdgeModel",
      "state": {
       "_model_module_version": "^1.2.2",
       "_view_module_version": "^1.2.2",
       "classes": " directed ",
       "data": {
        "directed": true,
        "id": "8",
        "source": "UBERON:0016549: central nervous system white matter layer\nUBERON:0006460: first sacral spinal cord segment",
        "target": "UBERON:0004677: spinal cord gray commissure\nUBERON:0006460: first sacral spinal cord segment"
       },
       "selectable": false
      }
     },
     "230734dfbe18452eaa2301cf49b5e137": {
      "model_module": "jupyter-cytoscape",
      "model_module_version": "^1.2.2",
      "model_name": "EdgeModel",
      "state": {
       "_model_module_version": "^1.2.2",
       "_view_module_version": "^1.2.2",
       "classes": " directed ",
       "data": {
        "directed": true,
        "id": 11,
        "source": "UBERON:0001017: central nervous system\nUBERON:0000988: pons",
        "target": "UBERON:0001017: central nervous system\nUBERON:0001896: medulla oblongata"
       },
       "selectable": false
      }
     },
     "23e01312eb844cec8cf7889150831afc": {
      "model_module": "jupyter-cytoscape",
      "model_module_version": "^1.2.2",
      "model_name": "EdgeModel",
      "state": {
       "_model_module_version": "^1.2.2",
       "_view_module_version": "^1.2.2",
       "classes": " directed ",
       "data": {
        "directed": true,
        "id": 30,
        "source": "\nILX:0777088: L1 - L2 interganglionic segment",
        "target": "\nFMA:6541: Second lumbar ganglion"
       },
       "selectable": false
      }
     },
     "24123ffc20dc441aae4022c09f8b6a4a": {
      "model_module": "jupyter-cytoscape",
      "model_module_version": "^1.2.2",
      "model_name": "NodeModel",
      "state": {
       "_model_module_version": "^1.2.2",
       "_view_module_version": "^1.2.2",
       "data": {
        "id": "\nILX:0739299: Gray communicating ramus of sixth lumbar nerve"
       },
       "grabbable": true,
       "grabbed": false,
       "selectable": false
      }
     },
     "253970a2438b45939cd2437348e19233": {
      "model_module": "jupyter-cytoscape",
      "model_module_version": "^1.2.2",
      "model_name": "NodeModel",
      "state": {
       "_model_module_version": "^1.2.2",
       "_view_module_version": "^1.2.2",
       "data": {
        "id": "\nUBERON:0005453: inferior mesenteric ganglion"
       },
       "grabbable": true,
       "grabbed": false,
       "position": {
        "x": 524.9644233044413,
        "y": 191.79490081057125
       },
       "selectable": false
      }
     },
     "25deb6d365f749df81c63f55ceaffd73": {
      "model_module": "jupyter-cytoscape",
      "model_module_version": "^1.2.2",
      "model_name": "EdgeModel",
      "state": {
       "_model_module_version": "^1.2.2",
       "_view_module_version": "^1.2.2",
       "classes": " directed ",
       "data": {
        "directed": true,
        "id": "8",
        "source": "\nFMA:65910: Gray communicating ramus of first lumbar nerve",
        "target": "\nUBERON:0018683: lumbar splanchnic nerve"
       },
       "selectable": false
      }
     },
     "2661807d75704383880b7b26fbf0a8bf": {
      "model_module": "jupyter-cytoscape",
      "model_module_version": "^1.2.2",
      "model_name": "NodeModel",
      "state": {
       "_model_module_version": "^1.2.2",
       "_view_module_version": "^1.2.2",
       "data": {
        "id": "UBERON:0001017: central nervous system\nUBERON:0001894: diencephalon"
       },
       "grabbable": true,
       "grabbed": false,
       "selectable": false
      }
     },
     "2685a65bef0b48c6a0ba2812ba16840d": {
      "model_module": "jupyter-cytoscape",
      "model_module_version": "^1.2.2",
      "model_name": "EdgeModel",
      "state": {
       "_model_module_version": "^1.2.2",
       "_view_module_version": "^1.2.2",
       "classes": " directed ",
       "data": {
        "directed": true,
        "id": 28,
        "source": "\nFMA:6540: First lumbar ganglion",
        "target": "\nILX:0777088: L1 - L2 interganglionic segment"
       },
       "selectable": false
      }
     },
     "27c78ade8f454ff0aa0c6bcc21a5d977": {
      "model_module": "jupyter-cytoscape",
      "model_module_version": "^1.2.2",
      "model_name": "NodeModel",
      "state": {
       "_model_module_version": "^1.2.2",
       "_view_module_version": "^1.2.2",
       "data": {
        "id": "UBERON:0016549: central nervous system white matter layer\nUBERON:0006491: C5 segment of cervical spinal cord"
       },
       "grabbable": true,
       "grabbed": false,
       "selectable": false
      }
     },
     "27da4a0b4df44802b45f9fb3d5a92d84": {
      "model_module": "jupyter-cytoscape",
      "model_module_version": "^1.2.2",
      "model_name": "EdgeModel",
      "state": {
       "_model_module_version": "^1.2.2",
       "_view_module_version": "^1.2.2",
       "classes": " directed ",
       "data": {
        "directed": true,
        "id": "6",
        "source": "\nFMA:12697: White communicating ramus of first lumbar anterior ramus",
        "target": "\nFMA:6540: First lumbar ganglion"
       },
       "selectable": false
      }
     },
     "28aa878b305840059910373f975eea15": {
      "model_module": "jupyter-cytoscape",
      "model_module_version": "^1.2.2",
      "model_name": "NodeModel",
      "state": {
       "_model_module_version": "^1.2.2",
       "_view_module_version": "^1.2.2",
       "data": {
        "id": "UBERON:0016578: lamina VII of gray matter of spinal cord\nUBERON:0006450: second lumbar spinal cord segment"
       },
       "grabbable": true,
       "grabbed": false,
       "position": {
        "x": 431.16059707237497,
        "y": -142.2175317470625
       },
       "selectable": false
      }
     },
     "28c29c310e894dc6bbaaf6bee0c30eeb": {
      "model_module": "jupyter-cytoscape",
      "model_module_version": "^1.2.2",
      "model_name": "GraphModel",
      "state": {
       "_adj": {
        "\nUBERON:0002625: median preoptic nucleus\nUBERON:0001017: central nervous system\nUBERON:0001894: diencephalon": {},
        "\nUBERON:0007632: Barrington's nucleus\nUBERON:0001017: central nervous system\nUBERON:0000988: pons": {},
        "UBERON:0001017: central nervous system\nUBERON:0000988: pons": {},
        "UBERON:0001017: central nervous system\nUBERON:0001891: midbrain": {},
        "UBERON:0001017: central nervous system\nUBERON:0001894: diencephalon": {}
       },
       "_model_module_version": "^1.2.2",
       "_view_module": "jupyter-cytoscape",
       "_view_module_version": "^1.2.2",
       "edges": [
        "IPY_MODEL_5561a8693b364fca81ac7f536e9c2cd6",
        "IPY_MODEL_2f674055e6ee43238a6400ec915f94b7",
        "IPY_MODEL_4c036377ac36444bbbc185ed9e786dfb",
        "IPY_MODEL_dbae24fa566944b2904cc66a38143f07"
       ],
       "nodes": [
        "IPY_MODEL_ed51c64bdfc04a929f71aa1021afd0c7",
        "IPY_MODEL_1c329d67b6a24104b63dc6b152e5032d",
        "IPY_MODEL_300bddb1ed754af69f26633e01bd6354",
        "IPY_MODEL_9d2473df657b43b2ba5bf7b9d4ded21b",
        "IPY_MODEL_b96e57caaec1430fb5844f074b422b23"
       ]
      }
     },
     "29e6c298abce4d1da0f58a5659fd9e8c": {
      "model_module": "jupyter-cytoscape",
      "model_module_version": "^1.2.2",
      "model_name": "NodeModel",
      "state": {
       "_model_module_version": "^1.2.2",
       "_view_module_version": "^1.2.2",
       "data": {
        "id": "UBERON:0016549: central nervous system white matter layer\nILX:0738432: Sixth lumbar spinal cord segment"
       },
       "grabbable": true,
       "grabbed": false,
       "selectable": false
      }
     },
     "2a59e65497164e7c8319dac0c7326d0c": {
      "model_module": "jupyter-cytoscape",
      "model_module_version": "^1.2.2",
      "model_name": "GraphModel",
      "state": {
       "_adj": {},
       "_model_module_version": "^1.2.2",
       "_view_module": "jupyter-cytoscape",
       "_view_module_version": "^1.2.2"
      }
     },
     "2acb09d5c2cf4d9a8065fa5d2c6efffb": {
      "model_module": "jupyter-cytoscape",
      "model_module_version": "^1.2.2",
      "model_name": "NodeModel",
      "state": {
       "_model_module_version": "^1.2.2",
       "_view_module_version": "^1.2.2",
       "data": {
        "id": "\nFMA:12697: White communicating ramus of first lumbar anterior ramus"
       },
       "grabbable": true,
       "grabbed": false,
       "selectable": false
      }
     },
     "2c33c95d132644858c4f0fe4c137ab0e": {
      "model_module": "jupyter-cytoscape",
      "model_module_version": "^1.2.2",
      "model_name": "CytoscapeModel",
      "state": {
       "_interaction_handlers": {},
       "_model_module_version": "^1.2.2",
       "_view_module_version": "^1.2.2",
       "auto_ungrabify": false,
       "autolock": false,
       "cytoscape_layout": {
        "name": "cola"
       },
       "cytoscape_style": [
        {
         "selector": "node",
         "style": {
          "background-color": "#80F0F0",
          "font-size": "10px",
          "label": "data(id)",
          "text-max-width": "80px",
          "text-valign": "center",
          "text-wrap": "wrap"
         }
        },
        {
         "selector": "edge.directed",
         "style": {
          "line-color": "#9dbaea",
          "mid-target-arrow-color": "#8090c0",
          "mid-target-arrow-shape": "triangle",
          "width": 2
         }
        }
       ],
       "desktop_tap_threshold": 4,
       "graph": "IPY_MODEL_1cbac991395d4e95be4dabbf2488265b",
       "headless": false,
       "hide_edges_on_viewport": false,
       "layout": "IPY_MODEL_a050aec9f5744f71872b74d91e28b939",
       "max_zoom": 1e+50,
       "min_zoom": 1e-50,
       "motion_blur": false,
       "motion_blur_opacity": 0.2,
       "panning_enabled": true,
       "pixel_ratio": "auto",
       "rendered_position": {
        "renderedPosition": {
         "x": 100,
         "y": 100
        }
       },
       "selection_type": "single",
       "style_enabled": true,
       "texture_on_viewport": false,
       "tooltip_source": "tooltip",
       "touch_tap_threshold": 8,
       "user_panning_enabled": true,
       "user_zooming_enabled": true,
       "wheel_sensitivity": 1,
       "zoom": 2,
       "zooming_enabled": true
      }
     },
     "2d0ac032db134c46a3947b86ba27246f": {
      "model_module": "jupyter-cytoscape",
      "model_module_version": "^1.2.2",
      "model_name": "NodeModel",
      "state": {
       "_model_module_version": "^1.2.2",
       "_view_module_version": "^1.2.2",
       "data": {
        "id": "\nUBERON:0005303: hypogastric nerve"
       },
       "grabbable": true,
       "grabbed": false,
       "selectable": false
      }
     },
     "2e3f455ec009474885524c271a62677d": {
      "model_module": "jupyter-cytoscape",
      "model_module_version": "^1.2.2",
      "model_name": "CytoscapeModel",
      "state": {
       "_interaction_handlers": {},
       "_model_module_version": "^1.2.2",
       "_view_module_version": "^1.2.2",
       "auto_ungrabify": false,
       "autolock": false,
       "cytoscape_layout": {
        "name": "cola"
       },
       "cytoscape_style": [
        {
         "selector": "node",
         "style": {
          "background-color": "#80F0F0",
          "font-size": "10px",
          "label": "data(id)",
          "text-max-width": "80px",
          "text-valign": "center",
          "text-wrap": "wrap"
         }
        },
        {
         "selector": "edge.directed",
         "style": {
          "line-color": "#9dbaea",
          "mid-target-arrow-color": "#8090c0",
          "mid-target-arrow-shape": "triangle",
          "width": 2
         }
        }
       ],
       "desktop_tap_threshold": 4,
       "graph": "IPY_MODEL_e63567be1dbc48aeb06f4dfb714965b5",
       "headless": false,
       "hide_edges_on_viewport": false,
       "layout": "IPY_MODEL_f2c4f3d800894114b0f8fbd9e02892c7",
       "max_zoom": 1e+50,
       "min_zoom": 1e-50,
       "motion_blur": false,
       "motion_blur_opacity": 0.2,
       "panning_enabled": true,
       "pixel_ratio": "auto",
       "rendered_position": {
        "renderedPosition": {
         "x": 100,
         "y": 100
        }
       },
       "selection_type": "single",
       "style_enabled": true,
       "texture_on_viewport": false,
       "tooltip_source": "tooltip",
       "touch_tap_threshold": 8,
       "user_panning_enabled": true,
       "user_zooming_enabled": true,
       "wheel_sensitivity": 1,
       "zoom": 2,
       "zooming_enabled": true
      }
     },
     "2ee6f07788a041aa9d3763eb4fa6ddbc": {
      "model_module": "jupyter-cytoscape",
      "model_module_version": "^1.2.2",
      "model_name": "CytoscapeModel",
      "state": {
       "_interaction_handlers": {},
       "_model_module_version": "^1.2.2",
       "_view_module_version": "^1.2.2",
       "auto_ungrabify": false,
       "autolock": false,
       "cytoscape_layout": {
        "name": "cola"
       },
       "cytoscape_style": [
        {
         "selector": "node",
         "style": {
          "background-color": "#80F0F0",
          "font-size": "10px",
          "label": "data(id)",
          "text-max-width": "80px",
          "text-valign": "center",
          "text-wrap": "wrap"
         }
        },
        {
         "selector": "edge.directed",
         "style": {
          "line-color": "#9dbaea",
          "mid-target-arrow-color": "#8090c0",
          "mid-target-arrow-shape": "triangle",
          "width": 2
         }
        }
       ],
       "desktop_tap_threshold": 4,
       "graph": "IPY_MODEL_d835e82f0dc24902b705c366116c5f6f",
       "headless": false,
       "hide_edges_on_viewport": false,
       "layout": "IPY_MODEL_8e5c1d5678ad4c3e9e667fa13e9ab303",
       "max_zoom": 1e+50,
       "min_zoom": 1e-50,
       "motion_blur": false,
       "motion_blur_opacity": 0.2,
       "panning_enabled": true,
       "pixel_ratio": "auto",
       "rendered_position": {
        "renderedPosition": {
         "x": 100,
         "y": 100
        }
       },
       "selection_type": "single",
       "style_enabled": true,
       "texture_on_viewport": false,
       "tooltip_source": "tooltip",
       "touch_tap_threshold": 8,
       "user_panning_enabled": true,
       "user_zooming_enabled": true,
       "wheel_sensitivity": 1,
       "zoom": 2,
       "zooming_enabled": true
      }
     },
     "2ee7b47fe2f94b42ba27db95adb5a0fc": {
      "model_module": "jupyter-cytoscape",
      "model_module_version": "^1.2.2",
      "model_name": "NodeModel",
      "state": {
       "_model_module_version": "^1.2.2",
       "_view_module_version": "^1.2.2",
       "data": {
        "id": "UBERON:0016578: lamina VII of gray matter of spinal cord\nUBERON:0005844: spinal cord segment\n\nUBERON:0006448: first lumbar spinal cord segment"
       },
       "grabbable": true,
       "grabbed": false,
       "selectable": false
      }
     },
     "2f51229533b84b1da906db3ce682ba68": {
      "model_module": "jupyter-cytoscape",
      "model_module_version": "^1.2.2",
      "model_name": "GraphModel",
      "state": {
       "_adj": {},
       "_model_module_version": "^1.2.2",
       "_view_module": "jupyter-cytoscape",
       "_view_module_version": "^1.2.2"
      }
     },
     "2f5869cc89df4bd98855c4132a4f89c3": {
      "model_module": "jupyter-cytoscape",
      "model_module_version": "^1.2.2",
      "model_name": "NodeModel",
      "state": {
       "_model_module_version": "^1.2.2",
       "_view_module_version": "^1.2.2",
       "data": {
        "id": "UBERON:0016549: central nervous system white matter layer\nUBERON:0006450: second lumbar spinal cord segment"
       },
       "grabbable": true,
       "grabbed": false,
       "position": {
        "x": 328.77421127340705,
        "y": -154.48104877861678
       },
       "selectable": false
      }
     },
     "2f674055e6ee43238a6400ec915f94b7": {
      "model_module": "jupyter-cytoscape",
      "model_module_version": "^1.2.2",
      "model_name": "EdgeModel",
      "state": {
       "_model_module_version": "^1.2.2",
       "_view_module_version": "^1.2.2",
       "classes": " directed ",
       "data": {
        "directed": true,
        "id": 1,
        "source": "UBERON:0001017: central nervous system\nUBERON:0001894: diencephalon",
        "target": "UBERON:0001017: central nervous system\nUBERON:0001891: midbrain"
       },
       "selectable": false
      }
     },
     "2fb450bdff654f62893f27d483165f53": {
      "model_module": "jupyter-cytoscape",
      "model_module_version": "^1.2.2",
      "model_name": "EdgeModel",
      "state": {
       "_model_module_version": "^1.2.2",
       "_view_module_version": "^1.2.2",
       "classes": " directed ",
       "data": {
        "directed": true,
        "id": 0,
        "source": "\nUBERON:0001931: lateral preoptic nucleus\nUBERON:0001017: central nervous system\nUBERON:0001894: diencephalon",
        "target": "UBERON:0001017: central nervous system\nUBERON:0001894: diencephalon"
       },
       "selectable": false
      }
     },
     "2feb62b970e44f0a9d29f370fd3aff91": {
      "model_module": "jupyter-cytoscape",
      "model_module_version": "^1.2.2",
      "model_name": "NodeModel",
      "state": {
       "_model_module_version": "^1.2.2",
       "_view_module_version": "^1.2.2",
       "data": {
        "id": "\nFMA:6541: Second lumbar ganglion"
       },
       "grabbable": true,
       "grabbed": false,
       "selectable": false
      }
     },
     "300bddb1ed754af69f26633e01bd6354": {
      "model_module": "jupyter-cytoscape",
      "model_module_version": "^1.2.2",
      "model_name": "NodeModel",
      "state": {
       "_model_module_version": "^1.2.2",
       "_view_module_version": "^1.2.2",
       "data": {
        "id": "UBERON:0001017: central nervous system\nUBERON:0001891: midbrain"
       },
       "grabbable": true,
       "grabbed": false,
       "selectable": false
      }
     },
     "31476d94109b41e69c26373c90d19aee": {
      "model_module": "jupyter-cytoscape",
      "model_module_version": "^1.2.2",
      "model_name": "EdgeModel",
      "state": {
       "_model_module_version": "^1.2.2",
       "_view_module_version": "^1.2.2",
       "classes": " directed ",
       "data": {
        "directed": true,
        "id": "9",
        "source": "UBERON:0016549: central nervous system white matter layer\nUBERON:0006450: second lumbar spinal cord segment",
        "target": "UBERON:0016578: lamina VII of gray matter of spinal cord\nUBERON:0006450: second lumbar spinal cord segment"
       },
       "selectable": false
      }
     },
     "31ed09ace0614e038540dd96619fa238": {
      "model_module": "@jupyter-widgets/base",
      "model_module_version": "1.2.0",
      "model_name": "LayoutModel",
      "state": {}
     },
     "3249969aa47445b7b2b21e38f71d9168": {
      "model_module": "jupyter-cytoscape",
      "model_module_version": "^1.2.2",
      "model_name": "NodeModel",
      "state": {
       "_model_module_version": "^1.2.2",
       "_view_module_version": "^1.2.2",
       "data": {
        "id": "UBERON:0001017: central nervous system\nUBERON:0001894: diencephalon"
       },
       "grabbable": true,
       "grabbed": false,
       "selectable": false
      }
     },
     "32c68de643a4461ea7cbddba5c42edc4": {
      "model_module": "jupyter-cytoscape",
      "model_module_version": "^1.2.2",
      "model_name": "EdgeModel",
      "state": {
       "_model_module_version": "^1.2.2",
       "_view_module_version": "^1.2.2",
       "classes": " directed ",
       "data": {
        "directed": true,
        "id": 8,
        "source": "\nEMAPA:25169",
        "target": "\nUBERON:0011390: pudendal nerve"
       },
       "selectable": false
      }
     },
     "344385378c39429289347512dd2e950b": {
      "model_module": "jupyter-cytoscape",
      "model_module_version": "^1.2.2",
      "model_name": "NodeModel",
      "state": {
       "_model_module_version": "^1.2.2",
       "_view_module_version": "^1.2.2",
       "data": {
        "id": "UBERON:0016576: lamina V of gray matter of spinal cord\nUBERON:0006450: second lumbar spinal cord segment"
       },
       "grabbable": true,
       "grabbed": false,
       "position": {
        "x": 303.7511227406224,
        "y": -279.9295619490653
       },
       "selectable": false
      }
     },
     "3468d0a7b205446880f468b47eb77fa9": {
      "model_module": "jupyter-cytoscape",
      "model_module_version": "^1.2.2",
      "model_name": "GraphModel",
      "state": {
       "_adj": {
        "\nEMAPA:31526": {},
        "\nFMA:6485: Twelfth thoracic ganglion": {},
        "\nFMA:6540: First lumbar ganglion": {},
        "\nFMA:6541: Second lumbar ganglion": {},
        "\nFMA:6542: Third lumbar ganglion": {},
        "\nFMA:6543: Fourth lumbar ganglion": {},
        "\nFMA:6552: First sacral ganglion": {},
        "\nFMA:65986: Gray communicating ramus of first sacral nerve": {},
        "\nILX:0739295: thirteenth thoracic ganglion": {},
        "\nILX:0739296: fifth lumbar sympathetic ganglion": {},
        "\nILX:0739297: sixth lumbar sympathetic ganglion": {},
        "\nILX:0739299: Gray communicating ramus of sixth lumbar nerve": {},
        "\nILX:0777086: T12 - T13 Interganglionic segment": {},
        "\nILX:0777087: T13 - L1 Interganglionic segment": {},
        "\nILX:0777088: L1 - L2 interganglionic segment": {},
        "\nILX:0777089: L2 - L3 interganglionic segment": {},
        "\nILX:0777090: L3 - L4 interganglionic segment": {},
        "\nILX:0777091: L4 - L5 interganglionic segment": {},
        "\nILX:0777092: L5 - L6 interganglionic segment": {},
        "\nILX:0777093: L6 - S1 interganglionic segment": {},
        "\nUBERON:0016508: pelvic ganglion": {},
        "\nUBERON:0018675: pelvic splanchnic nerve": {},
        "UBERON:0002384: connective tissue\nUBERON:0001258: neck of urinary bladder": {},
        "UBERON:0002384: connective tissue\nUBERON:0006082: fundus of urinary bladder": {},
        "UBERON:0035965: wall of blood vessel\nUBERON:0001981: blood vessel\nUBERON:0002384: connective tissue\nUBERON:0001258: neck of urinary bladder": {},
        "UBERON:0035965: wall of blood vessel\nUBERON:0001981: blood vessel\nUBERON:0002384: connective tissue\nUBERON:0006082: fundus of urinary bladder": {}
       },
       "_model_module_version": "^1.2.2",
       "_view_module": "jupyter-cytoscape",
       "_view_module_version": "^1.2.2",
       "edges": [
        "IPY_MODEL_3aa89dfcec5c4a6093b73a5fb0b05c6a",
        "IPY_MODEL_461b09e08f4b43baa8fe1d154589cf03",
        "IPY_MODEL_7a187eb8a7374083a34f07dda855e422",
        "IPY_MODEL_1db11861b16c4b2cb2f191fda0cf4c87",
        "IPY_MODEL_a7571bf5552845a3982cafcccc9ff585",
        "IPY_MODEL_70208ebe661f4bb48da566b6cae5c77d",
        "IPY_MODEL_d19cda4a2f8449c6a55ffbce5dd3e62d",
        "IPY_MODEL_6cb9fb34d31a43bdb35fe28b87b60957",
        "IPY_MODEL_6c09ffd1dfde46c8926e55d2ed27bcf9",
        "IPY_MODEL_14af54992bbe4274a2250a78576e7e71",
        "IPY_MODEL_77a923b142014f27bb09afc22fee8c56",
        "IPY_MODEL_18fe99c9fd9e45898be8a6f5b63628ad",
        "IPY_MODEL_a4c194c3bf254067816966577e8a6621",
        "IPY_MODEL_4b306da98c274d5da3095dd56aa7ef0e",
        "IPY_MODEL_2685a65bef0b48c6a0ba2812ba16840d",
        "IPY_MODEL_23e01312eb844cec8cf7889150831afc",
        "IPY_MODEL_d200b6999dc546298528e7fc360ecd7b",
        "IPY_MODEL_d9e7ed1c494d4214968e5393268c3ecf",
        "IPY_MODEL_6986869030bf48d095b1811dde957f58",
        "IPY_MODEL_7a358a1d7fa84133a2e5792eda4ec50d",
        "IPY_MODEL_5a4fb9b4ba9f473eb8178f3c09a9f605",
        "IPY_MODEL_ee1553b4babd430e995d1d6391ff2348",
        "IPY_MODEL_0e5c2e0930df452a9e61b0a0efe66693",
        "IPY_MODEL_f2cfa9c29b1b4198b8e316d38eccac86",
        "IPY_MODEL_042364b6ccd24e35b5720569ce97dcf9",
        "IPY_MODEL_3e8ae4814264416e999f56c055477152"
       ],
       "nodes": [
        "IPY_MODEL_526868a948a2409fa08e8279b2a9d6ef",
        "IPY_MODEL_ee7ddcc8ef774ed0962f8b64defe2dfe",
        "IPY_MODEL_ad3247af84c545f58ba944bc14825af5",
        "IPY_MODEL_e3f979b7f22c4939820cf05ede9e4abc",
        "IPY_MODEL_aa6e259226104f529f8266e82b27181e",
        "IPY_MODEL_c1d3b68357294299b1c19f895af43733",
        "IPY_MODEL_e83856fe29d947359bee7f99afc37ec8",
        "IPY_MODEL_830e4b44d250477f95c267898f85c0fe",
        "IPY_MODEL_be2bf7c69e9f43ecb09dae1845e9b3ad",
        "IPY_MODEL_80772695cb1245b38c03fc2bf20dd28d",
        "IPY_MODEL_5971ca4cc42d47c19da5fa13c11eddf0",
        "IPY_MODEL_0f94f9c62a744671ab9aa8373afa7a4f",
        "IPY_MODEL_a0710a36a2e74c82882689e9fc0ff888",
        "IPY_MODEL_4860bfc56a414f4c9923750ca5aac9ab",
        "IPY_MODEL_1af6a11b10da424bb9cbbc98673bc2f7",
        "IPY_MODEL_8c6fc78b8b214313939ae2baf6aba467",
        "IPY_MODEL_4123f67687ab4737abab054cc501bd16",
        "IPY_MODEL_d044b9ae3c784d64a387e39df92c3e5a",
        "IPY_MODEL_e2cb27144e27417fa88fb91ca2452499",
        "IPY_MODEL_4034cb1d94a5402bad6e6515466f7eb9",
        "IPY_MODEL_3545667d1f8f48d8820b83ecb0182202",
        "IPY_MODEL_a652f65f873d4347ab6f8cf6210f38fb",
        "IPY_MODEL_24123ffc20dc441aae4022c09f8b6a4a",
        "IPY_MODEL_cab7e5d119c2463fad8eeccc76eef16c",
        "IPY_MODEL_7902a0c0df824f1f9309c5d30c202e45",
        "IPY_MODEL_3cef0682fee546058888f93e25ce9058"
       ]
      }
     },
     "3545667d1f8f48d8820b83ecb0182202": {
      "model_module": "jupyter-cytoscape",
      "model_module_version": "^1.2.2",
      "model_name": "NodeModel",
      "state": {
       "_model_module_version": "^1.2.2",
       "_view_module_version": "^1.2.2",
       "data": {
        "id": "\nUBERON:0018675: pelvic splanchnic nerve"
       },
       "grabbable": true,
       "grabbed": false,
       "selectable": false
      }
     },
     "35c845760996409d9f0238989323d5b0": {
      "model_module": "jupyter-cytoscape",
      "model_module_version": "^1.2.2",
      "model_name": "EdgeModel",
      "state": {
       "_model_module_version": "^1.2.2",
       "_view_module_version": "^1.2.2",
       "classes": " directed ",
       "data": {
        "directed": true,
        "id": 23,
        "source": "UBERON:0016549: central nervous system white matter layer\nUBERON:0006489: C2 segment of cervical spinal cord",
        "target": "UBERON:0016549: central nervous system white matter layer\nUBERON:0006488: C3 segment of cervical spinal cord"
       },
       "selectable": false
      }
     },
     "3628ba5fe5b9437b96428f31e0b41a71": {
      "model_module": "jupyter-cytoscape",
      "model_module_version": "^1.2.2",
      "model_name": "EdgeModel",
      "state": {
       "_model_module_version": "^1.2.2",
       "_view_module_version": "^1.2.2",
       "classes": " directed ",
       "data": {
        "directed": true,
        "id": 12,
        "source": "\nFMA:65911: Gray communicating ramus of second lumbar nerve",
        "target": "\nUBERON:0018683: lumbar splanchnic nerve"
       },
       "selectable": false
      }
     },
     "36cf3a2e9f31441ba0f0c9c9966b7148": {
      "model_module": "jupyter-cytoscape",
      "model_module_version": "^1.2.2",
      "model_name": "EdgeModel",
      "state": {
       "_model_module_version": "^1.2.2",
       "_view_module_version": "^1.2.2",
       "classes": " directed ",
       "data": {
        "directed": true,
        "id": 3,
        "source": "\nFMA:12697: White communicating ramus of first lumbar anterior ramus",
        "target": "\nFMA:6540: First lumbar ganglion"
       },
       "selectable": false
      }
     },
     "37441dd3cebf4dda84ce6a7f0485c950": {
      "model_module": "jupyter-cytoscape",
      "model_module_version": "^1.2.2",
      "model_name": "EdgeModel",
      "state": {
       "_model_module_version": "^1.2.2",
       "_view_module_version": "^1.2.2",
       "classes": " directed ",
       "data": {
        "directed": true,
        "id": 6,
        "source": "\nEMAPA:25281",
        "target": "\nUBERON:0018675: pelvic splanchnic nerve"
       },
       "selectable": false
      }
     },
     "3768745cd9ce411782cee0a86b89481b": {
      "model_module": "jupyter-cytoscape",
      "model_module_version": "^1.2.2",
      "model_name": "EdgeModel",
      "state": {
       "_model_module_version": "^1.2.2",
       "_view_module_version": "^1.2.2",
       "classes": " directed ",
       "data": {
        "directed": true,
        "id": "1",
        "source": "UBERON:0016549: central nervous system white matter layer\nUBERON:0006448: first lumbar spinal cord segment",
        "target": "UBERON:0006118: lamina I of gray matter of spinal cord\nUBERON:0006448: first lumbar spinal cord segment"
       },
       "selectable": false
      }
     },
     "376ee495232347d185167035c6ca579c": {
      "model_module": "jupyter-cytoscape",
      "model_module_version": "^1.2.2",
      "model_name": "CytoscapeModel",
      "state": {
       "_interaction_handlers": {},
       "_model_module_version": "^1.2.2",
       "_view_module_version": "^1.2.2",
       "auto_ungrabify": false,
       "autolock": false,
       "cytoscape_layout": {
        "name": "cola"
       },
       "cytoscape_style": [
        {
         "selector": "node",
         "style": {
          "background-color": "#80F0F0",
          "font-size": "10px",
          "label": "data(id)",
          "text-max-width": "80px",
          "text-valign": "center",
          "text-wrap": "wrap"
         }
        },
        {
         "selector": "edge.directed",
         "style": {
          "line-color": "#9dbaea",
          "mid-target-arrow-color": "#8090c0",
          "mid-target-arrow-shape": "triangle",
          "width": 2
         }
        }
       ],
       "desktop_tap_threshold": 4,
       "graph": "IPY_MODEL_b1966a710d4446b1b80077d320d29d28",
       "headless": false,
       "hide_edges_on_viewport": false,
       "layout": "IPY_MODEL_c0e14f39539e4313a8e8c6ff4b99a366",
       "max_zoom": 1e+50,
       "min_zoom": 1e-50,
       "motion_blur": false,
       "motion_blur_opacity": 0.2,
       "panning_enabled": true,
       "pixel_ratio": "auto",
       "rendered_position": {
        "renderedPosition": {
         "x": 100,
         "y": 100
        }
       },
       "selection_type": "single",
       "style_enabled": true,
       "texture_on_viewport": false,
       "tooltip_source": "tooltip",
       "touch_tap_threshold": 8,
       "user_panning_enabled": true,
       "user_zooming_enabled": true,
       "wheel_sensitivity": 1,
       "zoom": 2,
       "zooming_enabled": true
      }
     },
     "37b8b889357743cc88762a3cc24c3843": {
      "model_module": "jupyter-cytoscape",
      "model_module_version": "^1.2.2",
      "model_name": "NodeModel",
      "state": {
       "_model_module_version": "^1.2.2",
       "_view_module_version": "^1.2.2",
       "data": {
        "id": "UBERON:0016549: central nervous system white matter layer\nUBERON:0005844: spinal cord segment\n\nUBERON:0006448: first lumbar spinal cord segment"
       },
       "grabbable": true,
       "grabbed": false,
       "selectable": false
      }
     },
     "387993b1c1604de298f121d31b9bfc31": {
      "model_module": "jupyter-cytoscape",
      "model_module_version": "^1.2.2",
      "model_name": "EdgeModel",
      "state": {
       "_model_module_version": "^1.2.2",
       "_view_module_version": "^1.2.2",
       "classes": " directed ",
       "data": {
        "directed": true,
        "id": "0",
        "source": "UBERON:0016549: central nervous system white matter layer\nILX:0738432: Sixth lumbar spinal cord segment",
        "target": "UBERON:0002181: substantia gelatinosa\nILX:0738432: Sixth lumbar spinal cord segment"
       },
       "selectable": false
      }
     },
     "390ae7be3dcf4373afaf2138379774b6": {
      "model_module": "jupyter-cytoscape",
      "model_module_version": "^1.2.2",
      "model_name": "NodeModel",
      "state": {
       "_model_module_version": "^1.2.2",
       "_view_module_version": "^1.2.2",
       "data": {
        "id": "\nEMAPA:25269"
       },
       "grabbable": true,
       "grabbed": false,
       "position": {
        "x": 742.2668783285875,
        "y": 561.7802347642613
       },
       "selectable": false
      }
     },
     "394bb4b5d6a44f739fa851cb80775d59": {
      "model_module": "jupyter-cytoscape",
      "model_module_version": "^1.2.2",
      "model_name": "NodeModel",
      "state": {
       "_model_module_version": "^1.2.2",
       "_view_module_version": "^1.2.2",
       "data": {
        "id": "UBERON:0002181: substantia gelatinosa\nUBERON:0006450: second lumbar spinal cord segment"
       },
       "grabbable": true,
       "grabbed": false,
       "position": {
        "x": 408.10622472123254,
        "y": -249.58952717489527
       },
       "selectable": false
      }
     },
     "3960eef083fd4e02b6d0b8ce3815c664": {
      "model_module": "jupyter-cytoscape",
      "model_module_version": "^1.2.2",
      "model_name": "NodeModel",
      "state": {
       "_model_module_version": "^1.2.2",
       "_view_module_version": "^1.2.2",
       "data": {
        "id": "UBERON:0016549: central nervous system white matter layer\nUBERON:0006457: first thoracic spinal cord segment"
       },
       "grabbable": true,
       "grabbed": false,
       "selectable": false
      }
     },
     "39b6577a39ee4188849f47537ce61284": {
      "model_module": "jupyter-cytoscape",
      "model_module_version": "^1.2.2",
      "model_name": "NodeModel",
      "state": {
       "_model_module_version": "^1.2.2",
       "_view_module_version": "^1.2.2",
       "data": {
        "id": "UBERON:0001135: smooth muscle tissue\nUBERON:0006082: fundus of urinary bladder"
       },
       "grabbable": true,
       "grabbed": false,
       "selectable": false
      }
     },
     "39d343e7936d4aadab4c83b6d67b4c43": {
      "model_module": "jupyter-cytoscape",
      "model_module_version": "^1.2.2",
      "model_name": "NodeModel",
      "state": {
       "_model_module_version": "^1.2.2",
       "_view_module_version": "^1.2.2",
       "data": {
        "id": "UBERON:0016549: central nervous system white matter layer\nUBERON:0006460: first sacral spinal cord segment"
       },
       "grabbable": true,
       "grabbed": false,
       "position": {
        "x": 481.5216177411008,
        "y": -136.60259911503866
       },
       "selectable": false
      }
     },
     "3a5d5b56678644c59cca009f3f7667e5": {
      "model_module": "jupyter-cytoscape",
      "model_module_version": "^1.2.2",
      "model_name": "NodeModel",
      "state": {
       "_model_module_version": "^1.2.2",
       "_view_module_version": "^1.2.2",
       "data": {
        "id": "UBERON:0016580: lamina IX of gray matter of spinal cord\nUBERON:0005844: spinal cord segment\n\nILX:0738432: Sixth lumbar spinal cord segment"
       },
       "grabbable": true,
       "grabbed": false,
       "selectable": false
      }
     },
     "3aa89dfcec5c4a6093b73a5fb0b05c6a": {
      "model_module": "jupyter-cytoscape",
      "model_module_version": "^1.2.2",
      "model_name": "EdgeModel",
      "state": {
       "_model_module_version": "^1.2.2",
       "_view_module_version": "^1.2.2",
       "classes": " directed ",
       "data": {
        "directed": true,
        "id": 0,
        "source": "\nEMAPA:31526",
        "target": "UBERON:0002384: connective tissue\nUBERON:0001258: neck of urinary bladder"
       },
       "selectable": false
      }
     },
     "3b9f92856ec24fbcbc511e365747f7e3": {
      "model_module": "jupyter-cytoscape",
      "model_module_version": "^1.2.2",
      "model_name": "EdgeModel",
      "state": {
       "_model_module_version": "^1.2.2",
       "_view_module_version": "^1.2.2",
       "classes": " directed ",
       "data": {
        "directed": true,
        "id": "23",
        "source": "UBERON:0002384: connective tissue\nUBERON:0001258: neck of urinary bladder",
        "target": "UBERON:0001135: smooth muscle tissue\nUBERON:0001258: neck of urinary bladder"
       },
       "selectable": false
      }
     },
     "3c36a3f454764255a1792fe158871d8d": {
      "model_module": "jupyter-cytoscape",
      "model_module_version": "^1.2.2",
      "model_name": "EdgeModel",
      "state": {
       "_model_module_version": "^1.2.2",
       "_view_module_version": "^1.2.2",
       "classes": " directed ",
       "data": {
        "directed": true,
        "id": 0,
        "source": "\nUBERON:0002430: lateral hypothalamic area\nUBERON:0001017: central nervous system\nUBERON:0001894: diencephalon",
        "target": "UBERON:0001017: central nervous system\nUBERON:0001894: diencephalon"
       },
       "selectable": false
      }
     },
     "3cef0682fee546058888f93e25ce9058": {
      "model_module": "jupyter-cytoscape",
      "model_module_version": "^1.2.2",
      "model_name": "NodeModel",
      "state": {
       "_model_module_version": "^1.2.2",
       "_view_module_version": "^1.2.2",
       "data": {
        "id": "\nFMA:65986: Gray communicating ramus of first sacral nerve"
       },
       "grabbable": true,
       "grabbed": false,
       "selectable": false
      }
     },
     "3e721b7113b8400ca08205d323e1956d": {
      "model_module": "jupyter-cytoscape",
      "model_module_version": "^1.2.2",
      "model_name": "EdgeModel",
      "state": {
       "_model_module_version": "^1.2.2",
       "_view_module_version": "^1.2.2",
       "classes": " directed ",
       "data": {
        "directed": true,
        "id": 0,
        "source": "UBERON:0016549: central nervous system white matter layer\nILX:0738432: Sixth lumbar spinal cord segment",
        "target": "UBERON:0002181: substantia gelatinosa\nILX:0738432: Sixth lumbar spinal cord segment"
       },
       "selectable": false
      }
     },
     "3e87d304c25a4be8b373c98f3772a6f5": {
      "model_module": "jupyter-cytoscape",
      "model_module_version": "^1.2.2",
      "model_name": "NodeModel",
      "state": {
       "_model_module_version": "^1.2.2",
       "_view_module_version": "^1.2.2",
       "data": {
        "id": "UBERON:0016549: central nervous system white matter layer\nUBERON:0006493: C7 segment of cervical spinal cord"
       },
       "grabbable": true,
       "grabbed": false,
       "selectable": false
      }
     },
     "3e8ae4814264416e999f56c055477152": {
      "model_module": "jupyter-cytoscape",
      "model_module_version": "^1.2.2",
      "model_name": "EdgeModel",
      "state": {
       "_model_module_version": "^1.2.2",
       "_view_module_version": "^1.2.2",
       "classes": " directed ",
       "data": {
        "directed": true,
        "id": 67,
        "source": "\nFMA:65986: Gray communicating ramus of first sacral nerve",
        "target": "\nUBERON:0018675: pelvic splanchnic nerve"
       },
       "selectable": false
      }
     },
     "3f86a4bf9175408580ac665e6ee98d22": {
      "model_module": "jupyter-cytoscape",
      "model_module_version": "^1.2.2",
      "model_name": "EdgeModel",
      "state": {
       "_model_module_version": "^1.2.2",
       "_view_module_version": "^1.2.2",
       "classes": " directed ",
       "data": {
        "directed": true,
        "id": "9",
        "source": "UBERON:0016549: central nervous system white matter layer\nUBERON:0006460: first sacral spinal cord segment",
        "target": "UBERON:0016578: lamina VII of gray matter of spinal cord\nUBERON:0006460: first sacral spinal cord segment"
       },
       "selectable": false
      }
     },
     "3fad53fd7fbc4b4e96609ebf95a68544": {
      "model_module": "jupyter-cytoscape",
      "model_module_version": "^1.2.2",
      "model_name": "NodeModel",
      "state": {
       "_model_module_version": "^1.2.2",
       "_view_module_version": "^1.2.2",
       "data": {
        "id": "UBERON:0001135: smooth muscle tissue\nUBERON:0001258: neck of urinary bladder"
       },
       "grabbable": true,
       "grabbed": false,
       "selectable": false
      }
     },
     "4034cb1d94a5402bad6e6515466f7eb9": {
      "model_module": "jupyter-cytoscape",
      "model_module_version": "^1.2.2",
      "model_name": "NodeModel",
      "state": {
       "_model_module_version": "^1.2.2",
       "_view_module_version": "^1.2.2",
       "data": {
        "id": "UBERON:0035965: wall of blood vessel\nUBERON:0001981: blood vessel\nUBERON:0002384: connective tissue\nUBERON:0006082: fundus of urinary bladder"
       },
       "grabbable": true,
       "grabbed": false,
       "selectable": false
      }
     },
     "4038c993f9cd4c42a9b1ff11e5079ec5": {
      "model_module": "jupyter-cytoscape",
      "model_module_version": "^1.2.2",
      "model_name": "CytoscapeModel",
      "state": {
       "_interaction_handlers": {},
       "_model_module_version": "^1.2.2",
       "_view_module_version": "^1.2.2",
       "auto_ungrabify": false,
       "autolock": false,
       "cytoscape_layout": {
        "name": "cola"
       },
       "cytoscape_style": [
        {
         "selector": "node",
         "style": {
          "background-color": "#80F0F0",
          "font-size": "10px",
          "label": "data(id)",
          "text-max-width": "80px",
          "text-valign": "center",
          "text-wrap": "wrap"
         }
        },
        {
         "selector": "edge.directed",
         "style": {
          "line-color": "#9dbaea",
          "mid-target-arrow-color": "#8090c0",
          "mid-target-arrow-shape": "triangle",
          "width": 2
         }
        }
       ],
       "desktop_tap_threshold": 4,
       "graph": "IPY_MODEL_6775c30a9d6b422aab0a7612eec074b4",
       "headless": false,
       "hide_edges_on_viewport": false,
       "layout": "IPY_MODEL_176d9811625a4effacdd8807d4f42bd2",
       "max_zoom": 1e+50,
       "min_zoom": 1e-50,
       "motion_blur": false,
       "motion_blur_opacity": 0.2,
       "panning_enabled": true,
       "pixel_ratio": "auto",
       "rendered_position": {
        "renderedPosition": {
         "x": 100,
         "y": 100
        }
       },
       "selection_type": "single",
       "style_enabled": true,
       "texture_on_viewport": false,
       "tooltip_source": "tooltip",
       "touch_tap_threshold": 8,
       "user_panning_enabled": true,
       "user_zooming_enabled": true,
       "wheel_sensitivity": 1,
       "zoom": 2,
       "zooming_enabled": true
      }
     },
     "4123f67687ab4737abab054cc501bd16": {
      "model_module": "jupyter-cytoscape",
      "model_module_version": "^1.2.2",
      "model_name": "NodeModel",
      "state": {
       "_model_module_version": "^1.2.2",
       "_view_module_version": "^1.2.2",
       "data": {
        "id": "\nILX:0777089: L2 - L3 interganglionic segment"
       },
       "grabbable": true,
       "grabbed": false,
       "selectable": false
      }
     },
     "4187beaa84434e6689709285d6dd16a6": {
      "model_module": "jupyter-cytoscape",
      "model_module_version": "^1.2.2",
      "model_name": "GraphModel",
      "state": {
       "_adj": {
        "\nUBERON:0002430: lateral hypothalamic area\nUBERON:0001017: central nervous system\nUBERON:0001894: diencephalon": {},
        "\nUBERON:0007632: Barrington's nucleus\nUBERON:0001017: central nervous system\nUBERON:0000988: pons": {},
        "UBERON:0001017: central nervous system\nUBERON:0000988: pons": {},
        "UBERON:0001017: central nervous system\nUBERON:0001891: midbrain": {},
        "UBERON:0001017: central nervous system\nUBERON:0001894: diencephalon": {}
       },
       "_model_module_version": "^1.2.2",
       "_view_module": "jupyter-cytoscape",
       "_view_module_version": "^1.2.2",
       "edges": [
        "IPY_MODEL_3c36a3f454764255a1792fe158871d8d",
        "IPY_MODEL_4a234c6794b54d6cab860046ec0e353f",
        "IPY_MODEL_114457cabc314d03928a09f52925d45f",
        "IPY_MODEL_f14cc6e8486b45608fc2f286f601ded8"
       ],
       "nodes": [
        "IPY_MODEL_b45bdcd1983948a0a8551d80f3d708d3",
        "IPY_MODEL_f08ac9c392e444d7bb1b64153f3f3a0a",
        "IPY_MODEL_9b15c161455f4a40903f348a2937c42f",
        "IPY_MODEL_1269198802474eea8509ca2b86f123d7",
        "IPY_MODEL_762d50b7b5594ddcb587b08416afda96"
       ]
      }
     },
     "42045e4864984443882948fed5d18f11": {
      "model_module": "jupyter-cytoscape",
      "model_module_version": "^1.2.2",
      "model_name": "NodeModel",
      "state": {
       "_model_module_version": "^1.2.2",
       "_view_module_version": "^1.2.2",
       "data": {
        "id": "UBERON:0016578: lamina VII of gray matter of spinal cord\nILX:0738432: Sixth lumbar spinal cord segment"
       },
       "grabbable": true,
       "grabbed": false,
       "selectable": false
      }
     },
     "420a5002dd344efd9ef2bdb9904fa6c7": {
      "model_module": "jupyter-cytoscape",
      "model_module_version": "^1.2.2",
      "model_name": "NodeModel",
      "state": {
       "_model_module_version": "^1.2.2",
       "_view_module_version": "^1.2.2",
       "data": {
        "id": "EMAPA:32269\nUBERON:0000057: urethra"
       },
       "grabbable": true,
       "grabbed": false,
       "selectable": false
      }
     },
     "4215088e59224440be1bcdab31e7cb89": {
      "model_module": "jupyter-cytoscape",
      "model_module_version": "^1.2.2",
      "model_name": "EdgeModel",
      "state": {
       "_model_module_version": "^1.2.2",
       "_view_module_version": "^1.2.2",
       "classes": " directed ",
       "data": {
        "directed": true,
        "id": "28",
        "source": "\nUBERON:0005303: hypogastric nerve",
        "target": "\nUBERON:0016508: pelvic ganglion"
       },
       "selectable": false
      }
     },
     "425e4624bc04401fa1496eff03e24eae": {
      "model_module": "jupyter-cytoscape",
      "model_module_version": "^1.2.2",
      "model_name": "EdgeModel",
      "state": {
       "_model_module_version": "^1.2.2",
       "_view_module_version": "^1.2.2",
       "classes": " directed ",
       "data": {
        "directed": true,
        "id": 1,
        "source": "UBERON:0016549: central nervous system white matter layer\nILX:0738432: Sixth lumbar spinal cord segment",
        "target": "UBERON:0006118: lamina I of gray matter of spinal cord\nILX:0738432: Sixth lumbar spinal cord segment"
       },
       "selectable": false
      }
     },
     "42956f7f7cca442fa1525f22f25f917f": {
      "model_module": "jupyter-cytoscape",
      "model_module_version": "^1.2.2",
      "model_name": "EdgeModel",
      "state": {
       "_model_module_version": "^1.2.2",
       "_view_module_version": "^1.2.2",
       "classes": " directed ",
       "data": {
        "directed": true,
        "id": 2,
        "source": "\nEMAPA:25279",
        "target": "\nUBERON:0018675: pelvic splanchnic nerve"
       },
       "selectable": false
      }
     },
     "42f8aad40060485bafe39f20f2a4392f": {
      "model_module": "@jupyter-widgets/base",
      "model_module_version": "1.2.0",
      "model_name": "LayoutModel",
      "state": {}
     },
     "432d2bd0e83b48c2add2a55dae6def68": {
      "model_module": "jupyter-cytoscape",
      "model_module_version": "^1.2.2",
      "model_name": "EdgeModel",
      "state": {
       "_model_module_version": "^1.2.2",
       "_view_module_version": "^1.2.2",
       "classes": " directed ",
       "data": {
        "directed": true,
        "id": 4,
        "source": "UBERON:0002384: connective tissue\nUBERON:0006082: fundus of urinary bladder",
        "target": "UBERON:0001135: smooth muscle tissue\nUBERON:0006082: fundus of urinary bladder"
       },
       "selectable": false
      }
     },
     "43756b485c3f4fbfba593053bbf14372": {
      "model_module": "jupyter-cytoscape",
      "model_module_version": "^1.2.2",
      "model_name": "NodeModel",
      "state": {
       "_model_module_version": "^1.2.2",
       "_view_module_version": "^1.2.2",
       "data": {
        "id": "\nUBERON:0005453: inferior mesenteric ganglion"
       },
       "grabbable": true,
       "grabbed": false,
       "selectable": false
      }
     },
     "44588571d3cf45e5ae6a920184558c9e": {
      "model_module": "jupyter-cytoscape",
      "model_module_version": "^1.2.2",
      "model_name": "EdgeModel",
      "state": {
       "_model_module_version": "^1.2.2",
       "_view_module_version": "^1.2.2",
       "classes": " directed ",
       "data": {
        "directed": true,
        "id": 2,
        "source": "UBERON:0016549: central nervous system white matter layer\nUBERON:0006470: C8 segment of cervical spinal cord",
        "target": "UBERON:0016549: central nervous system white matter layer\nUBERON:0006457: first thoracic spinal cord segment"
       },
       "selectable": false
      }
     },
     "44b33e76a6ba492186c4f0459ded8097": {
      "model_module": "jupyter-cytoscape",
      "model_module_version": "^1.2.2",
      "model_name": "EdgeModel",
      "state": {
       "_model_module_version": "^1.2.2",
       "_view_module_version": "^1.2.2",
       "classes": " directed ",
       "data": {
        "directed": true,
        "id": "0",
        "source": "UBERON:0016549: central nervous system white matter layer\nUBERON:0006448: first lumbar spinal cord segment",
        "target": "UBERON:0002181: substantia gelatinosa\nUBERON:0006448: first lumbar spinal cord segment"
       },
       "selectable": false
      }
     },
     "4513cd5e762e4375b4263b19432407b1": {
      "model_module": "jupyter-cytoscape",
      "model_module_version": "^1.2.2",
      "model_name": "NodeModel",
      "state": {
       "_model_module_version": "^1.2.2",
       "_view_module_version": "^1.2.2",
       "data": {
        "id": "UBERON:0016578: lamina VII of gray matter of spinal cord\nILX:0738432: Sixth lumbar spinal cord segment"
       },
       "grabbable": true,
       "grabbed": false,
       "selectable": false
      }
     },
     "4577d36785f24b4789f8635823e03aa9": {
      "model_module": "@jupyter-widgets/base",
      "model_module_version": "1.2.0",
      "model_name": "LayoutModel",
      "state": {}
     },
     "45d38914cfa2411fa6fef378a3b38ce6": {
      "model_module": "jupyter-cytoscape",
      "model_module_version": "^1.2.2",
      "model_name": "NodeModel",
      "state": {
       "_model_module_version": "^1.2.2",
       "_view_module_version": "^1.2.2",
       "data": {
        "id": "UBERON:0006118: lamina I of gray matter of spinal cord\nILX:0738432: Sixth lumbar spinal cord segment"
       },
       "grabbable": true,
       "grabbed": false,
       "selectable": false
      }
     },
     "45e6755d6f124795a0232a16674e7e44": {
      "model_module": "jupyter-cytoscape",
      "model_module_version": "^1.2.2",
      "model_name": "NodeModel",
      "state": {
       "_model_module_version": "^1.2.2",
       "_view_module_version": "^1.2.2",
       "data": {
        "id": "\nEMAPA:25279"
       },
       "grabbable": true,
       "grabbed": false,
       "selectable": false
      }
     },
     "461b09e08f4b43baa8fe1d154589cf03": {
      "model_module": "jupyter-cytoscape",
      "model_module_version": "^1.2.2",
      "model_name": "EdgeModel",
      "state": {
       "_model_module_version": "^1.2.2",
       "_view_module_version": "^1.2.2",
       "classes": " directed ",
       "data": {
        "directed": true,
        "id": 58,
        "source": "\nEMAPA:31526",
        "target": "UBERON:0002384: connective tissue\nUBERON:0006082: fundus of urinary bladder"
       },
       "selectable": false
      }
     },
     "471dffe9f97044bea15a2cdea97f5ac9": {
      "model_module": "jupyter-cytoscape",
      "model_module_version": "^1.2.2",
      "model_name": "NodeModel",
      "state": {
       "_model_module_version": "^1.2.2",
       "_view_module_version": "^1.2.2",
       "data": {
        "id": "\nUBERON:0018683: lumbar splanchnic nerve"
       },
       "grabbable": true,
       "grabbed": false,
       "selectable": false
      }
     },
     "4824f80cc56c4698881cb3e583e45a84": {
      "model_module": "jupyter-cytoscape",
      "model_module_version": "^1.2.2",
      "model_name": "NodeModel",
      "state": {
       "_model_module_version": "^1.2.2",
       "_view_module_version": "^1.2.2",
       "data": {
        "id": "UBERON:0016578: lamina VII of gray matter of spinal cord\nUBERON:0006448: first lumbar spinal cord segment\n\nUBERON:0005844: spinal cord segment"
       },
       "grabbable": true,
       "grabbed": false,
       "position": {
        "x": 862.6585649431073,
        "y": 729.3647309011976
       },
       "selectable": false
      }
     },
     "4860bfc56a414f4c9923750ca5aac9ab": {
      "model_module": "jupyter-cytoscape",
      "model_module_version": "^1.2.2",
      "model_name": "NodeModel",
      "state": {
       "_model_module_version": "^1.2.2",
       "_view_module_version": "^1.2.2",
       "data": {
        "id": "\nFMA:6540: First lumbar ganglion"
       },
       "grabbable": true,
       "grabbed": false,
       "selectable": false
      }
     },
     "4a0749f3c96c4e0a9cbd0cb807a4cc8b": {
      "model_module": "jupyter-cytoscape",
      "model_module_version": "^1.2.2",
      "model_name": "EdgeModel",
      "state": {
       "_model_module_version": "^1.2.2",
       "_view_module_version": "^1.2.2",
       "classes": " directed ",
       "data": {
        "directed": true,
        "id": 1,
        "source": "UBERON:0016549: central nervous system white matter layer\nUBERON:0005844: spinal cord segment\n\nILX:0738432: Sixth lumbar spinal cord segment",
        "target": "\nEMAPA:25279"
       },
       "selectable": false
      }
     },
     "4a234c6794b54d6cab860046ec0e353f": {
      "model_module": "jupyter-cytoscape",
      "model_module_version": "^1.2.2",
      "model_name": "EdgeModel",
      "state": {
       "_model_module_version": "^1.2.2",
       "_view_module_version": "^1.2.2",
       "classes": " directed ",
       "data": {
        "directed": true,
        "id": 1,
        "source": "UBERON:0001017: central nervous system\nUBERON:0001894: diencephalon",
        "target": "UBERON:0001017: central nervous system\nUBERON:0001891: midbrain"
       },
       "selectable": false
      }
     },
     "4b306da98c274d5da3095dd56aa7ef0e": {
      "model_module": "jupyter-cytoscape",
      "model_module_version": "^1.2.2",
      "model_name": "EdgeModel",
      "state": {
       "_model_module_version": "^1.2.2",
       "_view_module_version": "^1.2.2",
       "classes": " directed ",
       "data": {
        "directed": true,
        "id": 20,
        "source": "\nILX:0777087: T13 - L1 Interganglionic segment",
        "target": "\nFMA:6540: First lumbar ganglion"
       },
       "selectable": false
      }
     },
     "4b3d14e5b961405f874cb68fae44d306": {
      "model_module": "jupyter-cytoscape",
      "model_module_version": "^1.2.2",
      "model_name": "EdgeModel",
      "state": {
       "_model_module_version": "^1.2.2",
       "_view_module_version": "^1.2.2",
       "classes": " directed ",
       "data": {
        "directed": true,
        "id": "31",
        "source": "\nUBERON:0002856: second lumbar dorsal root ganglion",
        "target": "\nUBERON:0018683: lumbar splanchnic nerve"
       },
       "selectable": false
      }
     },
     "4b60f9365f5340568b7f385a840cb0d1": {
      "model_module": "jupyter-cytoscape",
      "model_module_version": "^1.2.2",
      "model_name": "NodeModel",
      "state": {
       "_model_module_version": "^1.2.2",
       "_view_module_version": "^1.2.2",
       "data": {
        "id": "UBERON:0001017: central nervous system\nUBERON:0001893: cerebrum"
       },
       "grabbable": true,
       "grabbed": false,
       "selectable": false
      }
     },
     "4b812ac71f664796bdc0372ad81b62e4": {
      "model_module": "jupyter-cytoscape",
      "model_module_version": "^1.2.2",
      "model_name": "NodeModel",
      "state": {
       "_model_module_version": "^1.2.2",
       "_view_module_version": "^1.2.2",
       "data": {
        "id": "\nFMA:12698: White communicating ramus of second lumbar anterior ramus"
       },
       "grabbable": true,
       "grabbed": false,
       "selectable": false
      }
     },
     "4bfabd119fe24d4481662fc0c65d4fcf": {
      "model_module": "jupyter-cytoscape",
      "model_module_version": "^1.2.2",
      "model_name": "GraphModel",
      "state": {
       "_adj": {
        "\nUBERON:0001931: lateral preoptic nucleus\nUBERON:0001017: central nervous system\nUBERON:0001894: diencephalon": {},
        "\nUBERON:0007632: Barrington's nucleus\nUBERON:0001017: central nervous system\nUBERON:0000988: pons": {},
        "UBERON:0001017: central nervous system\nUBERON:0000988: pons": {},
        "UBERON:0001017: central nervous system\nUBERON:0001891: midbrain": {},
        "UBERON:0001017: central nervous system\nUBERON:0001894: diencephalon": {}
       },
       "_model_module_version": "^1.2.2",
       "_view_module": "jupyter-cytoscape",
       "_view_module_version": "^1.2.2",
       "edges": [
        "IPY_MODEL_2fb450bdff654f62893f27d483165f53",
        "IPY_MODEL_90c826e1a5e5466e82c4d9f1ffe18733",
        "IPY_MODEL_bb9f498c6c87469d826195fbfd6b9f63",
        "IPY_MODEL_7f13ca52ad7842dabf34a9efdf4fe54a"
       ],
       "nodes": [
        "IPY_MODEL_0d1af2a4106e427ea2e0424dd82933f8",
        "IPY_MODEL_2661807d75704383880b7b26fbf0a8bf",
        "IPY_MODEL_9f7541077ddc49a19c6ad9c35268a826",
        "IPY_MODEL_c79c124edf2b40329f7c6d3573bb233e",
        "IPY_MODEL_53ec20d7390f4a5cab35cfaa7bd92434"
       ]
      }
     },
     "4c036377ac36444bbbc185ed9e786dfb": {
      "model_module": "jupyter-cytoscape",
      "model_module_version": "^1.2.2",
      "model_name": "EdgeModel",
      "state": {
       "_model_module_version": "^1.2.2",
       "_view_module_version": "^1.2.2",
       "classes": " directed ",
       "data": {
        "directed": true,
        "id": 2,
        "source": "UBERON:0001017: central nervous system\nUBERON:0001891: midbrain",
        "target": "UBERON:0001017: central nervous system\nUBERON:0000988: pons"
       },
       "selectable": false
      }
     },
     "4ea2b506bd354101acf77a3400571f2d": {
      "model_module": "jupyter-cytoscape",
      "model_module_version": "^1.2.2",
      "model_name": "NodeModel",
      "state": {
       "_model_module_version": "^1.2.2",
       "_view_module_version": "^1.2.2",
       "data": {
        "id": "UBERON:0000483: epithelium\nUBERON:0006082: fundus of urinary bladder"
       },
       "grabbable": true,
       "grabbed": false,
       "position": {
        "x": 931.5053865256426,
        "y": 683.6979354716378
       },
       "selectable": false
      }
     },
     "4fec58e51fec424ab009375e843904a1": {
      "model_module": "jupyter-cytoscape",
      "model_module_version": "^1.2.2",
      "model_name": "EdgeModel",
      "state": {
       "_model_module_version": "^1.2.2",
       "_view_module_version": "^1.2.2",
       "classes": " directed ",
       "data": {
        "directed": true,
        "id": 29,
        "source": "UBERON:0016549: central nervous system white matter layer\nUBERON:0006447: fifth lumbar spinal cord segment",
        "target": "UBERON:0016549: central nervous system white matter layer\nILX:0738432: Sixth lumbar spinal cord segment"
       },
       "selectable": false
      }
     },
     "502425bfbfa2416eba529ea474f7adfc": {
      "model_module": "jupyter-cytoscape",
      "model_module_version": "^1.2.2",
      "model_name": "NodeModel",
      "state": {
       "_model_module_version": "^1.2.2",
       "_view_module_version": "^1.2.2",
       "data": {
        "id": "UBERON:0006118: lamina I of gray matter of spinal cord\nUBERON:0006448: first lumbar spinal cord segment"
       },
       "grabbable": true,
       "grabbed": false,
       "position": {
        "x": 32.95453093645611,
        "y": 323.016124126397
       },
       "selectable": false
      }
     },
     "51db9419a99147d0a08494f4a38111b7": {
      "model_module": "jupyter-cytoscape",
      "model_module_version": "^1.2.2",
      "model_name": "NodeModel",
      "state": {
       "_model_module_version": "^1.2.2",
       "_view_module_version": "^1.2.2",
       "data": {
        "id": "\nUBERON:0016508: pelvic ganglion"
       },
       "grabbable": true,
       "grabbed": false,
       "selectable": false
      }
     },
     "526868a948a2409fa08e8279b2a9d6ef": {
      "model_module": "jupyter-cytoscape",
      "model_module_version": "^1.2.2",
      "model_name": "NodeModel",
      "state": {
       "_model_module_version": "^1.2.2",
       "_view_module_version": "^1.2.2",
       "data": {
        "id": "\nEMAPA:31526"
       },
       "grabbable": true,
       "grabbed": false,
       "selectable": false
      }
     },
     "52c1932501b64574890da856ce89ab94": {
      "model_module": "jupyter-cytoscape",
      "model_module_version": "^1.2.2",
      "model_name": "EdgeModel",
      "state": {
       "_model_module_version": "^1.2.2",
       "_view_module_version": "^1.2.2",
       "classes": " directed ",
       "data": {
        "directed": true,
        "id": "14",
        "source": "\nFMA:65911: Gray communicating ramus of second lumbar nerve",
        "target": "\nUBERON:0018683: lumbar splanchnic nerve"
       },
       "selectable": false
      }
     },
     "53ec20d7390f4a5cab35cfaa7bd92434": {
      "model_module": "jupyter-cytoscape",
      "model_module_version": "^1.2.2",
      "model_name": "NodeModel",
      "state": {
       "_model_module_version": "^1.2.2",
       "_view_module_version": "^1.2.2",
       "data": {
        "id": "\nUBERON:0007632: Barrington's nucleus\nUBERON:0001017: central nervous system\nUBERON:0000988: pons"
       },
       "grabbable": true,
       "grabbed": false,
       "selectable": false
      }
     },
     "5426130c7df2457baa7729ce1abc8f48": {
      "model_module": "jupyter-cytoscape",
      "model_module_version": "^1.2.2",
      "model_name": "GraphModel",
      "state": {
       "_adj": {},
       "_model_module_version": "^1.2.2",
       "_view_module": "jupyter-cytoscape",
       "_view_module_version": "^1.2.2"
      }
     },
     "5561a8693b364fca81ac7f536e9c2cd6": {
      "model_module": "jupyter-cytoscape",
      "model_module_version": "^1.2.2",
      "model_name": "EdgeModel",
      "state": {
       "_model_module_version": "^1.2.2",
       "_view_module_version": "^1.2.2",
       "classes": " directed ",
       "data": {
        "directed": true,
        "id": 0,
        "source": "\nUBERON:0002625: median preoptic nucleus\nUBERON:0001017: central nervous system\nUBERON:0001894: diencephalon",
        "target": "UBERON:0001017: central nervous system\nUBERON:0001894: diencephalon"
       },
       "selectable": false
      }
     },
     "56d0d70fb43c4815aaaea8eb527459bd": {
      "model_module": "jupyter-cytoscape",
      "model_module_version": "^1.2.2",
      "model_name": "EdgeModel",
      "state": {
       "_model_module_version": "^1.2.2",
       "_view_module_version": "^1.2.2",
       "classes": " directed ",
       "data": {
        "directed": true,
        "id": 1,
        "source": "UBERON:0002384: connective tissue\nUBERON:0001258: neck of urinary bladder",
        "target": "UBERON:0001135: smooth muscle tissue\nUBERON:0001258: neck of urinary bladder"
       },
       "selectable": false
      }
     },
     "577cfbf05bdd4fd38d435482dd3cb702": {
      "model_module": "jupyter-cytoscape",
      "model_module_version": "^1.2.2",
      "model_name": "NodeModel",
      "state": {
       "_model_module_version": "^1.2.2",
       "_view_module_version": "^1.2.2",
       "data": {
        "id": "\nFMA:12697: White communicating ramus of first lumbar anterior ramus"
       },
       "grabbable": true,
       "grabbed": false,
       "position": {
        "x": 678.9730428440471,
        "y": 475.9586173155415
       },
       "selectable": false
      }
     },
     "58f2f21ab6274e088b39cd3f51174063": {
      "model_module": "jupyter-cytoscape",
      "model_module_version": "^1.2.2",
      "model_name": "EdgeModel",
      "state": {
       "_model_module_version": "^1.2.2",
       "_view_module_version": "^1.2.2",
       "classes": " directed ",
       "data": {
        "directed": true,
        "id": 4,
        "source": "UBERON:0001017: central nervous system\nUBERON:0000988: pons",
        "target": "\nUBERON:0007632: Barrington's nucleus\nUBERON:0001017: central nervous system\nUBERON:0000988: pons"
       },
       "selectable": false
      }
     },
     "590543a351364330b4a70c4db0a3f2ac": {
      "model_module": "jupyter-cytoscape",
      "model_module_version": "^1.2.2",
      "model_name": "NodeModel",
      "state": {
       "_model_module_version": "^1.2.2",
       "_view_module_version": "^1.2.2",
       "data": {
        "id": "\nUBERON:0016508: pelvic ganglion"
       },
       "grabbable": true,
       "grabbed": false,
       "position": {
        "x": 576.7188098196949,
        "y": 270.0864927488815
       },
       "selectable": false
      }
     },
     "5971ca4cc42d47c19da5fa13c11eddf0": {
      "model_module": "jupyter-cytoscape",
      "model_module_version": "^1.2.2",
      "model_name": "NodeModel",
      "state": {
       "_model_module_version": "^1.2.2",
       "_view_module_version": "^1.2.2",
       "data": {
        "id": "\nILX:0739297: sixth lumbar sympathetic ganglion"
       },
       "grabbable": true,
       "grabbed": false,
       "selectable": false
      }
     },
     "59d56f84eb054c3b95a30266ef9ec09e": {
      "model_module": "jupyter-cytoscape",
      "model_module_version": "^1.2.2",
      "model_name": "EdgeModel",
      "state": {
       "_model_module_version": "^1.2.2",
       "_view_module_version": "^1.2.2",
       "classes": " directed ",
       "data": {
        "directed": true,
        "id": "5",
        "source": "\nEMAPA:25269",
        "target": "\nFMA:12697: White communicating ramus of first lumbar anterior ramus"
       },
       "selectable": false
      }
     },
     "5a4fb9b4ba9f473eb8178f3c09a9f605": {
      "model_module": "jupyter-cytoscape",
      "model_module_version": "^1.2.2",
      "model_name": "EdgeModel",
      "state": {
       "_model_module_version": "^1.2.2",
       "_view_module_version": "^1.2.2",
       "classes": " directed ",
       "data": {
        "directed": true,
        "id": 60,
        "source": "\nUBERON:0018675: pelvic splanchnic nerve",
        "target": "\nUBERON:0016508: pelvic ganglion"
       },
       "selectable": false
      }
     },
     "5abf15cb5a02467b8861c7ebf056f423": {
      "model_module": "jupyter-cytoscape",
      "model_module_version": "^1.2.2",
      "model_name": "NodeModel",
      "state": {
       "_model_module_version": "^1.2.2",
       "_view_module_version": "^1.2.2",
       "data": {
        "id": "\nUBERON:0001880: bed nucleus of stria terminalis\nUBERON:0001017: central nervous system\nUBERON:0001893: cerebrum"
       },
       "grabbable": true,
       "grabbed": false,
       "selectable": false
      }
     },
     "5b02c8cfa77e42109f3f6c5fa1568853": {
      "model_module": "jupyter-cytoscape",
      "model_module_version": "^1.2.2",
      "model_name": "GraphModel",
      "state": {
       "_adj": {
        "\nEMAPA:25279": {},
        "\nEMAPA:25281": {},
        "\nUBERON:0016508: pelvic ganglion": {},
        "\nUBERON:0018675: pelvic splanchnic nerve": {},
        "UBERON:0016549: central nervous system white matter layer\nUBERON:0005844: spinal cord segment\n\nILX:0738432: Sixth lumbar spinal cord segment": {},
        "UBERON:0016549: central nervous system white matter layer\nUBERON:0006460: first sacral spinal cord segment\n\nUBERON:0005844: spinal cord segment": {},
        "UBERON:0016578: lamina VII of gray matter of spinal cord\nUBERON:0005844: spinal cord segment\n\nILX:0738432: Sixth lumbar spinal cord segment": {},
        "UBERON:0016578: lamina VII of gray matter of spinal cord\nUBERON:0006460: first sacral spinal cord segment\n\nUBERON:0005844: spinal cord segment": {}
       },
       "_model_module_version": "^1.2.2",
       "_view_module": "jupyter-cytoscape",
       "_view_module_version": "^1.2.2",
       "edges": [
        "IPY_MODEL_0ab5d029e2ff43feb00f2a63b479841d",
        "IPY_MODEL_4a0749f3c96c4e0a9cbd0cb807a4cc8b",
        "IPY_MODEL_42956f7f7cca442fa1525f22f25f917f",
        "IPY_MODEL_7983e1ff2ca24fcebc75e84c99a596e4",
        "IPY_MODEL_0ad31c64820b4019930402c473feddb4",
        "IPY_MODEL_c81c1ea3da5f422883e8469913c89afe",
        "IPY_MODEL_37441dd3cebf4dda84ce6a7f0485c950"
       ],
       "nodes": [
        "IPY_MODEL_e5bf730294d14834a57929fe86e2b4a5",
        "IPY_MODEL_ea1522bc715e4c5aa0588d8b492ba693",
        "IPY_MODEL_84fd15d3b27441e490e446e6d6c34b17",
        "IPY_MODEL_831512b89818427eb138f528562477eb",
        "IPY_MODEL_edb2f46e7ef54660b2acf2a889c4b3d8",
        "IPY_MODEL_a00c46f24f054d359555b2a65145121f",
        "IPY_MODEL_08f74c9678a64624a0152b3c65dff1ea",
        "IPY_MODEL_61d4af7dd42d4677ad39da24ce7ded98"
       ]
      }
     },
     "5bb3ae2ef45749bda108a7ce9b48a479": {
      "model_module": "jupyter-cytoscape",
      "model_module_version": "^1.2.2",
      "model_name": "NodeModel",
      "state": {
       "_model_module_version": "^1.2.2",
       "_view_module_version": "^1.2.2",
       "data": {
        "id": "UBERON:0002384: connective tissue\nUBERON:0001258: neck of urinary bladder"
       },
       "grabbable": true,
       "grabbed": false,
       "selectable": false
      }
     },
     "5bd8d91868d34e5b877ad2c60b2f0f74": {
      "model_module": "jupyter-cytoscape",
      "model_module_version": "^1.2.2",
      "model_name": "NodeModel",
      "state": {
       "_model_module_version": "^1.2.2",
       "_view_module_version": "^1.2.2",
       "data": {
        "id": "\nFMA:65910: Gray communicating ramus of first lumbar nerve"
       },
       "grabbable": true,
       "grabbed": false,
       "position": {
        "x": 541.6247579459945,
        "y": 303.26177528806966
       },
       "selectable": false
      }
     },
     "5c7e5e6ca0dd44288e93476300ec1014": {
      "model_module": "jupyter-cytoscape",
      "model_module_version": "^1.2.2",
      "model_name": "NodeModel",
      "state": {
       "_model_module_version": "^1.2.2",
       "_view_module_version": "^1.2.2",
       "data": {
        "id": "UBERON:0000483: epithelium\nUBERON:0006082: fundus of urinary bladder"
       },
       "grabbable": true,
       "grabbed": false,
       "position": {
        "x": 618.6403489688129,
        "y": 722.48777789529
       },
       "selectable": false
      }
     },
     "5dbb8f2d47a6436e88d0314bf445e9c0": {
      "model_module": "jupyter-cytoscape",
      "model_module_version": "^1.2.2",
      "model_name": "EdgeModel",
      "state": {
       "_model_module_version": "^1.2.2",
       "_view_module_version": "^1.2.2",
       "classes": " directed ",
       "data": {
        "directed": true,
        "id": 2,
        "source": "UBERON:0001017: central nervous system\nUBERON:0001891: midbrain",
        "target": "UBERON:0001017: central nervous system\nUBERON:0000988: pons"
       },
       "selectable": false
      }
     },
     "5e29c8d7485849fd8c9f24f727972964": {
      "model_module": "jupyter-cytoscape",
      "model_module_version": "^1.2.2",
      "model_name": "NodeModel",
      "state": {
       "_model_module_version": "^1.2.2",
       "_view_module_version": "^1.2.2",
       "data": {
        "id": "\nFMA:6541: Second lumbar ganglion"
       },
       "grabbable": true,
       "grabbed": false,
       "position": {
        "x": 537.3015989231086,
        "y": 3.725345275410133
       },
       "selectable": false
      }
     },
     "5e35dc2bec824dcba589eb31fd5e7ade": {
      "model_module": "jupyter-cytoscape",
      "model_module_version": "^1.2.2",
      "model_name": "EdgeModel",
      "state": {
       "_model_module_version": "^1.2.2",
       "_view_module_version": "^1.2.2",
       "classes": " directed ",
       "data": {
        "directed": true,
        "id": "16",
        "source": "UBERON:0002384: connective tissue\nUBERON:0006082: fundus of urinary bladder",
        "target": "UBERON:0001135: smooth muscle tissue\nUBERON:0006082: fundus of urinary bladder"
       },
       "selectable": false
      }
     },
     "5e8f7d6cb38e4b249f9443d9cc62cc7a": {
      "model_module": "jupyter-cytoscape",
      "model_module_version": "^1.2.2",
      "model_name": "NodeModel",
      "state": {
       "_model_module_version": "^1.2.2",
       "_view_module_version": "^1.2.2",
       "data": {
        "id": "UBERON:0002384: connective tissue\nUBERON:0001258: neck of urinary bladder"
       },
       "grabbable": true,
       "grabbed": false,
       "position": {
        "x": 1015.2092987899442,
        "y": 242.694964574119
       },
       "selectable": false
      }
     },
     "5edf728ad487490988550dc717312903": {
      "model_module": "jupyter-cytoscape",
      "model_module_version": "^1.2.2",
      "model_name": "EdgeModel",
      "state": {
       "_model_module_version": "^1.2.2",
       "_view_module_version": "^1.2.2",
       "classes": " directed ",
       "data": {
        "directed": true,
        "id": "22",
        "source": "\nEMAPA:31526",
        "target": "UBERON:0002384: connective tissue\nUBERON:0001258: neck of urinary bladder"
       },
       "selectable": false
      }
     },
     "6014557edc654ef6a9a0254cbf80917c": {
      "model_module": "jupyter-cytoscape",
      "model_module_version": "^1.2.2",
      "model_name": "NodeModel",
      "state": {
       "_model_module_version": "^1.2.2",
       "_view_module_version": "^1.2.2",
       "data": {
        "id": "UBERON:0016576: lamina V of gray matter of spinal cord\nILX:0738432: Sixth lumbar spinal cord segment"
       },
       "grabbable": true,
       "grabbed": false,
       "selectable": false
      }
     },
     "61a05568398240e7921fab855edf95e4": {
      "model_module": "jupyter-cytoscape",
      "model_module_version": "^1.2.2",
      "model_name": "EdgeModel",
      "state": {
       "_model_module_version": "^1.2.2",
       "_view_module_version": "^1.2.2",
       "classes": " directed ",
       "data": {
        "directed": true,
        "id": "25",
        "source": "\nUBERON:0018675: pelvic splanchnic nerve",
        "target": "\nUBERON:0016508: pelvic ganglion"
       },
       "selectable": false
      }
     },
     "61d4af7dd42d4677ad39da24ce7ded98": {
      "model_module": "jupyter-cytoscape",
      "model_module_version": "^1.2.2",
      "model_name": "NodeModel",
      "state": {
       "_model_module_version": "^1.2.2",
       "_view_module_version": "^1.2.2",
       "data": {
        "id": "\nEMAPA:25281"
       },
       "grabbable": true,
       "grabbed": false,
       "selectable": false
      }
     },
     "61e8dec8738a46978e3411432198ed98": {
      "model_module": "jupyter-cytoscape",
      "model_module_version": "^1.2.2",
      "model_name": "NodeModel",
      "state": {
       "_model_module_version": "^1.2.2",
       "_view_module_version": "^1.2.2",
       "data": {
        "id": "UBERON:0001017: central nervous system\nUBERON:0000988: pons"
       },
       "grabbable": true,
       "grabbed": false,
       "selectable": false
      }
     },
     "6236f6c740fd4b1f842072d9f6729807": {
      "model_module": "jupyter-cytoscape",
      "model_module_version": "^1.2.2",
      "model_name": "EdgeModel",
      "state": {
       "_model_module_version": "^1.2.2",
       "_view_module_version": "^1.2.2",
       "classes": " directed ",
       "data": {
        "directed": true,
        "id": "29",
        "source": "\nUBERON:0016508: pelvic ganglion",
        "target": "\nEMAPA:31526"
       },
       "selectable": false
      }
     },
     "6243de6000224bdaa9e317224c687ece": {
      "model_module": "jupyter-cytoscape",
      "model_module_version": "^1.2.2",
      "model_name": "NodeModel",
      "state": {
       "_model_module_version": "^1.2.2",
       "_view_module_version": "^1.2.2",
       "data": {
        "id": "UBERON:0016549: central nervous system white matter layer\nUBERON:0006448: first lumbar spinal cord segment"
       },
       "grabbable": true,
       "grabbed": false,
       "position": {
        "x": 157.3850715556786,
        "y": 344.40624012679837
       },
       "selectable": false
      }
     },
     "624c651196eb4ccb89bb71eef51ec667": {
      "model_module": "jupyter-cytoscape",
      "model_module_version": "^1.2.2",
      "model_name": "EdgeModel",
      "state": {
       "_model_module_version": "^1.2.2",
       "_view_module_version": "^1.2.2",
       "classes": " directed ",
       "data": {
        "directed": true,
        "id": "14",
        "source": "UBERON:0001135: smooth muscle tissue\nUBERON:0006082: fundus of urinary bladder",
        "target": "UBERON:0000483: epithelium\nUBERON:0006082: fundus of urinary bladder"
       },
       "selectable": false
      }
     },
     "62bc51362ec741bb8e13c4b985bef172": {
      "model_module": "jupyter-cytoscape",
      "model_module_version": "^1.2.2",
      "model_name": "EdgeModel",
      "state": {
       "_model_module_version": "^1.2.2",
       "_view_module_version": "^1.2.2",
       "classes": " directed ",
       "data": {
        "directed": true,
        "id": 2,
        "source": "\nEMAPA:25269",
        "target": "\nFMA:12697: White communicating ramus of first lumbar anterior ramus"
       },
       "selectable": false
      }
     },
     "631726b2acc0418a8e3ba96dab56c9f6": {
      "model_module": "jupyter-cytoscape",
      "model_module_version": "^1.2.2",
      "model_name": "NodeModel",
      "state": {
       "_model_module_version": "^1.2.2",
       "_view_module_version": "^1.2.2",
       "data": {
        "id": "UBERON:0016576: lamina V of gray matter of spinal cord\nUBERON:0006460: first sacral spinal cord segment"
       },
       "grabbable": true,
       "grabbed": false,
       "position": {
        "x": 491.9481342672297,
        "y": -264.0760601510481
       },
       "selectable": false
      }
     },
     "63224ead41b548ada233697289f28be7": {
      "model_module": "jupyter-cytoscape",
      "model_module_version": "^1.2.2",
      "model_name": "EdgeModel",
      "state": {
       "_model_module_version": "^1.2.2",
       "_view_module_version": "^1.2.2",
       "classes": " directed ",
       "data": {
        "directed": true,
        "id": 5,
        "source": "UBERON:0002384: connective tissue\nUBERON:0006082: fundus of urinary bladder",
        "target": "UBERON:0001135: smooth muscle tissue\nUBERON:0006082: fundus of urinary bladder"
       },
       "selectable": false
      }
     },
     "63f22358651949528453d85a593b2ab8": {
      "model_module": "jupyter-cytoscape",
      "model_module_version": "^1.2.2",
      "model_name": "EdgeModel",
      "state": {
       "_model_module_version": "^1.2.2",
       "_view_module_version": "^1.2.2",
       "classes": " directed ",
       "data": {
        "directed": true,
        "id": 4,
        "source": "UBERON:0016549: central nervous system white matter layer\nILX:0738432: Sixth lumbar spinal cord segment",
        "target": "UBERON:0016578: lamina VII of gray matter of spinal cord\nILX:0738432: Sixth lumbar spinal cord segment"
       },
       "selectable": false
      }
     },
     "64cee567082c4a0e90bb617ef20bb01b": {
      "model_module": "jupyter-cytoscape",
      "model_module_version": "^1.2.2",
      "model_name": "EdgeModel",
      "state": {
       "_model_module_version": "^1.2.2",
       "_view_module_version": "^1.2.2",
       "classes": " directed ",
       "data": {
        "directed": true,
        "id": 1,
        "source": "UBERON:0016549: central nervous system white matter layer\nUBERON:0006493: C7 segment of cervical spinal cord",
        "target": "UBERON:0016549: central nervous system white matter layer\nUBERON:0006470: C8 segment of cervical spinal cord"
       },
       "selectable": false
      }
     },
     "650a446fb6eb42bc90585af55138af26": {
      "model_module": "jupyter-cytoscape",
      "model_module_version": "^1.2.2",
      "model_name": "GraphModel",
      "state": {
       "_adj": {},
       "_model_module_version": "^1.2.2",
       "_view_module": "jupyter-cytoscape",
       "_view_module_version": "^1.2.2"
      }
     },
     "6634318ee9b042f6b431d9468cec1f74": {
      "model_module": "jupyter-cytoscape",
      "model_module_version": "^1.2.2",
      "model_name": "EdgeModel",
      "state": {
       "_model_module_version": "^1.2.2",
       "_view_module_version": "^1.2.2",
       "classes": " directed ",
       "data": {
        "directed": true,
        "id": "17",
        "source": "\nEMAPA:31526",
        "target": "UBERON:0002384: connective tissue\nUBERON:0006082: fundus of urinary bladder"
       },
       "selectable": false
      }
     },
     "6687ee70fc404072a4cff544f8087b1f": {
      "model_module": "jupyter-cytoscape",
      "model_module_version": "^1.2.2",
      "model_name": "GraphModel",
      "state": {
       "_adj": {},
       "_model_module_version": "^1.2.2",
       "_view_module": "jupyter-cytoscape",
       "_view_module_version": "^1.2.2"
      }
     },
     "66b0872552974bfe8ff20a70872413c9": {
      "model_module": "jupyter-cytoscape",
      "model_module_version": "^1.2.2",
      "model_name": "EdgeModel",
      "state": {
       "_model_module_version": "^1.2.2",
       "_view_module_version": "^1.2.2",
       "classes": " directed ",
       "data": {
        "directed": true,
        "id": 4,
        "source": "UBERON:0001017: central nervous system\nUBERON:0000988: pons",
        "target": "\nUBERON:0007632: Barrington's nucleus\nUBERON:0001017: central nervous system\nUBERON:0000988: pons"
       },
       "selectable": false
      }
     },
     "6775c30a9d6b422aab0a7612eec074b4": {
      "model_module": "jupyter-cytoscape",
      "model_module_version": "^1.2.2",
      "model_name": "GraphModel",
      "state": {
       "_adj": {
        "\nEMAPA:31526": {},
        "\nUBERON:0002856: second lumbar dorsal root ganglion": {},
        "\nUBERON:0002857: first lumbar dorsal root ganglion": {},
        "\nUBERON:0005303: hypogastric nerve": {},
        "\nUBERON:0005453: inferior mesenteric ganglion": {},
        "\nUBERON:0016508: pelvic ganglion": {},
        "\nUBERON:0018683: lumbar splanchnic nerve": {},
        "UBERON:0000483: epithelium\nUBERON:0001258: neck of urinary bladder": {},
        "UBERON:0000483: epithelium\nUBERON:0006082: fundus of urinary bladder": {},
        "UBERON:0001135: smooth muscle tissue\nUBERON:0001258: neck of urinary bladder": {},
        "UBERON:0001135: smooth muscle tissue\nUBERON:0006082: fundus of urinary bladder": {},
        "UBERON:0002181: substantia gelatinosa\nUBERON:0006448: first lumbar spinal cord segment": {},
        "UBERON:0002181: substantia gelatinosa\nUBERON:0006450: second lumbar spinal cord segment": {},
        "UBERON:0002384: connective tissue\nUBERON:0001258: neck of urinary bladder": {},
        "UBERON:0002384: connective tissue\nUBERON:0006082: fundus of urinary bladder": {},
        "UBERON:0004677: spinal cord gray commissure\nUBERON:0006448: first lumbar spinal cord segment": {},
        "UBERON:0004677: spinal cord gray commissure\nUBERON:0006450: second lumbar spinal cord segment": {},
        "UBERON:0006118: lamina I of gray matter of spinal cord\nUBERON:0006448: first lumbar spinal cord segment": {},
        "UBERON:0006118: lamina I of gray matter of spinal cord\nUBERON:0006450: second lumbar spinal cord segment": {},
        "UBERON:0016549: central nervous system white matter layer\nUBERON:0006448: first lumbar spinal cord segment": {},
        "UBERON:0016549: central nervous system white matter layer\nUBERON:0006450: second lumbar spinal cord segment": {},
        "UBERON:0016576: lamina V of gray matter of spinal cord\nUBERON:0006448: first lumbar spinal cord segment": {},
        "UBERON:0016576: lamina V of gray matter of spinal cord\nUBERON:0006450: second lumbar spinal cord segment": {},
        "UBERON:0016578: lamina VII of gray matter of spinal cord\nUBERON:0006448: first lumbar spinal cord segment": {},
        "UBERON:0016578: lamina VII of gray matter of spinal cord\nUBERON:0006450: second lumbar spinal cord segment": {},
        "UBERON:0035965: wall of blood vessel\nUBERON:0001981: blood vessel\nUBERON:0002384: connective tissue\nUBERON:0001258: neck of urinary bladder": {},
        "UBERON:0035965: wall of blood vessel\nUBERON:0001981: blood vessel\nUBERON:0002384: connective tissue\nUBERON:0006082: fundus of urinary bladder": {}
       },
       "_model_module_version": "^1.2.2",
       "_view_module": "jupyter-cytoscape",
       "_view_module_version": "^1.2.2",
       "edges": [
        "IPY_MODEL_44b33e76a6ba492186c4f0459ded8097",
        "IPY_MODEL_3768745cd9ce411782cee0a86b89481b",
        "IPY_MODEL_9a43b75e79274f7e8d460cfaf9004fec",
        "IPY_MODEL_ea304ea8494045af84a4b039376e5de2",
        "IPY_MODEL_a1dcdde52e694321896b7231978ddfc6",
        "IPY_MODEL_8e9b8b11e0464f109cdd1dad407ca535",
        "IPY_MODEL_d00c1bf843c4493d9974877ff611e77a",
        "IPY_MODEL_be043235c16d44d382399c34ac9290db",
        "IPY_MODEL_0d9d0eafc2c4468bad663632c6f8da4f",
        "IPY_MODEL_b4150a75c11445baa3bc890c71c82177",
        "IPY_MODEL_31476d94109b41e69c26373c90d19aee",
        "IPY_MODEL_a204cb72f5b04578afc3a6f5f4595662",
        "IPY_MODEL_1d1a24b3ba9e4677bebe4cc80cc46829",
        "IPY_MODEL_4b3d14e5b961405f874cb68fae44d306",
        "IPY_MODEL_6634318ee9b042f6b431d9468cec1f74",
        "IPY_MODEL_b98fbe3211f74ee89de00790bd0a8d0f",
        "IPY_MODEL_5e35dc2bec824dcba589eb31fd5e7ade",
        "IPY_MODEL_91c18374c4c94c3ea6aeffecf3d1d631",
        "IPY_MODEL_624c651196eb4ccb89bb71eef51ec667",
        "IPY_MODEL_3b9f92856ec24fbcbc511e365747f7e3",
        "IPY_MODEL_8815ff44addb4194847af3aa3ae88222",
        "IPY_MODEL_eabfd860d2d040f39d24987434e12409",
        "IPY_MODEL_df8aeb13d7df41cdb9dbd51c9424a4fe",
        "IPY_MODEL_af9ab89da7114d4d9e75c34ab5a4dc1d",
        "IPY_MODEL_4215088e59224440be1bcdab31e7cb89",
        "IPY_MODEL_6236f6c740fd4b1f842072d9f6729807"
       ],
       "nodes": [
        "IPY_MODEL_6243de6000224bdaa9e317224c687ece",
        "IPY_MODEL_0d20136a61f346a5bfc58e2ade5af4df",
        "IPY_MODEL_502425bfbfa2416eba529ea474f7adfc",
        "IPY_MODEL_17cd829fbc5a4d918478568f1fa6a846",
        "IPY_MODEL_da54e0fdcce84823902d6d330a973360",
        "IPY_MODEL_856d4c891a4245bd9bf8f79dc4c4ee0a",
        "IPY_MODEL_b9aafe7f2c4540b2a520b30da45f950e",
        "IPY_MODEL_2f5869cc89df4bd98855c4132a4f89c3",
        "IPY_MODEL_394bb4b5d6a44f739fa851cb80775d59",
        "IPY_MODEL_c6294ad4280d467a9ced84a25dbf7bf7",
        "IPY_MODEL_87f85d0a033144788d9cb45a91f1330c",
        "IPY_MODEL_28aa878b305840059910373f975eea15",
        "IPY_MODEL_344385378c39429289347512dd2e950b",
        "IPY_MODEL_a5db1282130a416dbf5bc7d4fa03568e",
        "IPY_MODEL_c8f28da04d7f4b028531eaf9a9428670",
        "IPY_MODEL_16089c07c71b4d8e96d8cb29880785db",
        "IPY_MODEL_6a97ecf4aa2444169691e81cf0b87e0d",
        "IPY_MODEL_4ea2b506bd354101acf77a3400571f2d",
        "IPY_MODEL_c2452ca90a1d46b3a3f8c7bd81be1f8e",
        "IPY_MODEL_5e8f7d6cb38e4b249f9443d9cc62cc7a",
        "IPY_MODEL_8dc688fcc0964ada960c353852695b15",
        "IPY_MODEL_d796df1955534f9f9f72f374571e89ed",
        "IPY_MODEL_e3026bdfd1064c338585cff96edb62f0",
        "IPY_MODEL_886a42239ea34255a1ebc928f587aeaa",
        "IPY_MODEL_253970a2438b45939cd2437348e19233",
        "IPY_MODEL_c7e91809c3634f90b0b1c5c75b366e0f",
        "IPY_MODEL_9c04a001f3774173b4f8c48d73bbdb1a"
       ]
      }
     },
     "679c4d36624d43c992f5e2fe47af4e7a": {
      "model_module": "jupyter-cytoscape",
      "model_module_version": "^1.2.2",
      "model_name": "NodeModel",
      "state": {
       "_model_module_version": "^1.2.2",
       "_view_module_version": "^1.2.2",
       "data": {
        "id": "UBERON:0016549: central nervous system white matter layer\nUBERON:0006467: eleventh thoracic spinal cord segment"
       },
       "grabbable": true,
       "grabbed": false,
       "selectable": false
      }
     },
     "67a1781a6f3a4d8fa0a5002fe05039b9": {
      "model_module": "jupyter-cytoscape",
      "model_module_version": "^1.2.2",
      "model_name": "NodeModel",
      "state": {
       "_model_module_version": "^1.2.2",
       "_view_module_version": "^1.2.2",
       "data": {
        "id": "\nUBERON:0002860: first sacral dorsal root ganglion"
       },
       "grabbable": true,
       "grabbed": false,
       "position": {
        "x": 471.951204061623,
        "y": 23.03978310280624
       },
       "selectable": false
      }
     },
     "681c61e4f62342248f786a7b38211d33": {
      "model_module": "jupyter-cytoscape",
      "model_module_version": "^1.2.2",
      "model_name": "CytoscapeModel",
      "state": {
       "_interaction_handlers": {},
       "_model_module_version": "^1.2.2",
       "_view_module_version": "^1.2.2",
       "auto_ungrabify": false,
       "autolock": false,
       "cytoscape_layout": {
        "name": "cola"
       },
       "cytoscape_style": [
        {
         "selector": "node",
         "style": {
          "background-color": "#80F0F0",
          "font-size": "10px",
          "label": "data(id)",
          "text-max-width": "80px",
          "text-valign": "center",
          "text-wrap": "wrap"
         }
        },
        {
         "selector": "edge.directed",
         "style": {
          "line-color": "#9dbaea",
          "mid-target-arrow-color": "#8090c0",
          "mid-target-arrow-shape": "triangle",
          "width": 2
         }
        }
       ],
       "desktop_tap_threshold": 4,
       "graph": "IPY_MODEL_05e48c08478644469e649ada425325a1",
       "headless": false,
       "hide_edges_on_viewport": false,
       "layout": "IPY_MODEL_f7e8788dd02e4858ad2be038592fbcd2",
       "max_zoom": 1e+50,
       "min_zoom": 1e-50,
       "motion_blur": false,
       "motion_blur_opacity": 0.2,
       "panning_enabled": true,
       "pixel_ratio": "auto",
       "rendered_position": {
        "renderedPosition": {
         "x": 100,
         "y": 100
        }
       },
       "selection_type": "single",
       "style_enabled": true,
       "texture_on_viewport": false,
       "tooltip_source": "tooltip",
       "touch_tap_threshold": 8,
       "user_panning_enabled": true,
       "user_zooming_enabled": true,
       "wheel_sensitivity": 1,
       "zoom": 2,
       "zooming_enabled": true
      }
     },
     "68471fbc3aef479a9438a33111f02781": {
      "model_module": "jupyter-cytoscape",
      "model_module_version": "^1.2.2",
      "model_name": "NodeModel",
      "state": {
       "_model_module_version": "^1.2.2",
       "_view_module_version": "^1.2.2",
       "data": {
        "id": "\nUBERON:0003040: central gray substance of midbrain\nUBERON:0001017: central nervous system\nUBERON:0001891: midbrain"
       },
       "grabbable": true,
       "grabbed": false,
       "selectable": false
      }
     },
     "694c41a43bb14ba2ba617c7ee59076e8": {
      "model_module": "jupyter-cytoscape",
      "model_module_version": "^1.2.2",
      "model_name": "NodeModel",
      "state": {
       "_model_module_version": "^1.2.2",
       "_view_module_version": "^1.2.2",
       "data": {
        "id": "UBERON:0001017: central nervous system\nUBERON:0000988: pons"
       },
       "grabbable": true,
       "grabbed": false,
       "selectable": false
      }
     },
     "6986869030bf48d095b1811dde957f58": {
      "model_module": "jupyter-cytoscape",
      "model_module_version": "^1.2.2",
      "model_name": "EdgeModel",
      "state": {
       "_model_module_version": "^1.2.2",
       "_view_module_version": "^1.2.2",
       "classes": " directed ",
       "data": {
        "directed": true,
        "id": 46,
        "source": "\nFMA:6542: Third lumbar ganglion",
        "target": "\nILX:0777090: L3 - L4 interganglionic segment"
       },
       "selectable": false
      }
     },
     "6a512a78b8cf4f5fae7767afc895ea9d": {
      "model_module": "jupyter-cytoscape",
      "model_module_version": "^1.2.2",
      "model_name": "NodeModel",
      "state": {
       "_model_module_version": "^1.2.2",
       "_view_module_version": "^1.2.2",
       "data": {
        "id": "UBERON:0016549: central nervous system white matter layer\nUBERON:0006448: first lumbar spinal cord segment\n\nUBERON:0005844: spinal cord segment"
       },
       "grabbable": true,
       "grabbed": false,
       "selectable": false
      }
     },
     "6a97ecf4aa2444169691e81cf0b87e0d": {
      "model_module": "jupyter-cytoscape",
      "model_module_version": "^1.2.2",
      "model_name": "NodeModel",
      "state": {
       "_model_module_version": "^1.2.2",
       "_view_module_version": "^1.2.2",
       "data": {
        "id": "UBERON:0001135: smooth muscle tissue\nUBERON:0006082: fundus of urinary bladder"
       },
       "grabbable": true,
       "grabbed": false,
       "position": {
        "x": 916.513520609576,
        "y": 572.4834998382353
       },
       "selectable": false
      }
     },
     "6aeb8c1129074bd7bbe65bed3d6ec413": {
      "model_module": "jupyter-cytoscape",
      "model_module_version": "^1.2.2",
      "model_name": "EdgeModel",
      "state": {
       "_model_module_version": "^1.2.2",
       "_view_module_version": "^1.2.2",
       "classes": " directed ",
       "data": {
        "directed": true,
        "id": "26",
        "source": "\nUBERON:0016508: pelvic ganglion",
        "target": "\nEMAPA:31526"
       },
       "selectable": false
      }
     },
     "6c0957bec0e54da2a1ea2b2ff4bf786c": {
      "model_module": "jupyter-cytoscape",
      "model_module_version": "^1.2.2",
      "model_name": "GraphModel",
      "state": {
       "_adj": {
        "\nUBERON:0007632: Barrington's nucleus\nUBERON:0001017: central nervous system\nUBERON:0000988: pons": {},
        "UBERON:0001017: central nervous system\nUBERON:0000988: pons": {},
        "UBERON:0001017: central nervous system\nUBERON:0001896: medulla oblongata": {},
        "UBERON:0016549: central nervous system white matter layer\nEMAPA:19554": {},
        "UBERON:0016549: central nervous system white matter layer\nILX:0738432: Sixth lumbar spinal cord segment": {},
        "UBERON:0016549: central nervous system white matter layer\nUBERON:0006447: fifth lumbar spinal cord segment": {},
        "UBERON:0016549: central nervous system white matter layer\nUBERON:0006448: first lumbar spinal cord segment": {},
        "UBERON:0016549: central nervous system white matter layer\nUBERON:0006449: third lumbar spinal cord segment": {},
        "UBERON:0016549: central nervous system white matter layer\nUBERON:0006450: second lumbar spinal cord segment": {},
        "UBERON:0016549: central nervous system white matter layer\nUBERON:0006451: fourth lumbar spinal cord segment": {},
        "UBERON:0016549: central nervous system white matter layer\nUBERON:0006452: fourth thoracic spinal cord segment": {},
        "UBERON:0016549: central nervous system white matter layer\nUBERON:0006453: fifth thoracic spinal cord segment": {},
        "UBERON:0016549: central nervous system white matter layer\nUBERON:0006454: sixth thoracic spinal cord segment": {},
        "UBERON:0016549: central nervous system white matter layer\nUBERON:0006455: seventh thoracic spinal cord segment": {},
        "UBERON:0016549: central nervous system white matter layer\nUBERON:0006456: eighth thoracic spinal cord segment": {},
        "UBERON:0016549: central nervous system white matter layer\nUBERON:0006457: first thoracic spinal cord segment": {},
        "UBERON:0016549: central nervous system white matter layer\nUBERON:0006458: second thoracic spinal cord segment": {},
        "UBERON:0016549: central nervous system white matter layer\nUBERON:0006459: third thoracic spinal cord segment": {},
        "UBERON:0016549: central nervous system white matter layer\nUBERON:0006465: ninth thoracic spinal cord segment": {},
        "UBERON:0016549: central nervous system white matter layer\nUBERON:0006466: tenth thoracic spinal cord segment": {},
        "UBERON:0016549: central nervous system white matter layer\nUBERON:0006467: eleventh thoracic spinal cord segment": {},
        "UBERON:0016549: central nervous system white matter layer\nUBERON:0006468: twelfth thoracic spinal cord segment": {},
        "UBERON:0016549: central nervous system white matter layer\nUBERON:0006469: C1 segment of cervical spinal cord": {},
        "UBERON:0016549: central nervous system white matter layer\nUBERON:0006470: C8 segment of cervical spinal cord": {},
        "UBERON:0016549: central nervous system white matter layer\nUBERON:0006488: C3 segment of cervical spinal cord": {},
        "UBERON:0016549: central nervous system white matter layer\nUBERON:0006489: C2 segment of cervical spinal cord": {},
        "UBERON:0016549: central nervous system white matter layer\nUBERON:0006490: C4 segment of cervical spinal cord": {},
        "UBERON:0016549: central nervous system white matter layer\nUBERON:0006491: C5 segment of cervical spinal cord": {},
        "UBERON:0016549: central nervous system white matter layer\nUBERON:0006492: C6 segment of cervical spinal cord": {},
        "UBERON:0016549: central nervous system white matter layer\nUBERON:0006493: C7 segment of cervical spinal cord": {},
        "UBERON:0016578: lamina VII of gray matter of spinal cord\nILX:0738432: Sixth lumbar spinal cord segment": {},
        "UBERON:0016578: lamina VII of gray matter of spinal cord\nUBERON:0006460: first sacral spinal cord segment": {}
       },
       "_model_module_version": "^1.2.2",
       "_view_module": "jupyter-cytoscape",
       "_view_module_version": "^1.2.2",
       "edges": [
        "IPY_MODEL_1c38b4e74a204caea437d5e3bfcc97b5",
        "IPY_MODEL_230734dfbe18452eaa2301cf49b5e137",
        "IPY_MODEL_64cee567082c4a0e90bb617ef20bb01b",
        "IPY_MODEL_44588571d3cf45e5ae6a920184558c9e",
        "IPY_MODEL_e72e0c470d7c473793364e33a8d335ef",
        "IPY_MODEL_786b9369c9cb4b7d91484ae4281d5beb",
        "IPY_MODEL_9506c5279bf644ec9e60f068249e311c",
        "IPY_MODEL_f09f4f40289b4336835eb33c2b213197",
        "IPY_MODEL_739c68023caf4f6895036226cc5bc42f",
        "IPY_MODEL_bdfbabcac68a4e46b31eb7a5e5a70b14",
        "IPY_MODEL_ad56fcb598954651afa63489d1856be4",
        "IPY_MODEL_a1b63caa9bbe4a4e9739d736f74e8ed9",
        "IPY_MODEL_717491e760e74dc8aeada513552dff95",
        "IPY_MODEL_8e5c0528f1534c9f900f0795e72121a8",
        "IPY_MODEL_fe6120f60b924274ba6254c1e66581ea",
        "IPY_MODEL_f65bec9ae5e74efaaf95ad63bdc32dc5",
        "IPY_MODEL_bbed6c74316a4238ad5d9c3c3634262b",
        "IPY_MODEL_e116ba27319941a099905370e125b121",
        "IPY_MODEL_9d4d74e09f0443589046dbc5e0834673",
        "IPY_MODEL_cf878a94b05b461581d7c2f4535d43bd",
        "IPY_MODEL_6e8cda7f29d6457493b765443eb7094a",
        "IPY_MODEL_b220c8ee2da6457eb4a1d8386f0f5348",
        "IPY_MODEL_f5fb2400cd964583ba15d22219e63709",
        "IPY_MODEL_4fec58e51fec424ab009375e843904a1",
        "IPY_MODEL_ca44bdb1312044b285c3ce9dbf9b5969",
        "IPY_MODEL_35c845760996409d9f0238989323d5b0",
        "IPY_MODEL_14581f7a1b0b4bb9b52c3600dbd1a8c7",
        "IPY_MODEL_7431a40ca35e4a4f836485b1fbd55359",
        "IPY_MODEL_6db5de8862254b4c81ae91b95aefb85c",
        "IPY_MODEL_0b0d67abcd1a4626a4d13eba22e79858",
        "IPY_MODEL_1de432dc09ff4564ad6c52d292702001"
       ],
       "nodes": [
        "IPY_MODEL_9cec67d935c148dead3c929f5c8ee8fa",
        "IPY_MODEL_a68acbc768a7496192adf9d1d9d671d8",
        "IPY_MODEL_3e87d304c25a4be8b373c98f3772a6f5",
        "IPY_MODEL_b883777253484458bd9ef08cae1927fb",
        "IPY_MODEL_3960eef083fd4e02b6d0b8ce3815c664",
        "IPY_MODEL_8f3fdd579e9f428aaff2f103a4cd656c",
        "IPY_MODEL_e3081220642a4e03ae019198c832607b",
        "IPY_MODEL_acba648644214406970c407a21fe0ce9",
        "IPY_MODEL_dcf1e15df74f423996748d4d6238e4b1",
        "IPY_MODEL_d0eb018730304089ade73f78889fbdc0",
        "IPY_MODEL_d38c6207f83f444094b60cb0ddea2db8",
        "IPY_MODEL_1f829ccf58444196a912813333f3290c",
        "IPY_MODEL_791174a915de424992ec6905e1c66642",
        "IPY_MODEL_cca4feb213a74d05902aa460ce55413b",
        "IPY_MODEL_cd423b35b70d4f0c94b2fc44d24dee35",
        "IPY_MODEL_679c4d36624d43c992f5e2fe47af4e7a",
        "IPY_MODEL_9acca43c374b4409a50a079cd74b6509",
        "IPY_MODEL_10ab8f360e014457b38d97a664aa93fc",
        "IPY_MODEL_b44be0f8283f4c23af0389fc298a7182",
        "IPY_MODEL_d886d594e6254d7e9b1c308d15ff60a0",
        "IPY_MODEL_ead69a8cae004b15a2322ee99047d187",
        "IPY_MODEL_a7e994f04d2f41d6820b830dbb578914",
        "IPY_MODEL_c9d55fed006b4f5a8cacea8b62e2beb7",
        "IPY_MODEL_f2dfb513e83340dc8a95b2402c687d3b",
        "IPY_MODEL_74f1e07fc58d4c17bcabdded2ea0ba5a",
        "IPY_MODEL_9d030bc28b63463ca213d59282e63bcf",
        "IPY_MODEL_f3e2d8d454d549528760b874a5893c40",
        "IPY_MODEL_27c78ade8f454ff0aa0c6bcc21a5d977",
        "IPY_MODEL_86abc31610a84667b9c1c5ea91a93b21",
        "IPY_MODEL_4513cd5e762e4375b4263b19432407b1",
        "IPY_MODEL_fd37533c2d764992b7afbb99098d36fb",
        "IPY_MODEL_c6c5c9e245c14d7e86aa04c6ca5e00c9"
       ]
      }
     },
     "6c09ffd1dfde46c8926e55d2ed27bcf9": {
      "model_module": "jupyter-cytoscape",
      "model_module_version": "^1.2.2",
      "model_name": "EdgeModel",
      "state": {
       "_model_module_version": "^1.2.2",
       "_view_module_version": "^1.2.2",
       "classes": " directed ",
       "data": {
        "directed": true,
        "id": 56,
        "source": "\nILX:0739296: fifth lumbar sympathetic ganglion",
        "target": "\nILX:0777092: L5 - L6 interganglionic segment"
       },
       "selectable": false
      }
     },
     "6cb9fb34d31a43bdb35fe28b87b60957": {
      "model_module": "jupyter-cytoscape",
      "model_module_version": "^1.2.2",
      "model_name": "EdgeModel",
      "state": {
       "_model_module_version": "^1.2.2",
       "_view_module_version": "^1.2.2",
       "classes": " directed ",
       "data": {
        "directed": true,
        "id": 53,
        "source": "\nILX:0777091: L4 - L5 interganglionic segment",
        "target": "\nILX:0739296: fifth lumbar sympathetic ganglion"
       },
       "selectable": false
      }
     },
     "6cf2f3c44240460caef7d21b7a7db3be": {
      "model_module": "jupyter-cytoscape",
      "model_module_version": "^1.2.2",
      "model_name": "EdgeModel",
      "state": {
       "_model_module_version": "^1.2.2",
       "_view_module_version": "^1.2.2",
       "classes": " directed ",
       "data": {
        "directed": true,
        "id": "9",
        "source": "UBERON:0016578: lamina VII of gray matter of spinal cord\nUBERON:0006450: second lumbar spinal cord segment\n\nUBERON:0005844: spinal cord segment",
        "target": "UBERON:0016549: central nervous system white matter layer\nUBERON:0006450: second lumbar spinal cord segment\n\nUBERON:0005844: spinal cord segment"
       },
       "selectable": false
      }
     },
     "6d282f4a4d8f453381cd7550ac654ce9": {
      "model_module": "jupyter-cytoscape",
      "model_module_version": "^1.2.2",
      "model_name": "EdgeModel",
      "state": {
       "_model_module_version": "^1.2.2",
       "_view_module_version": "^1.2.2",
       "classes": " directed ",
       "data": {
        "directed": true,
        "id": 0,
        "source": "UBERON:0016578: lamina VII of gray matter of spinal cord\nUBERON:0006448: first lumbar spinal cord segment\n\nUBERON:0005844: spinal cord segment",
        "target": "UBERON:0016549: central nervous system white matter layer\nUBERON:0006448: first lumbar spinal cord segment\n\nUBERON:0005844: spinal cord segment"
       },
       "selectable": false
      }
     },
     "6d418f5e4f824a809b5718f7a27a821c": {
      "model_module": "jupyter-cytoscape",
      "model_module_version": "^1.2.2",
      "model_name": "EdgeModel",
      "state": {
       "_model_module_version": "^1.2.2",
       "_view_module_version": "^1.2.2",
       "classes": " directed ",
       "data": {
        "directed": true,
        "id": 3,
        "source": "\nUBERON:0011390: pudendal nerve",
        "target": "EMAPA:32269\nUBERON:0000057: urethra"
       },
       "selectable": false
      }
     },
     "6d6b241068a5404ba1ece7df71bba0ca": {
      "model_module": "jupyter-cytoscape",
      "model_module_version": "^1.2.2",
      "model_name": "CytoscapeModel",
      "state": {
       "_interaction_handlers": {},
       "_model_module_version": "^1.2.2",
       "_view_module_version": "^1.2.2",
       "auto_ungrabify": false,
       "autolock": false,
       "cytoscape_layout": {
        "name": "cola"
       },
       "cytoscape_style": [
        {
         "selector": "node",
         "style": {
          "background-color": "#80F0F0",
          "font-size": "10px",
          "label": "data(id)",
          "text-max-width": "80px",
          "text-valign": "center",
          "text-wrap": "wrap"
         }
        },
        {
         "selector": "edge.directed",
         "style": {
          "line-color": "#9dbaea",
          "mid-target-arrow-color": "#8090c0",
          "mid-target-arrow-shape": "triangle",
          "width": 2
         }
        }
       ],
       "desktop_tap_threshold": 4,
       "graph": "IPY_MODEL_ebaf40dbec1046a5bd7558e85988a40c",
       "headless": false,
       "hide_edges_on_viewport": false,
       "layout": "IPY_MODEL_31ed09ace0614e038540dd96619fa238",
       "max_zoom": 1e+50,
       "min_zoom": 1e-50,
       "motion_blur": false,
       "motion_blur_opacity": 0.2,
       "panning_enabled": true,
       "pixel_ratio": "auto",
       "rendered_position": {
        "renderedPosition": {
         "x": 100,
         "y": 100
        }
       },
       "selection_type": "single",
       "style_enabled": true,
       "texture_on_viewport": false,
       "tooltip_source": "tooltip",
       "touch_tap_threshold": 8,
       "user_panning_enabled": true,
       "user_zooming_enabled": true,
       "wheel_sensitivity": 1,
       "zoom": 2,
       "zooming_enabled": true
      }
     },
     "6db5de8862254b4c81ae91b95aefb85c": {
      "model_module": "jupyter-cytoscape",
      "model_module_version": "^1.2.2",
      "model_name": "EdgeModel",
      "state": {
       "_model_module_version": "^1.2.2",
       "_view_module_version": "^1.2.2",
       "classes": " directed ",
       "data": {
        "directed": true,
        "id": 26,
        "source": "UBERON:0016549: central nervous system white matter layer\nUBERON:0006491: C5 segment of cervical spinal cord",
        "target": "UBERON:0016549: central nervous system white matter layer\nUBERON:0006492: C6 segment of cervical spinal cord"
       },
       "selectable": false
      }
     },
     "6e8cda7f29d6457493b765443eb7094a": {
      "model_module": "jupyter-cytoscape",
      "model_module_version": "^1.2.2",
      "model_name": "EdgeModel",
      "state": {
       "_model_module_version": "^1.2.2",
       "_view_module_version": "^1.2.2",
       "classes": " directed ",
       "data": {
        "directed": true,
        "id": 19,
        "source": "UBERON:0016549: central nervous system white matter layer\nUBERON:0006449: third lumbar spinal cord segment",
        "target": "UBERON:0016549: central nervous system white matter layer\nUBERON:0006451: fourth lumbar spinal cord segment"
       },
       "selectable": false
      }
     },
     "6eaa8d5017694086974675f5a815ccf4": {
      "model_module": "jupyter-cytoscape",
      "model_module_version": "^1.2.2",
      "model_name": "GraphModel",
      "state": {
       "_adj": {
        "\nEMAPA:31526": {},
        "\nUBERON:0005303: hypogastric nerve": {},
        "\nUBERON:0005453: inferior mesenteric ganglion": {},
        "\nUBERON:0016508: pelvic ganglion": {},
        "UBERON:0001135: smooth muscle tissue\nUBERON:0001258: neck of urinary bladder": {},
        "UBERON:0001135: smooth muscle tissue\nUBERON:0006082: fundus of urinary bladder": {}
       },
       "_model_module_version": "^1.2.2",
       "_view_module": "jupyter-cytoscape",
       "_view_module_version": "^1.2.2",
       "edges": [
        "IPY_MODEL_06d88635a0754c4bb7d5ec2b3aa902df",
        "IPY_MODEL_eefa400c57664dc890155eff2e86e727",
        "IPY_MODEL_c5a0a8a511204142b9e5e92ebdacb736",
        "IPY_MODEL_ed0cdceefc794da5a405e4b65577926a",
        "IPY_MODEL_fa93a70e27b94022999a3f2689c0121e"
       ],
       "nodes": [
        "IPY_MODEL_1e1d16ed8c8e483fab63ceac35196958",
        "IPY_MODEL_39b6577a39ee4188849f47537ce61284",
        "IPY_MODEL_0596d699f82947cdae302e5870f94d29",
        "IPY_MODEL_15a09d3a9842472583c6d6b883e44f7c",
        "IPY_MODEL_2d0ac032db134c46a3947b86ba27246f",
        "IPY_MODEL_51db9419a99147d0a08494f4a38111b7"
       ]
      }
     },
     "6f8c8650c2f34a99941ac50087bc1049": {
      "model_module": "jupyter-cytoscape",
      "model_module_version": "^1.2.2",
      "model_name": "NodeModel",
      "state": {
       "_model_module_version": "^1.2.2",
       "_view_module_version": "^1.2.2",
       "data": {
        "id": "\nFMA:6540: First lumbar ganglion"
       },
       "grabbable": true,
       "grabbed": false,
       "selectable": false
      }
     },
     "6fbd4197d234452d9331021076669b15": {
      "model_module": "jupyter-cytoscape",
      "model_module_version": "^1.2.2",
      "model_name": "CytoscapeModel",
      "state": {
       "_interaction_handlers": {},
       "_model_module_version": "^1.2.2",
       "_view_module_version": "^1.2.2",
       "auto_ungrabify": false,
       "autolock": false,
       "cytoscape_layout": {
        "name": "cola"
       },
       "cytoscape_style": [
        {
         "selector": "node",
         "style": {
          "background-color": "#80F0F0",
          "font-size": "10px",
          "label": "data(id)",
          "text-max-width": "80px",
          "text-valign": "center",
          "text-wrap": "wrap"
         }
        },
        {
         "selector": "edge.directed",
         "style": {
          "line-color": "#9dbaea",
          "mid-target-arrow-color": "#8090c0",
          "mid-target-arrow-shape": "triangle",
          "width": 2
         }
        }
       ],
       "desktop_tap_threshold": 4,
       "graph": "IPY_MODEL_4187beaa84434e6689709285d6dd16a6",
       "headless": false,
       "hide_edges_on_viewport": false,
       "layout": "IPY_MODEL_42f8aad40060485bafe39f20f2a4392f",
       "max_zoom": 1e+50,
       "min_zoom": 1e-50,
       "motion_blur": false,
       "motion_blur_opacity": 0.2,
       "panning_enabled": true,
       "pixel_ratio": "auto",
       "rendered_position": {
        "renderedPosition": {
         "x": 100,
         "y": 100
        }
       },
       "selection_type": "single",
       "style_enabled": true,
       "texture_on_viewport": false,
       "tooltip_source": "tooltip",
       "touch_tap_threshold": 8,
       "user_panning_enabled": true,
       "user_zooming_enabled": true,
       "wheel_sensitivity": 1,
       "zoom": 2,
       "zooming_enabled": true
      }
     },
     "70131ac7bf99446abe926f89b93bf8ac": {
      "model_module": "jupyter-cytoscape",
      "model_module_version": "^1.2.2",
      "model_name": "EdgeModel",
      "state": {
       "_model_module_version": "^1.2.2",
       "_view_module_version": "^1.2.2",
       "classes": " directed ",
       "data": {
        "directed": true,
        "id": 0,
        "source": "\nEMAPA:31526",
        "target": "UBERON:0002384: connective tissue\nUBERON:0001258: neck of urinary bladder"
       },
       "selectable": false
      }
     },
     "70208ebe661f4bb48da566b6cae5c77d": {
      "model_module": "jupyter-cytoscape",
      "model_module_version": "^1.2.2",
      "model_name": "EdgeModel",
      "state": {
       "_model_module_version": "^1.2.2",
       "_view_module_version": "^1.2.2",
       "classes": " directed ",
       "data": {
        "directed": true,
        "id": 47,
        "source": "\nILX:0777090: L3 - L4 interganglionic segment",
        "target": "\nFMA:6543: Fourth lumbar ganglion"
       },
       "selectable": false
      }
     },
     "70871b46e2bf4e3aa3787733ad2271d5": {
      "model_module": "jupyter-cytoscape",
      "model_module_version": "^1.2.2",
      "model_name": "EdgeModel",
      "state": {
       "_model_module_version": "^1.2.2",
       "_view_module_version": "^1.2.2",
       "classes": " directed ",
       "data": {
        "directed": true,
        "id": 11,
        "source": "\nFMA:6541: Second lumbar ganglion",
        "target": "\nFMA:65911: Gray communicating ramus of second lumbar nerve"
       },
       "selectable": false
      }
     },
     "717491e760e74dc8aeada513552dff95": {
      "model_module": "jupyter-cytoscape",
      "model_module_version": "^1.2.2",
      "model_name": "EdgeModel",
      "state": {
       "_model_module_version": "^1.2.2",
       "_view_module_version": "^1.2.2",
       "classes": " directed ",
       "data": {
        "directed": true,
        "id": 12,
        "source": "UBERON:0016549: central nervous system white matter layer\nUBERON:0006465: ninth thoracic spinal cord segment",
        "target": "UBERON:0016549: central nervous system white matter layer\nUBERON:0006466: tenth thoracic spinal cord segment"
       },
       "selectable": false
      }
     },
     "720df85906c440e09c279257135ae009": {
      "model_module": "jupyter-cytoscape",
      "model_module_version": "^1.2.2",
      "model_name": "GraphModel",
      "state": {
       "_adj": {},
       "_model_module_version": "^1.2.2",
       "_view_module": "jupyter-cytoscape",
       "_view_module_version": "^1.2.2"
      }
     },
     "739c68023caf4f6895036226cc5bc42f": {
      "model_module": "jupyter-cytoscape",
      "model_module_version": "^1.2.2",
      "model_name": "EdgeModel",
      "state": {
       "_model_module_version": "^1.2.2",
       "_view_module_version": "^1.2.2",
       "classes": " directed ",
       "data": {
        "directed": true,
        "id": 7,
        "source": "UBERON:0016549: central nervous system white matter layer\nUBERON:0006453: fifth thoracic spinal cord segment",
        "target": "UBERON:0016549: central nervous system white matter layer\nUBERON:0006454: sixth thoracic spinal cord segment"
       },
       "selectable": false
      }
     },
     "73a04acd7122482d9118c00299f45629": {
      "model_module": "jupyter-cytoscape",
      "model_module_version": "^1.2.2",
      "model_name": "GraphModel",
      "state": {
       "_adj": {},
       "_model_module_version": "^1.2.2",
       "_view_module": "jupyter-cytoscape",
       "_view_module_version": "^1.2.2"
      }
     },
     "741002f8a62b4b75b0b6ef81d5358f27": {
      "model_module": "jupyter-cytoscape",
      "model_module_version": "^1.2.2",
      "model_name": "EdgeModel",
      "state": {
       "_model_module_version": "^1.2.2",
       "_view_module_version": "^1.2.2",
       "classes": " directed ",
       "data": {
        "directed": true,
        "id": 2,
        "source": "\nEMAPA:25269",
        "target": "\nFMA:12697: White communicating ramus of first lumbar anterior ramus"
       },
       "selectable": false
      }
     },
     "7431a40ca35e4a4f836485b1fbd55359": {
      "model_module": "jupyter-cytoscape",
      "model_module_version": "^1.2.2",
      "model_name": "EdgeModel",
      "state": {
       "_model_module_version": "^1.2.2",
       "_view_module_version": "^1.2.2",
       "classes": " directed ",
       "data": {
        "directed": true,
        "id": 25,
        "source": "UBERON:0016549: central nervous system white matter layer\nUBERON:0006490: C4 segment of cervical spinal cord",
        "target": "UBERON:0016549: central nervous system white matter layer\nUBERON:0006491: C5 segment of cervical spinal cord"
       },
       "selectable": false
      }
     },
     "74f1e07fc58d4c17bcabdded2ea0ba5a": {
      "model_module": "jupyter-cytoscape",
      "model_module_version": "^1.2.2",
      "model_name": "NodeModel",
      "state": {
       "_model_module_version": "^1.2.2",
       "_view_module_version": "^1.2.2",
       "data": {
        "id": "UBERON:0016549: central nervous system white matter layer\nUBERON:0006489: C2 segment of cervical spinal cord"
       },
       "grabbable": true,
       "grabbed": false,
       "selectable": false
      }
     },
     "75682a0378464c6f92601a4ef31693ca": {
      "model_module": "jupyter-cytoscape",
      "model_module_version": "^1.2.2",
      "model_name": "NodeModel",
      "state": {
       "_model_module_version": "^1.2.2",
       "_view_module_version": "^1.2.2",
       "data": {
        "id": "UBERON:0001017: central nervous system\nUBERON:0000988: pons"
       },
       "grabbable": true,
       "grabbed": false,
       "selectable": false
      }
     },
     "75a4f6923b984cee904c6c587a684c79": {
      "model_module": "jupyter-cytoscape",
      "model_module_version": "^1.2.2",
      "model_name": "EdgeModel",
      "state": {
       "_model_module_version": "^1.2.2",
       "_view_module_version": "^1.2.2",
       "classes": " directed ",
       "data": {
        "directed": true,
        "id": 5,
        "source": "UBERON:0016549: central nervous system white matter layer\nILX:0738432: Sixth lumbar spinal cord segment",
        "target": "UBERON:0016576: lamina V of gray matter of spinal cord\nILX:0738432: Sixth lumbar spinal cord segment"
       },
       "selectable": false
      }
     },
     "75efbcacd91945ccb85ef98cfdc763f4": {
      "model_module": "@jupyter-widgets/base",
      "model_module_version": "1.2.0",
      "model_name": "LayoutModel",
      "state": {}
     },
     "762d50b7b5594ddcb587b08416afda96": {
      "model_module": "jupyter-cytoscape",
      "model_module_version": "^1.2.2",
      "model_name": "NodeModel",
      "state": {
       "_model_module_version": "^1.2.2",
       "_view_module_version": "^1.2.2",
       "data": {
        "id": "\nUBERON:0007632: Barrington's nucleus\nUBERON:0001017: central nervous system\nUBERON:0000988: pons"
       },
       "grabbable": true,
       "grabbed": false,
       "selectable": false
      }
     },
     "772491c7d12e4e93b1a6cdc2f3570756": {
      "model_module": "jupyter-cytoscape",
      "model_module_version": "^1.2.2",
      "model_name": "NodeModel",
      "state": {
       "_model_module_version": "^1.2.2",
       "_view_module_version": "^1.2.2",
       "data": {
        "id": "\nEMAPA:31526"
       },
       "grabbable": true,
       "grabbed": false,
       "selectable": false
      }
     },
     "77a923b142014f27bb09afc22fee8c56": {
      "model_module": "jupyter-cytoscape",
      "model_module_version": "^1.2.2",
      "model_name": "EdgeModel",
      "state": {
       "_model_module_version": "^1.2.2",
       "_view_module_version": "^1.2.2",
       "classes": " directed ",
       "data": {
        "directed": true,
        "id": 62,
        "source": "\nILX:0739297: sixth lumbar sympathetic ganglion",
        "target": "\nILX:0739299: Gray communicating ramus of sixth lumbar nerve"
       },
       "selectable": false
      }
     },
     "786b9369c9cb4b7d91484ae4281d5beb": {
      "model_module": "jupyter-cytoscape",
      "model_module_version": "^1.2.2",
      "model_name": "EdgeModel",
      "state": {
       "_model_module_version": "^1.2.2",
       "_view_module_version": "^1.2.2",
       "classes": " directed ",
       "data": {
        "directed": true,
        "id": 4,
        "source": "UBERON:0016549: central nervous system white matter layer\nUBERON:0006458: second thoracic spinal cord segment",
        "target": "UBERON:0016549: central nervous system white matter layer\nUBERON:0006459: third thoracic spinal cord segment"
       },
       "selectable": false
      }
     },
     "7902a0c0df824f1f9309c5d30c202e45": {
      "model_module": "jupyter-cytoscape",
      "model_module_version": "^1.2.2",
      "model_name": "NodeModel",
      "state": {
       "_model_module_version": "^1.2.2",
       "_view_module_version": "^1.2.2",
       "data": {
        "id": "\nFMA:6552: First sacral ganglion"
       },
       "grabbable": true,
       "grabbed": false,
       "selectable": false
      }
     },
     "791174a915de424992ec6905e1c66642": {
      "model_module": "jupyter-cytoscape",
      "model_module_version": "^1.2.2",
      "model_name": "NodeModel",
      "state": {
       "_model_module_version": "^1.2.2",
       "_view_module_version": "^1.2.2",
       "data": {
        "id": "UBERON:0016549: central nervous system white matter layer\nUBERON:0006465: ninth thoracic spinal cord segment"
       },
       "grabbable": true,
       "grabbed": false,
       "selectable": false
      }
     },
     "7983e1ff2ca24fcebc75e84c99a596e4": {
      "model_module": "jupyter-cytoscape",
      "model_module_version": "^1.2.2",
      "model_name": "EdgeModel",
      "state": {
       "_model_module_version": "^1.2.2",
       "_view_module_version": "^1.2.2",
       "classes": " directed ",
       "data": {
        "directed": true,
        "id": 3,
        "source": "\nUBERON:0018675: pelvic splanchnic nerve",
        "target": "\nUBERON:0016508: pelvic ganglion"
       },
       "selectable": false
      }
     },
     "79d0e799fdb74bd9b6d89ab4e4a9ad37": {
      "model_module": "jupyter-cytoscape",
      "model_module_version": "^1.2.2",
      "model_name": "NodeModel",
      "state": {
       "_model_module_version": "^1.2.2",
       "_view_module_version": "^1.2.2",
       "data": {
        "id": "\nFMA:65910: Gray communicating ramus of first lumbar nerve"
       },
       "grabbable": true,
       "grabbed": false,
       "selectable": false
      }
     },
     "7a187eb8a7374083a34f07dda855e422": {
      "model_module": "jupyter-cytoscape",
      "model_module_version": "^1.2.2",
      "model_name": "EdgeModel",
      "state": {
       "_model_module_version": "^1.2.2",
       "_view_module_version": "^1.2.2",
       "classes": " directed ",
       "data": {
        "directed": true,
        "id": 1,
        "source": "UBERON:0002384: connective tissue\nUBERON:0001258: neck of urinary bladder",
        "target": "UBERON:0035965: wall of blood vessel\nUBERON:0001981: blood vessel\nUBERON:0002384: connective tissue\nUBERON:0001258: neck of urinary bladder"
       },
       "selectable": false
      }
     },
     "7a358a1d7fa84133a2e5792eda4ec50d": {
      "model_module": "jupyter-cytoscape",
      "model_module_version": "^1.2.2",
      "model_name": "EdgeModel",
      "state": {
       "_model_module_version": "^1.2.2",
       "_view_module_version": "^1.2.2",
       "classes": " directed ",
       "data": {
        "directed": true,
        "id": 59,
        "source": "UBERON:0002384: connective tissue\nUBERON:0006082: fundus of urinary bladder",
        "target": "UBERON:0035965: wall of blood vessel\nUBERON:0001981: blood vessel\nUBERON:0002384: connective tissue\nUBERON:0006082: fundus of urinary bladder"
       },
       "selectable": false
      }
     },
     "7ae1b947eeae4466b84e834aa10136fb": {
      "model_module": "jupyter-cytoscape",
      "model_module_version": "^1.2.2",
      "model_name": "NodeModel",
      "state": {
       "_model_module_version": "^1.2.2",
       "_view_module_version": "^1.2.2",
       "data": {
        "id": "UBERON:0000483: epithelium\nUBERON:0006082: fundus of urinary bladder"
       },
       "grabbable": true,
       "grabbed": false,
       "selectable": false
      }
     },
     "7b24e29314e449508c29f9a70b80be22": {
      "model_module": "jupyter-cytoscape",
      "model_module_version": "^1.2.2",
      "model_name": "NodeModel",
      "state": {
       "_model_module_version": "^1.2.2",
       "_view_module_version": "^1.2.2",
       "data": {
        "id": "UBERON:0001135: smooth muscle tissue\nUBERON:0006082: fundus of urinary bladder"
       },
       "grabbable": true,
       "grabbed": false,
       "selectable": false
      }
     },
     "7bdc0d51dbe146ecaacde4713f1909c8": {
      "model_module": "jupyter-cytoscape",
      "model_module_version": "^1.2.2",
      "model_name": "EdgeModel",
      "state": {
       "_model_module_version": "^1.2.2",
       "_view_module_version": "^1.2.2",
       "classes": " directed ",
       "data": {
        "directed": true,
        "id": "10",
        "source": "UBERON:0016549: central nervous system white matter layer\nUBERON:0006460: first sacral spinal cord segment",
        "target": "UBERON:0016576: lamina V of gray matter of spinal cord\nUBERON:0006460: first sacral spinal cord segment"
       },
       "selectable": false
      }
     },
     "7bdcc3fab9d34295ac331f19e542b827": {
      "model_module": "jupyter-cytoscape",
      "model_module_version": "^1.2.2",
      "model_name": "NodeModel",
      "state": {
       "_model_module_version": "^1.2.2",
       "_view_module_version": "^1.2.2",
       "data": {
        "id": "UBERON:0016576: lamina V of gray matter of spinal cord\nILX:0738432: Sixth lumbar spinal cord segment"
       },
       "grabbable": true,
       "grabbed": false,
       "position": {
        "x": 204.63861935910322,
        "y": 358.2632404373367
       },
       "selectable": false
      }
     },
     "7d27376d027d4d0a8c2408f72f0a6dcd": {
      "model_module": "jupyter-cytoscape",
      "model_module_version": "^1.2.2",
      "model_name": "GraphModel",
      "state": {
       "_adj": {},
       "_model_module_version": "^1.2.2",
       "_view_module": "jupyter-cytoscape",
       "_view_module_version": "^1.2.2"
      }
     },
     "7d3399646b2f4523a205962ebebe1e06": {
      "model_module": "jupyter-cytoscape",
      "model_module_version": "^1.2.2",
      "model_name": "NodeModel",
      "state": {
       "_model_module_version": "^1.2.2",
       "_view_module_version": "^1.2.2",
       "data": {
        "id": "UBERON:0016549: central nervous system white matter layer\nUBERON:0006448: first lumbar spinal cord segment\n\nUBERON:0005844: spinal cord segment"
       },
       "grabbable": true,
       "grabbed": false,
       "position": {
        "x": 803.3071482518944,
        "y": 646.318554976534
       },
       "selectable": false
      }
     },
     "7d37c9f490504ac9a65abdf8f89c0d4a": {
      "model_module": "jupyter-cytoscape",
      "model_module_version": "^1.2.2",
      "model_name": "EdgeModel",
      "state": {
       "_model_module_version": "^1.2.2",
       "_view_module_version": "^1.2.2",
       "classes": " directed ",
       "data": {
        "directed": true,
        "id": 5,
        "source": "UBERON:0016549: central nervous system white matter layer\nUBERON:0005844: spinal cord segment\n\nILX:0738432: Sixth lumbar spinal cord segment",
        "target": "\nEMAPA:25279"
       },
       "selectable": false
      }
     },
     "7dc2c51897084e2492e93dd5f61546aa": {
      "model_module": "jupyter-cytoscape",
      "model_module_version": "^1.2.2",
      "model_name": "NodeModel",
      "state": {
       "_model_module_version": "^1.2.2",
       "_view_module_version": "^1.2.2",
       "data": {
        "id": "UBERON:0002181: substantia gelatinosa\nUBERON:0006460: first sacral spinal cord segment"
       },
       "grabbable": true,
       "grabbed": false,
       "position": {
        "x": 576.4357567229035,
        "y": -95.6991157803322
       },
       "selectable": false
      }
     },
     "7f13ca52ad7842dabf34a9efdf4fe54a": {
      "model_module": "jupyter-cytoscape",
      "model_module_version": "^1.2.2",
      "model_name": "EdgeModel",
      "state": {
       "_model_module_version": "^1.2.2",
       "_view_module_version": "^1.2.2",
       "classes": " directed ",
       "data": {
        "directed": true,
        "id": 3,
        "source": "UBERON:0001017: central nervous system\nUBERON:0000988: pons",
        "target": "\nUBERON:0007632: Barrington's nucleus\nUBERON:0001017: central nervous system\nUBERON:0000988: pons"
       },
       "selectable": false
      }
     },
     "7f30e264cfc74eee86b738a6eb2cb78c": {
      "model_module": "jupyter-cytoscape",
      "model_module_version": "^1.2.2",
      "model_name": "NodeModel",
      "state": {
       "_model_module_version": "^1.2.2",
       "_view_module_version": "^1.2.2",
       "data": {
        "id": "\nUBERON:0002883: central amygdaloid nucleus\nUBERON:0001017: central nervous system\nUBERON:0001893: cerebrum"
       },
       "grabbable": true,
       "grabbed": false,
       "selectable": false
      }
     },
     "7f6e07f12e5a449ba96782f17f5dd92e": {
      "model_module": "jupyter-cytoscape",
      "model_module_version": "^1.2.2",
      "model_name": "NodeModel",
      "state": {
       "_model_module_version": "^1.2.2",
       "_view_module_version": "^1.2.2",
       "data": {
        "id": "UBERON:0000483: epithelium\nUBERON:0001258: neck of urinary bladder"
       },
       "grabbable": true,
       "grabbed": false,
       "position": {
        "x": 1063.9651016172554,
        "y": 376.9469936128842
       },
       "selectable": false
      }
     },
     "7f9514c9c20b4829a9400e52d987deda": {
      "model_module": "jupyter-cytoscape",
      "model_module_version": "^1.2.2",
      "model_name": "EdgeModel",
      "state": {
       "_model_module_version": "^1.2.2",
       "_view_module_version": "^1.2.2",
       "classes": " directed ",
       "data": {
        "directed": true,
        "id": "5",
        "source": "UBERON:0016549: central nervous system white matter layer\nUBERON:0006460: first sacral spinal cord segment",
        "target": "UBERON:0002181: substantia gelatinosa\nUBERON:0006460: first sacral spinal cord segment"
       },
       "selectable": false
      }
     },
     "80772695cb1245b38c03fc2bf20dd28d": {
      "model_module": "jupyter-cytoscape",
      "model_module_version": "^1.2.2",
      "model_name": "NodeModel",
      "state": {
       "_model_module_version": "^1.2.2",
       "_view_module_version": "^1.2.2",
       "data": {
        "id": "\nILX:0777092: L5 - L6 interganglionic segment"
       },
       "grabbable": true,
       "grabbed": false,
       "selectable": false
      }
     },
     "8079dacab98746398f065a0142615608": {
      "model_module": "jupyter-cytoscape",
      "model_module_version": "^1.2.2",
      "model_name": "EdgeModel",
      "state": {
       "_model_module_version": "^1.2.2",
       "_view_module_version": "^1.2.2",
       "classes": " directed ",
       "data": {
        "directed": true,
        "id": 8,
        "source": "UBERON:0016549: central nervous system white matter layer\nUBERON:0006450: second lumbar spinal cord segment\n\nUBERON:0005844: spinal cord segment",
        "target": "\nEMAPA:25271"
       },
       "selectable": false
      }
     },
     "830e4b44d250477f95c267898f85c0fe": {
      "model_module": "jupyter-cytoscape",
      "model_module_version": "^1.2.2",
      "model_name": "NodeModel",
      "state": {
       "_model_module_version": "^1.2.2",
       "_view_module_version": "^1.2.2",
       "data": {
        "id": "\nILX:0777091: L4 - L5 interganglionic segment"
       },
       "grabbable": true,
       "grabbed": false,
       "selectable": false
      }
     },
     "831512b89818427eb138f528562477eb": {
      "model_module": "jupyter-cytoscape",
      "model_module_version": "^1.2.2",
      "model_name": "NodeModel",
      "state": {
       "_model_module_version": "^1.2.2",
       "_view_module_version": "^1.2.2",
       "data": {
        "id": "\nUBERON:0018675: pelvic splanchnic nerve"
       },
       "grabbable": true,
       "grabbed": false,
       "selectable": false
      }
     },
     "83d543444a8b48ae8324c8ccf5fd5a86": {
      "model_module": "jupyter-cytoscape",
      "model_module_version": "^1.2.2",
      "model_name": "EdgeModel",
      "state": {
       "_model_module_version": "^1.2.2",
       "_view_module_version": "^1.2.2",
       "classes": " directed ",
       "data": {
        "directed": true,
        "id": 6,
        "source": "\nUBERON:0018683: lumbar splanchnic nerve",
        "target": "\nUBERON:0005453: inferior mesenteric ganglion"
       },
       "selectable": false
      }
     },
     "84958332a8f544b7923be06a8b11f6c7": {
      "model_module": "jupyter-cytoscape",
      "model_module_version": "^1.2.2",
      "model_name": "NodeModel",
      "state": {
       "_model_module_version": "^1.2.2",
       "_view_module_version": "^1.2.2",
       "data": {
        "id": "\nUBERON:0011390: pudendal nerve"
       },
       "grabbable": true,
       "grabbed": false,
       "selectable": false
      }
     },
     "84fd15d3b27441e490e446e6d6c34b17": {
      "model_module": "jupyter-cytoscape",
      "model_module_version": "^1.2.2",
      "model_name": "NodeModel",
      "state": {
       "_model_module_version": "^1.2.2",
       "_view_module_version": "^1.2.2",
       "data": {
        "id": "\nEMAPA:25279"
       },
       "grabbable": true,
       "grabbed": false,
       "selectable": false
      }
     },
     "856d4c891a4245bd9bf8f79dc4c4ee0a": {
      "model_module": "jupyter-cytoscape",
      "model_module_version": "^1.2.2",
      "model_name": "NodeModel",
      "state": {
       "_model_module_version": "^1.2.2",
       "_view_module_version": "^1.2.2",
       "data": {
        "id": "UBERON:0016576: lamina V of gray matter of spinal cord\nUBERON:0006448: first lumbar spinal cord segment"
       },
       "grabbable": true,
       "grabbed": false,
       "position": {
        "x": 161.61770612358666,
        "y": 468.1906333138677
       },
       "selectable": false
      }
     },
     "856db0a7675a4e1e8d7458f5c42d4297": {
      "model_module": "jupyter-cytoscape",
      "model_module_version": "^1.2.2",
      "model_name": "GraphModel",
      "state": {
       "_adj": {
        "\nUBERON:0007632: Barrington's nucleus\nUBERON:0001017: central nervous system\nUBERON:0000988: pons": {},
        "\nUBERON:0007769: medial preoptic region\nUBERON:0001017: central nervous system\nUBERON:0001894: diencephalon": {},
        "UBERON:0001017: central nervous system\nUBERON:0000988: pons": {},
        "UBERON:0001017: central nervous system\nUBERON:0001891: midbrain": {},
        "UBERON:0001017: central nervous system\nUBERON:0001894: diencephalon": {}
       },
       "_model_module_version": "^1.2.2",
       "_view_module": "jupyter-cytoscape",
       "_view_module_version": "^1.2.2",
       "edges": [
        "IPY_MODEL_d8183c8e4c4247659b6938c0a6125505",
        "IPY_MODEL_8f1a6eae42924378927828aeda76313e",
        "IPY_MODEL_5dbb8f2d47a6436e88d0314bf445e9c0",
        "IPY_MODEL_ad76620fd8dd4ebaa28c9adfd141118e"
       ],
       "nodes": [
        "IPY_MODEL_caea735cde3f4e5490b3cc4abbf37cd4",
        "IPY_MODEL_c485918eaf034e13897d6b52ced055ef",
        "IPY_MODEL_1974e3fcf41c49e79af923876b9f84ea",
        "IPY_MODEL_75682a0378464c6f92601a4ef31693ca",
        "IPY_MODEL_fb4f2a66e1c9486ea5fd6cc365b651dc"
       ]
      }
     },
     "85b1fe0c952c49119921fff99aea8f0a": {
      "model_module": "jupyter-cytoscape",
      "model_module_version": "^1.2.2",
      "model_name": "NodeModel",
      "state": {
       "_model_module_version": "^1.2.2",
       "_view_module_version": "^1.2.2",
       "data": {
        "id": "UBERON:0006118: lamina I of gray matter of spinal cord\nUBERON:0006460: first sacral spinal cord segment"
       },
       "grabbable": true,
       "grabbed": false,
       "position": {
        "x": 584.1445808333689,
        "y": -206.93920372764805
       },
       "selectable": false
      }
     },
     "86abc31610a84667b9c1c5ea91a93b21": {
      "model_module": "jupyter-cytoscape",
      "model_module_version": "^1.2.2",
      "model_name": "NodeModel",
      "state": {
       "_model_module_version": "^1.2.2",
       "_view_module_version": "^1.2.2",
       "data": {
        "id": "UBERON:0016549: central nervous system white matter layer\nUBERON:0006492: C6 segment of cervical spinal cord"
       },
       "grabbable": true,
       "grabbed": false,
       "selectable": false
      }
     },
     "8736a795497846c495a9aca2ea8653c9": {
      "model_module": "jupyter-cytoscape",
      "model_module_version": "^1.2.2",
      "model_name": "GraphModel",
      "state": {
       "_adj": {},
       "_model_module_version": "^1.2.2",
       "_view_module": "jupyter-cytoscape",
       "_view_module_version": "^1.2.2"
      }
     },
     "8782908467c5418ba4f1acf96055ef9f": {
      "model_module": "jupyter-cytoscape",
      "model_module_version": "^1.2.2",
      "model_name": "NodeModel",
      "state": {
       "_model_module_version": "^1.2.2",
       "_view_module_version": "^1.2.2",
       "data": {
        "id": "\nEMAPA:25169"
       },
       "grabbable": true,
       "grabbed": false,
       "position": {
        "x": 338.5799638206997,
        "y": 215.8015936202221
       },
       "selectable": false
      }
     },
     "878530c9b4f74df8b73664f1680c55f0": {
      "model_module": "jupyter-cytoscape",
      "model_module_version": "^1.2.2",
      "model_name": "EdgeModel",
      "state": {
       "_model_module_version": "^1.2.2",
       "_view_module_version": "^1.2.2",
       "classes": " directed ",
       "data": {
        "directed": true,
        "id": 1,
        "source": "UBERON:0016549: central nervous system white matter layer\nUBERON:0006448: first lumbar spinal cord segment\n\nUBERON:0005844: spinal cord segment",
        "target": "\nEMAPA:25269"
       },
       "selectable": false
      }
     },
     "87f85d0a033144788d9cb45a91f1330c": {
      "model_module": "jupyter-cytoscape",
      "model_module_version": "^1.2.2",
      "model_name": "NodeModel",
      "state": {
       "_model_module_version": "^1.2.2",
       "_view_module_version": "^1.2.2",
       "data": {
        "id": "UBERON:0004677: spinal cord gray commissure\nUBERON:0006450: second lumbar spinal cord segment"
       },
       "grabbable": true,
       "grabbed": false,
       "position": {
        "x": 217.40612577538255,
        "y": -213.97669621884847
       },
       "selectable": false
      }
     },
     "8815ff44addb4194847af3aa3ae88222": {
      "model_module": "jupyter-cytoscape",
      "model_module_version": "^1.2.2",
      "model_name": "EdgeModel",
      "state": {
       "_model_module_version": "^1.2.2",
       "_view_module_version": "^1.2.2",
       "classes": " directed ",
       "data": {
        "directed": true,
        "id": "25",
        "source": "UBERON:0002384: connective tissue\nUBERON:0001258: neck of urinary bladder",
        "target": "UBERON:0035965: wall of blood vessel\nUBERON:0001981: blood vessel\nUBERON:0002384: connective tissue\nUBERON:0001258: neck of urinary bladder"
       },
       "selectable": false
      }
     },
     "886a42239ea34255a1ebc928f587aeaa": {
      "model_module": "jupyter-cytoscape",
      "model_module_version": "^1.2.2",
      "model_name": "NodeModel",
      "state": {
       "_model_module_version": "^1.2.2",
       "_view_module_version": "^1.2.2",
       "data": {
        "id": "\nUBERON:0018683: lumbar splanchnic nerve"
       },
       "grabbable": true,
       "grabbed": false,
       "position": {
        "x": 389.0054373282703,
        "y": 145.08368749061754
       },
       "selectable": false
      }
     },
     "892fbcf18b9a44a49dec3fe52b3a86ef": {
      "model_module": "jupyter-cytoscape",
      "model_module_version": "^1.2.2",
      "model_name": "NodeModel",
      "state": {
       "_model_module_version": "^1.2.2",
       "_view_module_version": "^1.2.2",
       "data": {
        "id": "UBERON:0004677: spinal cord gray commissure\nILX:0738432: Sixth lumbar spinal cord segment"
       },
       "grabbable": true,
       "grabbed": false,
       "selectable": false
      }
     },
     "8ac56aa16a5644319310a67ad25667b7": {
      "model_module": "jupyter-cytoscape",
      "model_module_version": "^1.2.2",
      "model_name": "EdgeModel",
      "state": {
       "_model_module_version": "^1.2.2",
       "_view_module_version": "^1.2.2",
       "classes": " directed ",
       "data": {
        "directed": true,
        "id": "15",
        "source": "\nEMAPA:31526",
        "target": "UBERON:0002384: connective tissue\nUBERON:0006082: fundus of urinary bladder"
       },
       "selectable": false
      }
     },
     "8b7df0781ca14d0b9254c40a5fd6a233": {
      "model_module": "jupyter-cytoscape",
      "model_module_version": "^1.2.2",
      "model_name": "EdgeModel",
      "state": {
       "_model_module_version": "^1.2.2",
       "_view_module_version": "^1.2.2",
       "classes": " directed ",
       "data": {
        "directed": true,
        "id": "4",
        "source": "UBERON:0016549: central nervous system white matter layer\nUBERON:0006448: first lumbar spinal cord segment\n\nUBERON:0005844: spinal cord segment",
        "target": "\nEMAPA:25269"
       },
       "selectable": false
      }
     },
     "8beb4237a7714ec69f6dcb3aa5ae61cb": {
      "model_module": "jupyter-cytoscape",
      "model_module_version": "^1.2.2",
      "model_name": "NodeModel",
      "state": {
       "_model_module_version": "^1.2.2",
       "_view_module_version": "^1.2.2",
       "data": {
        "id": "UBERON:0001017: central nervous system\nUBERON:0001891: midbrain"
       },
       "grabbable": true,
       "grabbed": false,
       "selectable": false
      }
     },
     "8c6fc78b8b214313939ae2baf6aba467": {
      "model_module": "jupyter-cytoscape",
      "model_module_version": "^1.2.2",
      "model_name": "NodeModel",
      "state": {
       "_model_module_version": "^1.2.2",
       "_view_module_version": "^1.2.2",
       "data": {
        "id": "\nFMA:6541: Second lumbar ganglion"
       },
       "grabbable": true,
       "grabbed": false,
       "selectable": false
      }
     },
     "8d2c485fdfaa467c8506aae973e0ab0f": {
      "model_module": "jupyter-cytoscape",
      "model_module_version": "^1.2.2",
      "model_name": "NodeModel",
      "state": {
       "_model_module_version": "^1.2.2",
       "_view_module_version": "^1.2.2",
       "data": {
        "id": "\nEMAPA:31526"
       },
       "grabbable": true,
       "grabbed": false,
       "position": {
        "x": 688.8482923648817,
        "y": 365.21599437841905
       },
       "selectable": false
      }
     },
     "8d3847e00abd4b5781dd4bb07c41f0f1": {
      "model_module": "jupyter-cytoscape",
      "model_module_version": "^1.2.2",
      "model_name": "EdgeModel",
      "state": {
       "_model_module_version": "^1.2.2",
       "_view_module_version": "^1.2.2",
       "classes": " directed ",
       "data": {
        "directed": true,
        "id": "23",
        "source": "UBERON:0002384: connective tissue\nUBERON:0001258: neck of urinary bladder",
        "target": "UBERON:0001135: smooth muscle tissue\nUBERON:0001258: neck of urinary bladder"
       },
       "selectable": false
      }
     },
     "8dc4d019e23e4209952b5c874bc37b16": {
      "model_module": "jupyter-cytoscape",
      "model_module_version": "^1.2.2",
      "model_name": "CytoscapeModel",
      "state": {
       "_interaction_handlers": {},
       "_model_module_version": "^1.2.2",
       "_view_module_version": "^1.2.2",
       "auto_ungrabify": false,
       "autolock": false,
       "cytoscape_layout": {
        "name": "cola"
       },
       "cytoscape_style": [
        {
         "selector": "node",
         "style": {
          "background-color": "#80F0F0",
          "font-size": "10px",
          "label": "data(id)",
          "text-max-width": "80px",
          "text-valign": "center",
          "text-wrap": "wrap"
         }
        },
        {
         "selector": "edge.directed",
         "style": {
          "line-color": "#9dbaea",
          "mid-target-arrow-color": "#8090c0",
          "mid-target-arrow-shape": "triangle",
          "width": 2
         }
        }
       ],
       "desktop_tap_threshold": 4,
       "graph": "IPY_MODEL_af6ff0ab86cd432fa4f1cd9e38b0fc93",
       "headless": false,
       "hide_edges_on_viewport": false,
       "layout": "IPY_MODEL_161aa02268ac4396b6e4d2af18085d10",
       "max_zoom": 1e+50,
       "min_zoom": 1e-50,
       "motion_blur": false,
       "motion_blur_opacity": 0.2,
       "panning_enabled": true,
       "pixel_ratio": "auto",
       "rendered_position": {
        "renderedPosition": {
         "x": 100,
         "y": 100
        }
       },
       "selection_type": "single",
       "style_enabled": true,
       "texture_on_viewport": false,
       "tooltip_source": "tooltip",
       "touch_tap_threshold": 8,
       "user_panning_enabled": true,
       "user_zooming_enabled": true,
       "wheel_sensitivity": 1,
       "zoom": 2,
       "zooming_enabled": true
      }
     },
     "8dc688fcc0964ada960c353852695b15": {
      "model_module": "jupyter-cytoscape",
      "model_module_version": "^1.2.2",
      "model_name": "NodeModel",
      "state": {
       "_model_module_version": "^1.2.2",
       "_view_module_version": "^1.2.2",
       "data": {
        "id": "UBERON:0001135: smooth muscle tissue\nUBERON:0001258: neck of urinary bladder"
       },
       "grabbable": true,
       "grabbed": false,
       "position": {
        "x": 1067.9100682603942,
        "y": 132.76213183515543
       },
       "selectable": false
      }
     },
     "8e5c0528f1534c9f900f0795e72121a8": {
      "model_module": "jupyter-cytoscape",
      "model_module_version": "^1.2.2",
      "model_name": "EdgeModel",
      "state": {
       "_model_module_version": "^1.2.2",
       "_view_module_version": "^1.2.2",
       "classes": " directed ",
       "data": {
        "directed": true,
        "id": 21,
        "source": "UBERON:0001017: central nervous system\nUBERON:0001896: medulla oblongata",
        "target": "UBERON:0016549: central nervous system white matter layer\nUBERON:0006469: C1 segment of cervical spinal cord"
       },
       "selectable": false
      }
     },
     "8e5c1d5678ad4c3e9e667fa13e9ab303": {
      "model_module": "@jupyter-widgets/base",
      "model_module_version": "1.2.0",
      "model_name": "LayoutModel",
      "state": {}
     },
     "8e9b8b11e0464f109cdd1dad407ca535": {
      "model_module": "jupyter-cytoscape",
      "model_module_version": "^1.2.2",
      "model_name": "EdgeModel",
      "state": {
       "_model_module_version": "^1.2.2",
       "_view_module_version": "^1.2.2",
       "classes": " directed ",
       "data": {
        "directed": true,
        "id": "5",
        "source": "\nUBERON:0002857: first lumbar dorsal root ganglion",
        "target": "UBERON:0016549: central nervous system white matter layer\nUBERON:0006448: first lumbar spinal cord segment"
       },
       "selectable": false
      }
     },
     "8eb665ca0a9042efbe84cc763b5dfea3": {
      "model_module": "jupyter-cytoscape",
      "model_module_version": "^1.2.2",
      "model_name": "EdgeModel",
      "state": {
       "_model_module_version": "^1.2.2",
       "_view_module_version": "^1.2.2",
       "classes": " directed ",
       "data": {
        "directed": true,
        "id": 0,
        "source": "\nUBERON:0002883: central amygdaloid nucleus\nUBERON:0001017: central nervous system\nUBERON:0001893: cerebrum",
        "target": "UBERON:0001017: central nervous system\nUBERON:0001893: cerebrum"
       },
       "selectable": false
      }
     },
     "8efe1e03909641e09606dd5e52ff9ee8": {
      "model_module": "jupyter-cytoscape",
      "model_module_version": "^1.2.2",
      "model_name": "EdgeModel",
      "state": {
       "_model_module_version": "^1.2.2",
       "_view_module_version": "^1.2.2",
       "classes": " directed ",
       "data": {
        "directed": true,
        "id": "1",
        "source": "\nEMAPA:25169",
        "target": "UBERON:0016549: central nervous system white matter layer\nILX:0738432: Sixth lumbar spinal cord segment"
       },
       "selectable": false
      }
     },
     "8f1a6eae42924378927828aeda76313e": {
      "model_module": "jupyter-cytoscape",
      "model_module_version": "^1.2.2",
      "model_name": "EdgeModel",
      "state": {
       "_model_module_version": "^1.2.2",
       "_view_module_version": "^1.2.2",
       "classes": " directed ",
       "data": {
        "directed": true,
        "id": 1,
        "source": "UBERON:0001017: central nervous system\nUBERON:0001894: diencephalon",
        "target": "UBERON:0001017: central nervous system\nUBERON:0001891: midbrain"
       },
       "selectable": false
      }
     },
     "8f3fdd579e9f428aaff2f103a4cd656c": {
      "model_module": "jupyter-cytoscape",
      "model_module_version": "^1.2.2",
      "model_name": "NodeModel",
      "state": {
       "_model_module_version": "^1.2.2",
       "_view_module_version": "^1.2.2",
       "data": {
        "id": "UBERON:0016549: central nervous system white matter layer\nUBERON:0006458: second thoracic spinal cord segment"
       },
       "grabbable": true,
       "grabbed": false,
       "selectable": false
      }
     },
     "8fba8f955577428e8461f1cd0930bf86": {
      "model_module": "jupyter-cytoscape",
      "model_module_version": "^1.2.2",
      "model_name": "EdgeModel",
      "state": {
       "_model_module_version": "^1.2.2",
       "_view_module_version": "^1.2.2",
       "classes": " directed ",
       "data": {
        "directed": true,
        "id": 0,
        "source": "UBERON:0016580: lamina IX of gray matter of spinal cord\nUBERON:0005844: spinal cord segment\n\nUBERON:0006447: fifth lumbar spinal cord segment",
        "target": "UBERON:0016549: central nervous system white matter layer\nUBERON:0005844: spinal cord segment\n\nUBERON:0006447: fifth lumbar spinal cord segment"
       },
       "selectable": false
      }
     },
     "90a1034c30bd4b6d8753f923a6a46f82": {
      "model_module": "jupyter-cytoscape",
      "model_module_version": "^1.2.2",
      "model_name": "EdgeModel",
      "state": {
       "_model_module_version": "^1.2.2",
       "_view_module_version": "^1.2.2",
       "classes": " directed ",
       "data": {
        "directed": true,
        "id": 1,
        "source": "UBERON:0001017: central nervous system\nUBERON:0001891: midbrain",
        "target": "UBERON:0001017: central nervous system\nUBERON:0000988: pons"
       },
       "selectable": false
      }
     },
     "90c826e1a5e5466e82c4d9f1ffe18733": {
      "model_module": "jupyter-cytoscape",
      "model_module_version": "^1.2.2",
      "model_name": "EdgeModel",
      "state": {
       "_model_module_version": "^1.2.2",
       "_view_module_version": "^1.2.2",
       "classes": " directed ",
       "data": {
        "directed": true,
        "id": 1,
        "source": "UBERON:0001017: central nervous system\nUBERON:0001894: diencephalon",
        "target": "UBERON:0001017: central nervous system\nUBERON:0001891: midbrain"
       },
       "selectable": false
      }
     },
     "91c18374c4c94c3ea6aeffecf3d1d631": {
      "model_module": "jupyter-cytoscape",
      "model_module_version": "^1.2.2",
      "model_name": "EdgeModel",
      "state": {
       "_model_module_version": "^1.2.2",
       "_view_module_version": "^1.2.2",
       "classes": " directed ",
       "data": {
        "directed": true,
        "id": "18",
        "source": "UBERON:0002384: connective tissue\nUBERON:0006082: fundus of urinary bladder",
        "target": "UBERON:0035965: wall of blood vessel\nUBERON:0001981: blood vessel\nUBERON:0002384: connective tissue\nUBERON:0006082: fundus of urinary bladder"
       },
       "selectable": false
      }
     },
     "93737f2ab8764957be6d00e78d725338": {
      "model_module": "jupyter-cytoscape",
      "model_module_version": "^1.2.2",
      "model_name": "EdgeModel",
      "state": {
       "_model_module_version": "^1.2.2",
       "_view_module_version": "^1.2.2",
       "classes": " directed ",
       "data": {
        "directed": true,
        "id": 0,
        "source": "UBERON:0016578: lamina VII of gray matter of spinal cord\nUBERON:0005844: spinal cord segment\n\nUBERON:0006448: first lumbar spinal cord segment",
        "target": "UBERON:0016549: central nervous system white matter layer\nUBERON:0005844: spinal cord segment\n\nUBERON:0006448: first lumbar spinal cord segment"
       },
       "selectable": false
      }
     },
     "939fa92415264794b716d9f02591be18": {
      "model_module": "jupyter-cytoscape",
      "model_module_version": "^1.2.2",
      "model_name": "EdgeModel",
      "state": {
       "_model_module_version": "^1.2.2",
       "_view_module_version": "^1.2.2",
       "classes": " directed ",
       "data": {
        "directed": true,
        "id": "2",
        "source": "\nUBERON:0005303: hypogastric nerve",
        "target": "\nUBERON:0016508: pelvic ganglion"
       },
       "selectable": false
      }
     },
     "94ee15b6695b40dcaaa7cb0003461f52": {
      "model_module": "jupyter-cytoscape",
      "model_module_version": "^1.2.2",
      "model_name": "NodeModel",
      "state": {
       "_model_module_version": "^1.2.2",
       "_view_module_version": "^1.2.2",
       "data": {
        "id": "\nUBERON:0018675: pelvic splanchnic nerve"
       },
       "grabbable": true,
       "grabbed": false,
       "position": {
        "x": 468.3465347752364,
        "y": 169.64481977420087
       },
       "selectable": false
      }
     },
     "9506c5279bf644ec9e60f068249e311c": {
      "model_module": "jupyter-cytoscape",
      "model_module_version": "^1.2.2",
      "model_name": "EdgeModel",
      "state": {
       "_model_module_version": "^1.2.2",
       "_view_module_version": "^1.2.2",
       "classes": " directed ",
       "data": {
        "directed": true,
        "id": 5,
        "source": "UBERON:0016549: central nervous system white matter layer\nUBERON:0006459: third thoracic spinal cord segment",
        "target": "UBERON:0016549: central nervous system white matter layer\nUBERON:0006452: fourth thoracic spinal cord segment"
       },
       "selectable": false
      }
     },
     "954c4eac15694b1a86c6c5964f16cb51": {
      "model_module": "@jupyter-widgets/base",
      "model_module_version": "1.2.0",
      "model_name": "LayoutModel",
      "state": {}
     },
     "96c1f995b68145cdb94d0bdae2f4fa11": {
      "model_module": "jupyter-cytoscape",
      "model_module_version": "^1.2.2",
      "model_name": "NodeModel",
      "state": {
       "_model_module_version": "^1.2.2",
       "_view_module_version": "^1.2.2",
       "data": {
        "id": "\nFMA:65911: Gray communicating ramus of second lumbar nerve"
       },
       "grabbable": true,
       "grabbed": false,
       "selectable": false
      }
     },
     "97049f2415e24f8693013433017917d7": {
      "model_module": "jupyter-cytoscape",
      "model_module_version": "^1.2.2",
      "model_name": "NodeModel",
      "state": {
       "_model_module_version": "^1.2.2",
       "_view_module_version": "^1.2.2",
       "data": {
        "id": "UBERON:0001017: central nervous system\nUBERON:0001891: midbrain"
       },
       "grabbable": true,
       "grabbed": false,
       "selectable": false
      }
     },
     "975702a6dc1b48e981c229c09c5d330d": {
      "model_module": "jupyter-cytoscape",
      "model_module_version": "^1.2.2",
      "model_name": "NodeModel",
      "state": {
       "_model_module_version": "^1.2.2",
       "_view_module_version": "^1.2.2",
       "data": {
        "id": "\nEMAPA:25271"
       },
       "grabbable": true,
       "grabbed": false,
       "selectable": false
      }
     },
     "97670d813bfb423a8396f9e08e682fc7": {
      "model_module": "jupyter-cytoscape",
      "model_module_version": "^1.2.2",
      "model_name": "NodeModel",
      "state": {
       "_model_module_version": "^1.2.2",
       "_view_module_version": "^1.2.2",
       "data": {
        "id": "\nEMAPA:25269"
       },
       "grabbable": true,
       "grabbed": false,
       "selectable": false
      }
     },
     "9832b3af679540f9859426e51186f4b4": {
      "model_module": "jupyter-cytoscape",
      "model_module_version": "^1.2.2",
      "model_name": "NodeModel",
      "state": {
       "_model_module_version": "^1.2.2",
       "_view_module_version": "^1.2.2",
       "data": {
        "id": "UBERON:0016549: central nervous system white matter layer\nUBERON:0005844: spinal cord segment\n\nILX:0738432: Sixth lumbar spinal cord segment"
       },
       "grabbable": true,
       "grabbed": false,
       "selectable": false
      }
     },
     "98765321c37f45e29602813bf84a8afb": {
      "model_module": "jupyter-cytoscape",
      "model_module_version": "^1.2.2",
      "model_name": "EdgeModel",
      "state": {
       "_model_module_version": "^1.2.2",
       "_view_module_version": "^1.2.2",
       "classes": " directed ",
       "data": {
        "directed": true,
        "id": 9,
        "source": "\nUBERON:0002860: first sacral dorsal root ganglion",
        "target": "\nUBERON:0011390: pudendal nerve"
       },
       "selectable": false
      }
     },
     "9a43b75e79274f7e8d460cfaf9004fec": {
      "model_module": "jupyter-cytoscape",
      "model_module_version": "^1.2.2",
      "model_name": "EdgeModel",
      "state": {
       "_model_module_version": "^1.2.2",
       "_view_module_version": "^1.2.2",
       "classes": " directed ",
       "data": {
        "directed": true,
        "id": "2",
        "source": "UBERON:0016549: central nervous system white matter layer\nUBERON:0006448: first lumbar spinal cord segment",
        "target": "UBERON:0004677: spinal cord gray commissure\nUBERON:0006448: first lumbar spinal cord segment"
       },
       "selectable": false
      }
     },
     "9a577e4d510d4242a75cd4863fb212b9": {
      "model_module": "jupyter-cytoscape",
      "model_module_version": "^1.2.2",
      "model_name": "GraphModel",
      "state": {
       "_adj": {
        "\nUBERON:0002883: central amygdaloid nucleus\nUBERON:0001017: central nervous system\nUBERON:0001893: cerebrum": {},
        "\nUBERON:0007632: Barrington's nucleus\nUBERON:0001017: central nervous system\nUBERON:0000988: pons": {},
        "UBERON:0001017: central nervous system\nUBERON:0000988: pons": {},
        "UBERON:0001017: central nervous system\nUBERON:0001891: midbrain": {},
        "UBERON:0001017: central nervous system\nUBERON:0001893: cerebrum": {},
        "UBERON:0001017: central nervous system\nUBERON:0001894: diencephalon": {}
       },
       "_model_module_version": "^1.2.2",
       "_view_module": "jupyter-cytoscape",
       "_view_module_version": "^1.2.2",
       "edges": [
        "IPY_MODEL_8eb665ca0a9042efbe84cc763b5dfea3",
        "IPY_MODEL_f3cf8ff18c4a4a5ca8f092081cdf9f9a",
        "IPY_MODEL_ec8edf7b4380465a89902974e05e2a65",
        "IPY_MODEL_1fdbc40cd91e49f6801c9e12bf5251cb",
        "IPY_MODEL_66b0872552974bfe8ff20a70872413c9"
       ],
       "nodes": [
        "IPY_MODEL_7f30e264cfc74eee86b738a6eb2cb78c",
        "IPY_MODEL_4b60f9365f5340568b7f385a840cb0d1",
        "IPY_MODEL_09f89118714a43e6b806d2915b3e608f",
        "IPY_MODEL_161a241904334d98861a6c8d676f7159",
        "IPY_MODEL_f4a3d106e85a44ae8474d10f798e363b",
        "IPY_MODEL_ff058a1f3ad844dfae3732cfef1d3dc3"
       ]
      }
     },
     "9acca43c374b4409a50a079cd74b6509": {
      "model_module": "jupyter-cytoscape",
      "model_module_version": "^1.2.2",
      "model_name": "NodeModel",
      "state": {
       "_model_module_version": "^1.2.2",
       "_view_module_version": "^1.2.2",
       "data": {
        "id": "UBERON:0016549: central nervous system white matter layer\nUBERON:0006468: twelfth thoracic spinal cord segment"
       },
       "grabbable": true,
       "grabbed": false,
       "selectable": false
      }
     },
     "9b000f89b8904ca2aa002b64d7809d1f": {
      "model_module": "jupyter-cytoscape",
      "model_module_version": "^1.2.2",
      "model_name": "EdgeModel",
      "state": {
       "_model_module_version": "^1.2.2",
       "_view_module_version": "^1.2.2",
       "classes": " directed ",
       "data": {
        "directed": true,
        "id": 4,
        "source": "UBERON:0016580: lamina IX of gray matter of spinal cord\nUBERON:0005844: spinal cord segment\n\nILX:0738432: Sixth lumbar spinal cord segment",
        "target": "UBERON:0016549: central nervous system white matter layer\nUBERON:0005844: spinal cord segment\n\nILX:0738432: Sixth lumbar spinal cord segment"
       },
       "selectable": false
      }
     },
     "9b15c161455f4a40903f348a2937c42f": {
      "model_module": "jupyter-cytoscape",
      "model_module_version": "^1.2.2",
      "model_name": "NodeModel",
      "state": {
       "_model_module_version": "^1.2.2",
       "_view_module_version": "^1.2.2",
       "data": {
        "id": "UBERON:0001017: central nervous system\nUBERON:0001891: midbrain"
       },
       "grabbable": true,
       "grabbed": false,
       "selectable": false
      }
     },
     "9c04a001f3774173b4f8c48d73bbdb1a": {
      "model_module": "jupyter-cytoscape",
      "model_module_version": "^1.2.2",
      "model_name": "NodeModel",
      "state": {
       "_model_module_version": "^1.2.2",
       "_view_module_version": "^1.2.2",
       "data": {
        "id": "\nUBERON:0016508: pelvic ganglion"
       },
       "grabbable": true,
       "grabbed": false,
       "position": {
        "x": 786.3498764340551,
        "y": 281.70882850024685
       },
       "selectable": false
      }
     },
     "9c13724a00924a0eb48c6b912a1a1a70": {
      "model_module": "@jupyter-widgets/base",
      "model_module_version": "1.2.0",
      "model_name": "LayoutModel",
      "state": {}
     },
     "9cec67d935c148dead3c929f5c8ee8fa": {
      "model_module": "jupyter-cytoscape",
      "model_module_version": "^1.2.2",
      "model_name": "NodeModel",
      "state": {
       "_model_module_version": "^1.2.2",
       "_view_module_version": "^1.2.2",
       "data": {
        "id": "\nUBERON:0007632: Barrington's nucleus\nUBERON:0001017: central nervous system\nUBERON:0000988: pons"
       },
       "grabbable": true,
       "grabbed": false,
       "selectable": false
      }
     },
     "9d030bc28b63463ca213d59282e63bcf": {
      "model_module": "jupyter-cytoscape",
      "model_module_version": "^1.2.2",
      "model_name": "NodeModel",
      "state": {
       "_model_module_version": "^1.2.2",
       "_view_module_version": "^1.2.2",
       "data": {
        "id": "UBERON:0016549: central nervous system white matter layer\nUBERON:0006488: C3 segment of cervical spinal cord"
       },
       "grabbable": true,
       "grabbed": false,
       "selectable": false
      }
     },
     "9d2473df657b43b2ba5bf7b9d4ded21b": {
      "model_module": "jupyter-cytoscape",
      "model_module_version": "^1.2.2",
      "model_name": "NodeModel",
      "state": {
       "_model_module_version": "^1.2.2",
       "_view_module_version": "^1.2.2",
       "data": {
        "id": "UBERON:0001017: central nervous system\nUBERON:0000988: pons"
       },
       "grabbable": true,
       "grabbed": false,
       "selectable": false
      }
     },
     "9d4d74e09f0443589046dbc5e0834673": {
      "model_module": "jupyter-cytoscape",
      "model_module_version": "^1.2.2",
      "model_name": "EdgeModel",
      "state": {
       "_model_module_version": "^1.2.2",
       "_view_module_version": "^1.2.2",
       "classes": " directed ",
       "data": {
        "directed": true,
        "id": 17,
        "source": "UBERON:0016549: central nervous system white matter layer\nUBERON:0006448: first lumbar spinal cord segment",
        "target": "UBERON:0016549: central nervous system white matter layer\nUBERON:0006450: second lumbar spinal cord segment"
       },
       "selectable": false
      }
     },
     "9e1356364fe54053a31c775d26a10340": {
      "model_module": "jupyter-cytoscape",
      "model_module_version": "^1.2.2",
      "model_name": "EdgeModel",
      "state": {
       "_model_module_version": "^1.2.2",
       "_view_module_version": "^1.2.2",
       "classes": " directed ",
       "data": {
        "directed": true,
        "id": 2,
        "source": "UBERON:0001017: central nervous system\nUBERON:0000988: pons",
        "target": "\nUBERON:0007632: Barrington's nucleus\nUBERON:0001017: central nervous system\nUBERON:0000988: pons"
       },
       "selectable": false
      }
     },
     "9f7541077ddc49a19c6ad9c35268a826": {
      "model_module": "jupyter-cytoscape",
      "model_module_version": "^1.2.2",
      "model_name": "NodeModel",
      "state": {
       "_model_module_version": "^1.2.2",
       "_view_module_version": "^1.2.2",
       "data": {
        "id": "UBERON:0001017: central nervous system\nUBERON:0001891: midbrain"
       },
       "grabbable": true,
       "grabbed": false,
       "selectable": false
      }
     },
     "a00c46f24f054d359555b2a65145121f": {
      "model_module": "jupyter-cytoscape",
      "model_module_version": "^1.2.2",
      "model_name": "NodeModel",
      "state": {
       "_model_module_version": "^1.2.2",
       "_view_module_version": "^1.2.2",
       "data": {
        "id": "UBERON:0016578: lamina VII of gray matter of spinal cord\nUBERON:0006460: first sacral spinal cord segment\n\nUBERON:0005844: spinal cord segment"
       },
       "grabbable": true,
       "grabbed": false,
       "selectable": false
      }
     },
     "a050aec9f5744f71872b74d91e28b939": {
      "model_module": "@jupyter-widgets/base",
      "model_module_version": "1.2.0",
      "model_name": "LayoutModel",
      "state": {}
     },
     "a0570f7a552f458fb7c98ca03af80927": {
      "model_module": "jupyter-cytoscape",
      "model_module_version": "^1.2.2",
      "model_name": "CytoscapeModel",
      "state": {
       "_interaction_handlers": {},
       "_model_module_version": "^1.2.2",
       "_view_module_version": "^1.2.2",
       "auto_ungrabify": false,
       "autolock": false,
       "cytoscape_layout": {
        "name": "cola"
       },
       "cytoscape_style": [
        {
         "selector": "node",
         "style": {
          "background-color": "#80F0F0",
          "font-size": "10px",
          "label": "data(id)",
          "text-max-width": "80px",
          "text-valign": "center",
          "text-wrap": "wrap"
         }
        },
        {
         "selector": "edge.directed",
         "style": {
          "line-color": "#9dbaea",
          "mid-target-arrow-color": "#8090c0",
          "mid-target-arrow-shape": "triangle",
          "width": 2
         }
        }
       ],
       "desktop_tap_threshold": 4,
       "graph": "IPY_MODEL_9a577e4d510d4242a75cd4863fb212b9",
       "headless": false,
       "hide_edges_on_viewport": false,
       "layout": "IPY_MODEL_c4f54d16400a4c84b61e7b140c5c4f3f",
       "max_zoom": 1e+50,
       "min_zoom": 1e-50,
       "motion_blur": false,
       "motion_blur_opacity": 0.2,
       "panning_enabled": true,
       "pixel_ratio": "auto",
       "rendered_position": {
        "renderedPosition": {
         "x": 100,
         "y": 100
        }
       },
       "selection_type": "single",
       "style_enabled": true,
       "texture_on_viewport": false,
       "tooltip_source": "tooltip",
       "touch_tap_threshold": 8,
       "user_panning_enabled": true,
       "user_zooming_enabled": true,
       "wheel_sensitivity": 1,
       "zoom": 2,
       "zooming_enabled": true
      }
     },
     "a0710a36a2e74c82882689e9fc0ff888": {
      "model_module": "jupyter-cytoscape",
      "model_module_version": "^1.2.2",
      "model_name": "NodeModel",
      "state": {
       "_model_module_version": "^1.2.2",
       "_view_module_version": "^1.2.2",
       "data": {
        "id": "\nILX:0777087: T13 - L1 Interganglionic segment"
       },
       "grabbable": true,
       "grabbed": false,
       "selectable": false
      }
     },
     "a1b63caa9bbe4a4e9739d736f74e8ed9": {
      "model_module": "jupyter-cytoscape",
      "model_module_version": "^1.2.2",
      "model_name": "EdgeModel",
      "state": {
       "_model_module_version": "^1.2.2",
       "_view_module_version": "^1.2.2",
       "classes": " directed ",
       "data": {
        "directed": true,
        "id": 10,
        "source": "UBERON:0016549: central nervous system white matter layer\nUBERON:0006456: eighth thoracic spinal cord segment",
        "target": "UBERON:0016549: central nervous system white matter layer\nUBERON:0006465: ninth thoracic spinal cord segment"
       },
       "selectable": false
      }
     },
     "a1dcdde52e694321896b7231978ddfc6": {
      "model_module": "jupyter-cytoscape",
      "model_module_version": "^1.2.2",
      "model_name": "EdgeModel",
      "state": {
       "_model_module_version": "^1.2.2",
       "_view_module_version": "^1.2.2",
       "classes": " directed ",
       "data": {
        "directed": true,
        "id": "4",
        "source": "UBERON:0016549: central nervous system white matter layer\nUBERON:0006448: first lumbar spinal cord segment",
        "target": "UBERON:0016576: lamina V of gray matter of spinal cord\nUBERON:0006448: first lumbar spinal cord segment"
       },
       "selectable": false
      }
     },
     "a204cb72f5b04578afc3a6f5f4595662": {
      "model_module": "jupyter-cytoscape",
      "model_module_version": "^1.2.2",
      "model_name": "EdgeModel",
      "state": {
       "_model_module_version": "^1.2.2",
       "_view_module_version": "^1.2.2",
       "classes": " directed ",
       "data": {
        "directed": true,
        "id": "10",
        "source": "UBERON:0016549: central nervous system white matter layer\nUBERON:0006450: second lumbar spinal cord segment",
        "target": "UBERON:0016576: lamina V of gray matter of spinal cord\nUBERON:0006450: second lumbar spinal cord segment"
       },
       "selectable": false
      }
     },
     "a24129859da7411fb6b650ecf1909b37": {
      "model_module": "jupyter-cytoscape",
      "model_module_version": "^1.2.2",
      "model_name": "NodeModel",
      "state": {
       "_model_module_version": "^1.2.2",
       "_view_module_version": "^1.2.2",
       "data": {
        "id": "\nUBERON:0005453: inferior mesenteric ganglion"
       },
       "grabbable": true,
       "grabbed": false,
       "position": {
        "x": 356.2250757191318,
        "y": 239.29264120104793
       },
       "selectable": false
      }
     },
     "a3340ce7c48f4aeb9f55e90b87695b89": {
      "model_module": "jupyter-cytoscape",
      "model_module_version": "^1.2.2",
      "model_name": "GraphModel",
      "state": {
       "_adj": {
        "\nEMAPA:25277": {},
        "\nEMAPA:25279": {},
        "\nUBERON:0011390: pudendal nerve": {},
        "EMAPA:32269\nUBERON:0000057: urethra": {},
        "UBERON:0016549: central nervous system white matter layer\nUBERON:0005844: spinal cord segment\n\nILX:0738432: Sixth lumbar spinal cord segment": {},
        "UBERON:0016549: central nervous system white matter layer\nUBERON:0005844: spinal cord segment\n\nUBERON:0006447: fifth lumbar spinal cord segment": {},
        "UBERON:0016580: lamina IX of gray matter of spinal cord\nUBERON:0005844: spinal cord segment\n\nILX:0738432: Sixth lumbar spinal cord segment": {},
        "UBERON:0016580: lamina IX of gray matter of spinal cord\nUBERON:0005844: spinal cord segment\n\nUBERON:0006447: fifth lumbar spinal cord segment": {}
       },
       "_model_module_version": "^1.2.2",
       "_view_module": "jupyter-cytoscape",
       "_view_module_version": "^1.2.2",
       "edges": [
        "IPY_MODEL_8fba8f955577428e8461f1cd0930bf86",
        "IPY_MODEL_b4031d8e506346ffb24cd902f20c1c9e",
        "IPY_MODEL_d64ef2aad9324a25b0d271a2fd3eb686",
        "IPY_MODEL_6d418f5e4f824a809b5718f7a27a821c",
        "IPY_MODEL_9b000f89b8904ca2aa002b64d7809d1f",
        "IPY_MODEL_7d37c9f490504ac9a65abdf8f89c0d4a",
        "IPY_MODEL_f9d6865fadd94880b7cd99dbabc744e6"
       ],
       "nodes": [
        "IPY_MODEL_f72e474f30ae4e839ad6097890b092b5",
        "IPY_MODEL_08ffe08d7a394c269ab8d5bf8764eeb6",
        "IPY_MODEL_a77157d575ed4f0cafcf18be55a24079",
        "IPY_MODEL_a93b5172bd744e6cb1ff74b2dd1ad529",
        "IPY_MODEL_420a5002dd344efd9ef2bdb9904fa6c7",
        "IPY_MODEL_3a5d5b56678644c59cca009f3f7667e5",
        "IPY_MODEL_9832b3af679540f9859426e51186f4b4",
        "IPY_MODEL_45e6755d6f124795a0232a16674e7e44"
       ]
      }
     },
     "a379f5fc2a4d4a5daf157a030fe93f4d": {
      "model_module": "jupyter-cytoscape",
      "model_module_version": "^1.2.2",
      "model_name": "CytoscapeModel",
      "state": {
       "_interaction_handlers": {},
       "_model_module_version": "^1.2.2",
       "_view_module_version": "^1.2.2",
       "auto_ungrabify": false,
       "autolock": false,
       "cytoscape_layout": {
        "name": "cola"
       },
       "cytoscape_style": [
        {
         "selector": "node",
         "style": {
          "background-color": "#80F0F0",
          "font-size": "10px",
          "label": "data(id)",
          "text-max-width": "80px",
          "text-valign": "center",
          "text-wrap": "wrap"
         }
        },
        {
         "selector": "edge.directed",
         "style": {
          "line-color": "#9dbaea",
          "mid-target-arrow-color": "#8090c0",
          "mid-target-arrow-shape": "triangle",
          "width": 2
         }
        }
       ],
       "desktop_tap_threshold": 4,
       "graph": "IPY_MODEL_b80bd32423954d9b83f2fd7f9073c86f",
       "headless": false,
       "hide_edges_on_viewport": false,
       "layout": "IPY_MODEL_75efbcacd91945ccb85ef98cfdc763f4",
       "max_zoom": 1e+50,
       "min_zoom": 1e-50,
       "motion_blur": false,
       "motion_blur_opacity": 0.2,
       "panning_enabled": true,
       "pixel_ratio": "auto",
       "rendered_position": {
        "renderedPosition": {
         "x": 100,
         "y": 100
        }
       },
       "selection_type": "single",
       "style_enabled": true,
       "texture_on_viewport": false,
       "tooltip_source": "tooltip",
       "touch_tap_threshold": 8,
       "user_panning_enabled": true,
       "user_zooming_enabled": true,
       "wheel_sensitivity": 1,
       "zoom": 2,
       "zooming_enabled": true
      }
     },
     "a40ba0c2e0904f638f00c669afc4ef75": {
      "model_module": "jupyter-cytoscape",
      "model_module_version": "^1.2.2",
      "model_name": "CytoscapeModel",
      "state": {
       "_interaction_handlers": {},
       "_model_module_version": "^1.2.2",
       "_view_module_version": "^1.2.2",
       "auto_ungrabify": false,
       "autolock": false,
       "cytoscape_layout": {
        "name": "cola"
       },
       "cytoscape_style": [
        {
         "selector": "node",
         "style": {
          "background-color": "#80F0F0",
          "font-size": "10px",
          "label": "data(id)",
          "text-max-width": "80px",
          "text-valign": "center",
          "text-wrap": "wrap"
         }
        },
        {
         "selector": "edge.directed",
         "style": {
          "line-color": "#9dbaea",
          "mid-target-arrow-color": "#8090c0",
          "mid-target-arrow-shape": "triangle",
          "width": 2
         }
        }
       ],
       "desktop_tap_threshold": 4,
       "graph": "IPY_MODEL_3468d0a7b205446880f468b47eb77fa9",
       "headless": false,
       "hide_edges_on_viewport": false,
       "layout": "IPY_MODEL_f4119c58133b4b3291cfcf753ce782b9",
       "max_zoom": 1e+50,
       "min_zoom": 1e-50,
       "motion_blur": false,
       "motion_blur_opacity": 0.2,
       "panning_enabled": true,
       "pixel_ratio": "auto",
       "rendered_position": {
        "renderedPosition": {
         "x": 100,
         "y": 100
        }
       },
       "selection_type": "single",
       "style_enabled": true,
       "texture_on_viewport": false,
       "tooltip_source": "tooltip",
       "touch_tap_threshold": 8,
       "user_panning_enabled": true,
       "user_zooming_enabled": true,
       "wheel_sensitivity": 1,
       "zoom": 2,
       "zooming_enabled": true
      }
     },
     "a493059ff7fd48c4911f2206bf5b43b2": {
      "model_module": "jupyter-cytoscape",
      "model_module_version": "^1.2.2",
      "model_name": "NodeModel",
      "state": {
       "_model_module_version": "^1.2.2",
       "_view_module_version": "^1.2.2",
       "data": {
        "id": "UBERON:0016578: lamina VII of gray matter of spinal cord\nILX:0738432: Sixth lumbar spinal cord segment"
       },
       "grabbable": true,
       "grabbed": false,
       "position": {
        "x": 131.70277831296983,
        "y": 172.8640350685638
       },
       "selectable": false
      }
     },
     "a4c194c3bf254067816966577e8a6621": {
      "model_module": "jupyter-cytoscape",
      "model_module_version": "^1.2.2",
      "model_name": "EdgeModel",
      "state": {
       "_model_module_version": "^1.2.2",
       "_view_module_version": "^1.2.2",
       "classes": " directed ",
       "data": {
        "directed": true,
        "id": 16,
        "source": "\nILX:0739295: thirteenth thoracic ganglion",
        "target": "\nILX:0777087: T13 - L1 Interganglionic segment"
       },
       "selectable": false
      }
     },
     "a51b7eabfbf74d0786c65f6cd01cb8e5": {
      "model_module": "jupyter-cytoscape",
      "model_module_version": "^1.2.2",
      "model_name": "NodeModel",
      "state": {
       "_model_module_version": "^1.2.2",
       "_view_module_version": "^1.2.2",
       "data": {
        "id": "UBERON:0002384: connective tissue\nUBERON:0006082: fundus of urinary bladder"
       },
       "grabbable": true,
       "grabbed": false,
       "position": {
        "x": 692.2508342923816,
        "y": 499.0642985028406
       },
       "selectable": false
      }
     },
     "a5db1282130a416dbf5bc7d4fa03568e": {
      "model_module": "jupyter-cytoscape",
      "model_module_version": "^1.2.2",
      "model_name": "NodeModel",
      "state": {
       "_model_module_version": "^1.2.2",
       "_view_module_version": "^1.2.2",
       "data": {
        "id": "\nUBERON:0002856: second lumbar dorsal root ganglion"
       },
       "grabbable": true,
       "grabbed": false,
       "position": {
        "x": 362.51728090771394,
        "y": 1.4005768673986383
       },
       "selectable": false
      }
     },
     "a652f65f873d4347ab6f8cf6210f38fb": {
      "model_module": "jupyter-cytoscape",
      "model_module_version": "^1.2.2",
      "model_name": "NodeModel",
      "state": {
       "_model_module_version": "^1.2.2",
       "_view_module_version": "^1.2.2",
       "data": {
        "id": "\nUBERON:0016508: pelvic ganglion"
       },
       "grabbable": true,
       "grabbed": false,
       "selectable": false
      }
     },
     "a68acbc768a7496192adf9d1d9d671d8": {
      "model_module": "jupyter-cytoscape",
      "model_module_version": "^1.2.2",
      "model_name": "NodeModel",
      "state": {
       "_model_module_version": "^1.2.2",
       "_view_module_version": "^1.2.2",
       "data": {
        "id": "UBERON:0001017: central nervous system\nUBERON:0000988: pons"
       },
       "grabbable": true,
       "grabbed": false,
       "selectable": false
      }
     },
     "a7571bf5552845a3982cafcccc9ff585": {
      "model_module": "jupyter-cytoscape",
      "model_module_version": "^1.2.2",
      "model_name": "EdgeModel",
      "state": {
       "_model_module_version": "^1.2.2",
       "_view_module_version": "^1.2.2",
       "classes": " directed ",
       "data": {
        "directed": true,
        "id": 8,
        "source": "\nILX:0777086: T12 - T13 Interganglionic segment",
        "target": "\nILX:0739295: thirteenth thoracic ganglion"
       },
       "selectable": false
      }
     },
     "a77157d575ed4f0cafcf18be55a24079": {
      "model_module": "jupyter-cytoscape",
      "model_module_version": "^1.2.2",
      "model_name": "NodeModel",
      "state": {
       "_model_module_version": "^1.2.2",
       "_view_module_version": "^1.2.2",
       "data": {
        "id": "\nEMAPA:25277"
       },
       "grabbable": true,
       "grabbed": false,
       "selectable": false
      }
     },
     "a7d2b09ef0d942748d29aa2099d77e6f": {
      "model_module": "jupyter-cytoscape",
      "model_module_version": "^1.2.2",
      "model_name": "NodeModel",
      "state": {
       "_model_module_version": "^1.2.2",
       "_view_module_version": "^1.2.2",
       "data": {
        "id": "UBERON:0035965: wall of blood vessel\nUBERON:0001981: blood vessel\nUBERON:0002384: connective tissue\nUBERON:0006082: fundus of urinary bladder"
       },
       "grabbable": true,
       "grabbed": false,
       "position": {
        "x": 774.7057183089759,
        "y": 579.8515089858626
       },
       "selectable": false
      }
     },
     "a7e994f04d2f41d6820b830dbb578914": {
      "model_module": "jupyter-cytoscape",
      "model_module_version": "^1.2.2",
      "model_name": "NodeModel",
      "state": {
       "_model_module_version": "^1.2.2",
       "_view_module_version": "^1.2.2",
       "data": {
        "id": "UBERON:0016549: central nervous system white matter layer\nUBERON:0006451: fourth lumbar spinal cord segment"
       },
       "grabbable": true,
       "grabbed": false,
       "selectable": false
      }
     },
     "a7ff6422c4684ed88b8613a91f1e2c54": {
      "model_module": "jupyter-cytoscape",
      "model_module_version": "^1.2.2",
      "model_name": "GraphModel",
      "state": {
       "_adj": {},
       "_model_module_version": "^1.2.2",
       "_view_module": "jupyter-cytoscape",
       "_view_module_version": "^1.2.2"
      }
     },
     "a82b232d45be4f77aa730fa1a4521c50": {
      "model_module": "jupyter-cytoscape",
      "model_module_version": "^1.2.2",
      "model_name": "CytoscapeModel",
      "state": {
       "_interaction_handlers": {},
       "_model_module_version": "^1.2.2",
       "_view_module_version": "^1.2.2",
       "auto_ungrabify": false,
       "autolock": false,
       "cytoscape_layout": {
        "name": "cola"
       },
       "cytoscape_style": [
        {
         "selector": "node",
         "style": {
          "background-color": "#80F0F0",
          "font-size": "10px",
          "label": "data(id)",
          "text-max-width": "80px",
          "text-valign": "center",
          "text-wrap": "wrap"
         }
        },
        {
         "selector": "edge.directed",
         "style": {
          "line-color": "#9dbaea",
          "mid-target-arrow-color": "#8090c0",
          "mid-target-arrow-shape": "triangle",
          "width": 2
         }
        }
       ],
       "desktop_tap_threshold": 4,
       "graph": "IPY_MODEL_4bfabd119fe24d4481662fc0c65d4fcf",
       "headless": false,
       "hide_edges_on_viewport": false,
       "layout": "IPY_MODEL_fa4ba9c428a64d5d89194b2a7ebf5b4f",
       "max_zoom": 1e+50,
       "min_zoom": 1e-50,
       "motion_blur": false,
       "motion_blur_opacity": 0.2,
       "panning_enabled": true,
       "pixel_ratio": "auto",
       "rendered_position": {
        "renderedPosition": {
         "x": 100,
         "y": 100
        }
       },
       "selection_type": "single",
       "style_enabled": true,
       "texture_on_viewport": false,
       "tooltip_source": "tooltip",
       "touch_tap_threshold": 8,
       "user_panning_enabled": true,
       "user_zooming_enabled": true,
       "wheel_sensitivity": 1,
       "zoom": 2,
       "zooming_enabled": true
      }
     },
     "a850d456d1274282a55fc959df9eaef4": {
      "model_module": "@jupyter-widgets/base",
      "model_module_version": "1.2.0",
      "model_name": "LayoutModel",
      "state": {}
     },
     "a87dab240e944544926994fb416b7633": {
      "model_module": "jupyter-cytoscape",
      "model_module_version": "^1.2.2",
      "model_name": "NodeModel",
      "state": {
       "_model_module_version": "^1.2.2",
       "_view_module_version": "^1.2.2",
       "data": {
        "id": "UBERON:0001135: smooth muscle tissue\nUBERON:0006082: fundus of urinary bladder"
       },
       "grabbable": true,
       "grabbed": false,
       "position": {
        "x": 636.2753497813521,
        "y": 609.8152684518783
       },
       "selectable": false
      }
     },
     "a93b5172bd744e6cb1ff74b2dd1ad529": {
      "model_module": "jupyter-cytoscape",
      "model_module_version": "^1.2.2",
      "model_name": "NodeModel",
      "state": {
       "_model_module_version": "^1.2.2",
       "_view_module_version": "^1.2.2",
       "data": {
        "id": "\nUBERON:0011390: pudendal nerve"
       },
       "grabbable": true,
       "grabbed": false,
       "selectable": false
      }
     },
     "aa4ce431e56c4c66914a8a02e04e2c4d": {
      "model_module": "jupyter-cytoscape",
      "model_module_version": "^1.2.2",
      "model_name": "NodeModel",
      "state": {
       "_model_module_version": "^1.2.2",
       "_view_module_version": "^1.2.2",
       "data": {
        "id": "EMAPA:32269\nUBERON:0000057: urethra"
       },
       "grabbable": true,
       "grabbed": false,
       "selectable": false
      }
     },
     "aa6e259226104f529f8266e82b27181e": {
      "model_module": "jupyter-cytoscape",
      "model_module_version": "^1.2.2",
      "model_name": "NodeModel",
      "state": {
       "_model_module_version": "^1.2.2",
       "_view_module_version": "^1.2.2",
       "data": {
        "id": "\nILX:0777086: T12 - T13 Interganglionic segment"
       },
       "grabbable": true,
       "grabbed": false,
       "selectable": false
      }
     },
     "ac0faab7925f498192c9e93a7708d1b3": {
      "model_module": "jupyter-cytoscape",
      "model_module_version": "^1.2.2",
      "model_name": "CytoscapeModel",
      "state": {
       "_interaction_handlers": {},
       "_model_module_version": "^1.2.2",
       "_view_module_version": "^1.2.2",
       "auto_ungrabify": false,
       "autolock": false,
       "cytoscape_layout": {
        "name": "cola"
       },
       "cytoscape_style": [
        {
         "selector": "node",
         "style": {
          "background-color": "#80F0F0",
          "font-size": "10px",
          "label": "data(id)",
          "text-max-width": "80px",
          "text-valign": "center",
          "text-wrap": "wrap"
         }
        },
        {
         "selector": "edge.directed",
         "style": {
          "line-color": "#9dbaea",
          "mid-target-arrow-color": "#8090c0",
          "mid-target-arrow-shape": "triangle",
          "width": 2
         }
        }
       ],
       "desktop_tap_threshold": 4,
       "graph": "IPY_MODEL_6c0957bec0e54da2a1ea2b2ff4bf786c",
       "headless": false,
       "hide_edges_on_viewport": false,
       "layout": "IPY_MODEL_e1c11b6985374892962e0c644b9d0786",
       "max_zoom": 1e+50,
       "min_zoom": 1e-50,
       "motion_blur": false,
       "motion_blur_opacity": 0.2,
       "panning_enabled": true,
       "pixel_ratio": "auto",
       "rendered_position": {
        "renderedPosition": {
         "x": 100,
         "y": 100
        }
       },
       "selection_type": "single",
       "style_enabled": true,
       "texture_on_viewport": false,
       "tooltip_source": "tooltip",
       "touch_tap_threshold": 8,
       "user_panning_enabled": true,
       "user_zooming_enabled": true,
       "wheel_sensitivity": 1,
       "zoom": 2,
       "zooming_enabled": true
      }
     },
     "acba648644214406970c407a21fe0ce9": {
      "model_module": "jupyter-cytoscape",
      "model_module_version": "^1.2.2",
      "model_name": "NodeModel",
      "state": {
       "_model_module_version": "^1.2.2",
       "_view_module_version": "^1.2.2",
       "data": {
        "id": "UBERON:0016549: central nervous system white matter layer\nUBERON:0006452: fourth thoracic spinal cord segment"
       },
       "grabbable": true,
       "grabbed": false,
       "selectable": false
      }
     },
     "ad3247af84c545f58ba944bc14825af5": {
      "model_module": "jupyter-cytoscape",
      "model_module_version": "^1.2.2",
      "model_name": "NodeModel",
      "state": {
       "_model_module_version": "^1.2.2",
       "_view_module_version": "^1.2.2",
       "data": {
        "id": "UBERON:0035965: wall of blood vessel\nUBERON:0001981: blood vessel\nUBERON:0002384: connective tissue\nUBERON:0001258: neck of urinary bladder"
       },
       "grabbable": true,
       "grabbed": false,
       "selectable": false
      }
     },
     "ad56fcb598954651afa63489d1856be4": {
      "model_module": "jupyter-cytoscape",
      "model_module_version": "^1.2.2",
      "model_name": "EdgeModel",
      "state": {
       "_model_module_version": "^1.2.2",
       "_view_module_version": "^1.2.2",
       "classes": " directed ",
       "data": {
        "directed": true,
        "id": 9,
        "source": "UBERON:0016549: central nervous system white matter layer\nUBERON:0006455: seventh thoracic spinal cord segment",
        "target": "UBERON:0016549: central nervous system white matter layer\nUBERON:0006456: eighth thoracic spinal cord segment"
       },
       "selectable": false
      }
     },
     "ad76620fd8dd4ebaa28c9adfd141118e": {
      "model_module": "jupyter-cytoscape",
      "model_module_version": "^1.2.2",
      "model_name": "EdgeModel",
      "state": {
       "_model_module_version": "^1.2.2",
       "_view_module_version": "^1.2.2",
       "classes": " directed ",
       "data": {
        "directed": true,
        "id": 3,
        "source": "UBERON:0001017: central nervous system\nUBERON:0000988: pons",
        "target": "\nUBERON:0007632: Barrington's nucleus\nUBERON:0001017: central nervous system\nUBERON:0000988: pons"
       },
       "selectable": false
      }
     },
     "ad81b095f7f2416483771d61c1b99d26": {
      "model_module": "jupyter-cytoscape",
      "model_module_version": "^1.2.2",
      "model_name": "EdgeModel",
      "state": {
       "_model_module_version": "^1.2.2",
       "_view_module_version": "^1.2.2",
       "classes": " directed ",
       "data": {
        "directed": true,
        "id": 4,
        "source": "\nFMA:6540: First lumbar ganglion",
        "target": "\nFMA:65910: Gray communicating ramus of first lumbar nerve"
       },
       "selectable": false
      }
     },
     "ad8859a4800a423aa27ad96cb5123584": {
      "model_module": "jupyter-cytoscape",
      "model_module_version": "^1.2.2",
      "model_name": "NodeModel",
      "state": {
       "_model_module_version": "^1.2.2",
       "_view_module_version": "^1.2.2",
       "data": {
        "id": "\nEMAPA:31526"
       },
       "grabbable": true,
       "grabbed": false,
       "selectable": false
      }
     },
     "adb18f2fd69d469d8e0992b3435fbddf": {
      "model_module": "jupyter-cytoscape",
      "model_module_version": "^1.2.2",
      "model_name": "CytoscapeModel",
      "state": {
       "_interaction_handlers": {},
       "_model_module_version": "^1.2.2",
       "_view_module_version": "^1.2.2",
       "auto_ungrabify": false,
       "autolock": false,
       "cytoscape_layout": {
        "name": "cola"
       },
       "cytoscape_style": [
        {
         "selector": "node",
         "style": {
          "background-color": "#80F0F0",
          "font-size": "10px",
          "label": "data(id)",
          "text-max-width": "80px",
          "text-valign": "center",
          "text-wrap": "wrap"
         }
        },
        {
         "selector": "edge.directed",
         "style": {
          "line-color": "#9dbaea",
          "mid-target-arrow-color": "#8090c0",
          "mid-target-arrow-shape": "triangle",
          "width": 2
         }
        }
       ],
       "desktop_tap_threshold": 4,
       "graph": "IPY_MODEL_c85763e01bed409abdb71995b31ef635",
       "headless": false,
       "hide_edges_on_viewport": false,
       "layout": "IPY_MODEL_a850d456d1274282a55fc959df9eaef4",
       "max_zoom": 1e+50,
       "min_zoom": 1e-50,
       "motion_blur": false,
       "motion_blur_opacity": 0.2,
       "panning_enabled": true,
       "pixel_ratio": "auto",
       "rendered_position": {
        "renderedPosition": {
         "x": 100,
         "y": 100
        }
       },
       "selection_type": "single",
       "style_enabled": true,
       "texture_on_viewport": false,
       "tooltip_source": "tooltip",
       "touch_tap_threshold": 8,
       "user_panning_enabled": true,
       "user_zooming_enabled": true,
       "wheel_sensitivity": 1,
       "zoom": 2,
       "zooming_enabled": true
      }
     },
     "ae1a31bce23b4c42bf8b7ad53ae6ba6c": {
      "model_module": "jupyter-cytoscape",
      "model_module_version": "^1.2.2",
      "model_name": "NodeModel",
      "state": {
       "_model_module_version": "^1.2.2",
       "_view_module_version": "^1.2.2",
       "data": {
        "id": "\nEMAPA:25269"
       },
       "grabbable": true,
       "grabbed": false,
       "selectable": false
      }
     },
     "ae1b682e04664f609054a9a279c2cf70": {
      "model_module": "jupyter-cytoscape",
      "model_module_version": "^1.2.2",
      "model_name": "EdgeModel",
      "state": {
       "_model_module_version": "^1.2.2",
       "_view_module_version": "^1.2.2",
       "classes": " directed ",
       "data": {
        "directed": true,
        "id": 9,
        "source": "\nEMAPA:31526",
        "target": "UBERON:0002384: connective tissue\nUBERON:0001258: neck of urinary bladder"
       },
       "selectable": false
      }
     },
     "af6ff0ab86cd432fa4f1cd9e38b0fc93": {
      "model_module": "jupyter-cytoscape",
      "model_module_version": "^1.2.2",
      "model_name": "GraphModel",
      "state": {
       "_adj": {
        "\nEMAPA:31526": {},
        "\nUBERON:0016508: pelvic ganglion": {},
        "UBERON:0001135: smooth muscle tissue\nUBERON:0001258: neck of urinary bladder": {},
        "UBERON:0001135: smooth muscle tissue\nUBERON:0006082: fundus of urinary bladder": {},
        "UBERON:0002384: connective tissue\nUBERON:0001258: neck of urinary bladder": {},
        "UBERON:0002384: connective tissue\nUBERON:0006082: fundus of urinary bladder": {}
       },
       "_model_module_version": "^1.2.2",
       "_view_module": "jupyter-cytoscape",
       "_view_module_version": "^1.2.2",
       "edges": [
        "IPY_MODEL_70131ac7bf99446abe926f89b93bf8ac",
        "IPY_MODEL_f16b1587d45e4822989598f46756e735",
        "IPY_MODEL_56d0d70fb43c4815aaaea8eb527459bd",
        "IPY_MODEL_b21f2b17926042cbbd96f952e0aad22a",
        "IPY_MODEL_432d2bd0e83b48c2add2a55dae6def68"
       ],
       "nodes": [
        "IPY_MODEL_ad8859a4800a423aa27ad96cb5123584",
        "IPY_MODEL_5bb3ae2ef45749bda108a7ce9b48a479",
        "IPY_MODEL_d85ce9a2e26443e59e9dcb7502b7bd03",
        "IPY_MODEL_e315a4924f5140959452db7058a3d340",
        "IPY_MODEL_bd33e1e9ab684d4a8ca47659ae595970",
        "IPY_MODEL_ec1f7cee1d594058817c4e3db227573a"
       ]
      }
     },
     "af9ab89da7114d4d9e75c34ab5a4dc1d": {
      "model_module": "jupyter-cytoscape",
      "model_module_version": "^1.2.2",
      "model_name": "EdgeModel",
      "state": {
       "_model_module_version": "^1.2.2",
       "_view_module_version": "^1.2.2",
       "classes": " directed ",
       "data": {
        "directed": true,
        "id": "27",
        "source": "\nUBERON:0005453: inferior mesenteric ganglion",
        "target": "\nUBERON:0005303: hypogastric nerve"
       },
       "selectable": false
      }
     },
     "b1966a710d4446b1b80077d320d29d28": {
      "model_module": "jupyter-cytoscape",
      "model_module_version": "^1.2.2",
      "model_name": "GraphModel",
      "state": {
       "_adj": {
        "\nUBERON:0001880: bed nucleus of stria terminalis\nUBERON:0001017: central nervous system\nUBERON:0001893: cerebrum": {},
        "\nUBERON:0007632: Barrington's nucleus\nUBERON:0001017: central nervous system\nUBERON:0000988: pons": {},
        "UBERON:0001017: central nervous system\nUBERON:0000988: pons": {},
        "UBERON:0001017: central nervous system\nUBERON:0001891: midbrain": {},
        "UBERON:0001017: central nervous system\nUBERON:0001893: cerebrum": {},
        "UBERON:0001017: central nervous system\nUBERON:0001894: diencephalon": {}
       },
       "_model_module_version": "^1.2.2",
       "_view_module": "jupyter-cytoscape",
       "_view_module_version": "^1.2.2",
       "edges": [
        "IPY_MODEL_17cfd3a4cf0e4617ae1dd263a49785d8",
        "IPY_MODEL_ea58890eabcc4036abb3eb8582efa2f3",
        "IPY_MODEL_2142cbfa46524c859a4a1b9d3b68563a",
        "IPY_MODEL_1cc4c1e73116492aba7bf0ca5ced717a",
        "IPY_MODEL_58f2f21ab6274e088b39cd3f51174063"
       ],
       "nodes": [
        "IPY_MODEL_5abf15cb5a02467b8861c7ebf056f423",
        "IPY_MODEL_f177134158c74ed5a7fc86cc166274db",
        "IPY_MODEL_3249969aa47445b7b2b21e38f71d9168",
        "IPY_MODEL_8beb4237a7714ec69f6dcb3aa5ae61cb",
        "IPY_MODEL_61e8dec8738a46978e3411432198ed98",
        "IPY_MODEL_f8bea7aee3c1490ea0043ea75c8d39e4"
       ]
      }
     },
     "b21f2b17926042cbbd96f952e0aad22a": {
      "model_module": "jupyter-cytoscape",
      "model_module_version": "^1.2.2",
      "model_name": "EdgeModel",
      "state": {
       "_model_module_version": "^1.2.2",
       "_view_module_version": "^1.2.2",
       "classes": " directed ",
       "data": {
        "directed": true,
        "id": 2,
        "source": "\nUBERON:0016508: pelvic ganglion",
        "target": "\nEMAPA:31526"
       },
       "selectable": false
      }
     },
     "b220c8ee2da6457eb4a1d8386f0f5348": {
      "model_module": "jupyter-cytoscape",
      "model_module_version": "^1.2.2",
      "model_name": "EdgeModel",
      "state": {
       "_model_module_version": "^1.2.2",
       "_view_module_version": "^1.2.2",
       "classes": " directed ",
       "data": {
        "directed": true,
        "id": 20,
        "source": "UBERON:0016549: central nervous system white matter layer\nUBERON:0006451: fourth lumbar spinal cord segment",
        "target": "UBERON:0016549: central nervous system white matter layer\nUBERON:0006447: fifth lumbar spinal cord segment"
       },
       "selectable": false
      }
     },
     "b40059f243ee4f96b7e2eb31951b9fac": {
      "model_module": "jupyter-cytoscape",
      "model_module_version": "^1.2.2",
      "model_name": "EdgeModel",
      "state": {
       "_model_module_version": "^1.2.2",
       "_view_module_version": "^1.2.2",
       "classes": " directed ",
       "data": {
        "directed": true,
        "id": "0",
        "source": "\nUBERON:0018683: lumbar splanchnic nerve",
        "target": "\nUBERON:0005453: inferior mesenteric ganglion"
       },
       "selectable": false
      }
     },
     "b4031d8e506346ffb24cd902f20c1c9e": {
      "model_module": "jupyter-cytoscape",
      "model_module_version": "^1.2.2",
      "model_name": "EdgeModel",
      "state": {
       "_model_module_version": "^1.2.2",
       "_view_module_version": "^1.2.2",
       "classes": " directed ",
       "data": {
        "directed": true,
        "id": 1,
        "source": "UBERON:0016549: central nervous system white matter layer\nUBERON:0005844: spinal cord segment\n\nUBERON:0006447: fifth lumbar spinal cord segment",
        "target": "\nEMAPA:25277"
       },
       "selectable": false
      }
     },
     "b4150a75c11445baa3bc890c71c82177": {
      "model_module": "jupyter-cytoscape",
      "model_module_version": "^1.2.2",
      "model_name": "EdgeModel",
      "state": {
       "_model_module_version": "^1.2.2",
       "_view_module_version": "^1.2.2",
       "classes": " directed ",
       "data": {
        "directed": true,
        "id": "8",
        "source": "UBERON:0016549: central nervous system white matter layer\nUBERON:0006450: second lumbar spinal cord segment",
        "target": "UBERON:0004677: spinal cord gray commissure\nUBERON:0006450: second lumbar spinal cord segment"
       },
       "selectable": false
      }
     },
     "b44be0f8283f4c23af0389fc298a7182": {
      "model_module": "jupyter-cytoscape",
      "model_module_version": "^1.2.2",
      "model_name": "NodeModel",
      "state": {
       "_model_module_version": "^1.2.2",
       "_view_module_version": "^1.2.2",
       "data": {
        "id": "UBERON:0016549: central nervous system white matter layer\nUBERON:0006448: first lumbar spinal cord segment"
       },
       "grabbable": true,
       "grabbed": false,
       "selectable": false
      }
     },
     "b45bdcd1983948a0a8551d80f3d708d3": {
      "model_module": "jupyter-cytoscape",
      "model_module_version": "^1.2.2",
      "model_name": "NodeModel",
      "state": {
       "_model_module_version": "^1.2.2",
       "_view_module_version": "^1.2.2",
       "data": {
        "id": "\nUBERON:0002430: lateral hypothalamic area\nUBERON:0001017: central nervous system\nUBERON:0001894: diencephalon"
       },
       "grabbable": true,
       "grabbed": false,
       "selectable": false
      }
     },
     "b76618099e3d4554a71b08c001093edf": {
      "model_module": "jupyter-cytoscape",
      "model_module_version": "^1.2.2",
      "model_name": "EdgeModel",
      "state": {
       "_model_module_version": "^1.2.2",
       "_view_module_version": "^1.2.2",
       "classes": " directed ",
       "data": {
        "directed": true,
        "id": "28",
        "source": "\nUBERON:0002860: first sacral dorsal root ganglion",
        "target": "\nUBERON:0018675: pelvic splanchnic nerve"
       },
       "selectable": false
      }
     },
     "b80bd32423954d9b83f2fd7f9073c86f": {
      "model_module": "jupyter-cytoscape",
      "model_module_version": "^1.2.2",
      "model_name": "GraphModel",
      "state": {
       "_adj": {},
       "_model_module_version": "^1.2.2",
       "_view_module": "jupyter-cytoscape",
       "_view_module_version": "^1.2.2"
      }
     },
     "b883777253484458bd9ef08cae1927fb": {
      "model_module": "jupyter-cytoscape",
      "model_module_version": "^1.2.2",
      "model_name": "NodeModel",
      "state": {
       "_model_module_version": "^1.2.2",
       "_view_module_version": "^1.2.2",
       "data": {
        "id": "UBERON:0016549: central nervous system white matter layer\nUBERON:0006470: C8 segment of cervical spinal cord"
       },
       "grabbable": true,
       "grabbed": false,
       "selectable": false
      }
     },
     "b96e57caaec1430fb5844f074b422b23": {
      "model_module": "jupyter-cytoscape",
      "model_module_version": "^1.2.2",
      "model_name": "NodeModel",
      "state": {
       "_model_module_version": "^1.2.2",
       "_view_module_version": "^1.2.2",
       "data": {
        "id": "\nUBERON:0007632: Barrington's nucleus\nUBERON:0001017: central nervous system\nUBERON:0000988: pons"
       },
       "grabbable": true,
       "grabbed": false,
       "selectable": false
      }
     },
     "b98fbe3211f74ee89de00790bd0a8d0f": {
      "model_module": "jupyter-cytoscape",
      "model_module_version": "^1.2.2",
      "model_name": "EdgeModel",
      "state": {
       "_model_module_version": "^1.2.2",
       "_view_module_version": "^1.2.2",
       "classes": " directed ",
       "data": {
        "directed": true,
        "id": "24",
        "source": "\nEMAPA:31526",
        "target": "UBERON:0002384: connective tissue\nUBERON:0001258: neck of urinary bladder"
       },
       "selectable": false
      }
     },
     "b9aafe7f2c4540b2a520b30da45f950e": {
      "model_module": "jupyter-cytoscape",
      "model_module_version": "^1.2.2",
      "model_name": "NodeModel",
      "state": {
       "_model_module_version": "^1.2.2",
       "_view_module_version": "^1.2.2",
       "data": {
        "id": "\nUBERON:0002857: first lumbar dorsal root ganglion"
       },
       "grabbable": true,
       "grabbed": false,
       "position": {
        "x": 279.7890126576258,
        "y": 242.14214462251707
       },
       "selectable": false
      }
     },
     "ba5e49bf68ff46768596f794b516b812": {
      "model_module": "jupyter-cytoscape",
      "model_module_version": "^1.2.2",
      "model_name": "NodeModel",
      "state": {
       "_model_module_version": "^1.2.2",
       "_view_module_version": "^1.2.2",
       "data": {
        "id": "\nEMAPA:25169"
       },
       "grabbable": true,
       "grabbed": false,
       "selectable": false
      }
     },
     "bb9f498c6c87469d826195fbfd6b9f63": {
      "model_module": "jupyter-cytoscape",
      "model_module_version": "^1.2.2",
      "model_name": "EdgeModel",
      "state": {
       "_model_module_version": "^1.2.2",
       "_view_module_version": "^1.2.2",
       "classes": " directed ",
       "data": {
        "directed": true,
        "id": 2,
        "source": "UBERON:0001017: central nervous system\nUBERON:0001891: midbrain",
        "target": "UBERON:0001017: central nervous system\nUBERON:0000988: pons"
       },
       "selectable": false
      }
     },
     "bbed6c74316a4238ad5d9c3c3634262b": {
      "model_module": "jupyter-cytoscape",
      "model_module_version": "^1.2.2",
      "model_name": "EdgeModel",
      "state": {
       "_model_module_version": "^1.2.2",
       "_view_module_version": "^1.2.2",
       "classes": " directed ",
       "data": {
        "directed": true,
        "id": 15,
        "source": "UBERON:0016549: central nervous system white matter layer\nUBERON:0006468: twelfth thoracic spinal cord segment",
        "target": "UBERON:0016549: central nervous system white matter layer\nEMAPA:19554"
       },
       "selectable": false
      }
     },
     "bd33e1e9ab684d4a8ca47659ae595970": {
      "model_module": "jupyter-cytoscape",
      "model_module_version": "^1.2.2",
      "model_name": "NodeModel",
      "state": {
       "_model_module_version": "^1.2.2",
       "_view_module_version": "^1.2.2",
       "data": {
        "id": "UBERON:0002384: connective tissue\nUBERON:0006082: fundus of urinary bladder"
       },
       "grabbable": true,
       "grabbed": false,
       "selectable": false
      }
     },
     "bd6d15c5db2b4b2ba6e6f74a84a8d03a": {
      "model_module": "jupyter-cytoscape",
      "model_module_version": "^1.2.2",
      "model_name": "CytoscapeModel",
      "state": {
       "_interaction_handlers": {},
       "_model_module_version": "^1.2.2",
       "_view_module_version": "^1.2.2",
       "auto_ungrabify": false,
       "autolock": false,
       "cytoscape_layout": {
        "name": "cola"
       },
       "cytoscape_style": [
        {
         "selector": "node",
         "style": {
          "background-color": "#80F0F0",
          "font-size": "10px",
          "label": "data(id)",
          "text-max-width": "80px",
          "text-valign": "center",
          "text-wrap": "wrap"
         }
        },
        {
         "selector": "edge.directed",
         "style": {
          "line-color": "#9dbaea",
          "mid-target-arrow-color": "#8090c0",
          "mid-target-arrow-shape": "triangle",
          "width": 2
         }
        }
       ],
       "desktop_tap_threshold": 4,
       "graph": "IPY_MODEL_a3340ce7c48f4aeb9f55e90b87695b89",
       "headless": false,
       "hide_edges_on_viewport": false,
       "layout": "IPY_MODEL_4577d36785f24b4789f8635823e03aa9",
       "max_zoom": 1e+50,
       "min_zoom": 1e-50,
       "motion_blur": false,
       "motion_blur_opacity": 0.2,
       "panning_enabled": true,
       "pixel_ratio": "auto",
       "rendered_position": {
        "renderedPosition": {
         "x": 100,
         "y": 100
        }
       },
       "selection_type": "single",
       "style_enabled": true,
       "texture_on_viewport": false,
       "tooltip_source": "tooltip",
       "touch_tap_threshold": 8,
       "user_panning_enabled": true,
       "user_zooming_enabled": true,
       "wheel_sensitivity": 1,
       "zoom": 2,
       "zooming_enabled": true
      }
     },
     "bdfbabcac68a4e46b31eb7a5e5a70b14": {
      "model_module": "jupyter-cytoscape",
      "model_module_version": "^1.2.2",
      "model_name": "EdgeModel",
      "state": {
       "_model_module_version": "^1.2.2",
       "_view_module_version": "^1.2.2",
       "classes": " directed ",
       "data": {
        "directed": true,
        "id": 8,
        "source": "UBERON:0016549: central nervous system white matter layer\nUBERON:0006454: sixth thoracic spinal cord segment",
        "target": "UBERON:0016549: central nervous system white matter layer\nUBERON:0006455: seventh thoracic spinal cord segment"
       },
       "selectable": false
      }
     },
     "be043235c16d44d382399c34ac9290db": {
      "model_module": "jupyter-cytoscape",
      "model_module_version": "^1.2.2",
      "model_name": "EdgeModel",
      "state": {
       "_model_module_version": "^1.2.2",
       "_view_module_version": "^1.2.2",
       "classes": " directed ",
       "data": {
        "directed": true,
        "id": "6",
        "source": "UBERON:0016549: central nervous system white matter layer\nUBERON:0006450: second lumbar spinal cord segment",
        "target": "UBERON:0002181: substantia gelatinosa\nUBERON:0006450: second lumbar spinal cord segment"
       },
       "selectable": false
      }
     },
     "be2bf7c69e9f43ecb09dae1845e9b3ad": {
      "model_module": "jupyter-cytoscape",
      "model_module_version": "^1.2.2",
      "model_name": "NodeModel",
      "state": {
       "_model_module_version": "^1.2.2",
       "_view_module_version": "^1.2.2",
       "data": {
        "id": "\nILX:0739296: fifth lumbar sympathetic ganglion"
       },
       "grabbable": true,
       "grabbed": false,
       "selectable": false
      }
     },
     "bf03d4204c244e1ea4ca8b43e26c67a2": {
      "model_module": "jupyter-cytoscape",
      "model_module_version": "^1.2.2",
      "model_name": "EdgeModel",
      "state": {
       "_model_module_version": "^1.2.2",
       "_view_module_version": "^1.2.2",
       "classes": " directed ",
       "data": {
        "directed": true,
        "id": 5,
        "source": "\nFMA:65910: Gray communicating ramus of first lumbar nerve",
        "target": "\nUBERON:0018683: lumbar splanchnic nerve"
       },
       "selectable": false
      }
     },
     "bf3fbf0c2da54a31b6b1ee640a76c43d": {
      "model_module": "jupyter-cytoscape",
      "model_module_version": "^1.2.2",
      "model_name": "GraphModel",
      "state": {
       "_adj": {},
       "_model_module_version": "^1.2.2",
       "_view_module": "jupyter-cytoscape",
       "_view_module_version": "^1.2.2"
      }
     },
     "bf53a5f77e694ea6a0ced5cb1256a12d": {
      "model_module": "jupyter-cytoscape",
      "model_module_version": "^1.2.2",
      "model_name": "NodeModel",
      "state": {
       "_model_module_version": "^1.2.2",
       "_view_module_version": "^1.2.2",
       "data": {
        "id": "\nEMAPA:25271"
       },
       "grabbable": true,
       "grabbed": false,
       "position": {
        "x": 592.2303033629108,
        "y": -204.9205081290581
       },
       "selectable": false
      }
     },
     "c0b9931f91344b51847851e484a0fdbc": {
      "model_module": "jupyter-cytoscape",
      "model_module_version": "^1.2.2",
      "model_name": "EdgeModel",
      "state": {
       "_model_module_version": "^1.2.2",
       "_view_module_version": "^1.2.2",
       "classes": " directed ",
       "data": {
        "directed": true,
        "id": 3,
        "source": "\nFMA:12697: White communicating ramus of first lumbar anterior ramus",
        "target": "\nFMA:6540: First lumbar ganglion"
       },
       "selectable": false
      }
     },
     "c0e14f39539e4313a8e8c6ff4b99a366": {
      "model_module": "@jupyter-widgets/base",
      "model_module_version": "1.2.0",
      "model_name": "LayoutModel",
      "state": {}
     },
     "c1994883951748b990af347e004fada7": {
      "model_module": "jupyter-cytoscape",
      "model_module_version": "^1.2.2",
      "model_name": "EdgeModel",
      "state": {
       "_model_module_version": "^1.2.2",
       "_view_module_version": "^1.2.2",
       "classes": " directed ",
       "data": {
        "directed": true,
        "id": 3,
        "source": "UBERON:0001135: smooth muscle tissue\nUBERON:0006082: fundus of urinary bladder",
        "target": "UBERON:0000483: epithelium\nUBERON:0006082: fundus of urinary bladder"
       },
       "selectable": false
      }
     },
     "c199b1320adb49c78f73a98761f50b98": {
      "model_module": "jupyter-cytoscape",
      "model_module_version": "^1.2.2",
      "model_name": "EdgeModel",
      "state": {
       "_model_module_version": "^1.2.2",
       "_view_module_version": "^1.2.2",
       "classes": " directed ",
       "data": {
        "directed": true,
        "id": "10",
        "source": "UBERON:0016549: central nervous system white matter layer\nUBERON:0006450: second lumbar spinal cord segment\n\nUBERON:0005844: spinal cord segment",
        "target": "\nEMAPA:25271"
       },
       "selectable": false
      }
     },
     "c1d3b68357294299b1c19f895af43733": {
      "model_module": "jupyter-cytoscape",
      "model_module_version": "^1.2.2",
      "model_name": "NodeModel",
      "state": {
       "_model_module_version": "^1.2.2",
       "_view_module_version": "^1.2.2",
       "data": {
        "id": "\nILX:0777090: L3 - L4 interganglionic segment"
       },
       "grabbable": true,
       "grabbed": false,
       "selectable": false
      }
     },
     "c2452ca90a1d46b3a3f8c7bd81be1f8e": {
      "model_module": "jupyter-cytoscape",
      "model_module_version": "^1.2.2",
      "model_name": "NodeModel",
      "state": {
       "_model_module_version": "^1.2.2",
       "_view_module_version": "^1.2.2",
       "data": {
        "id": "UBERON:0035965: wall of blood vessel\nUBERON:0001981: blood vessel\nUBERON:0002384: connective tissue\nUBERON:0006082: fundus of urinary bladder"
       },
       "grabbable": true,
       "grabbed": false,
       "position": {
        "x": 1048.3817701820647,
        "y": 496.62378022113586
       },
       "selectable": false
      }
     },
     "c467a101756c46b18d61b1c24ad1f925": {
      "model_module": "jupyter-cytoscape",
      "model_module_version": "^1.2.2",
      "model_name": "GraphModel",
      "state": {
       "_adj": {},
       "_model_module_version": "^1.2.2",
       "_view_module": "jupyter-cytoscape",
       "_view_module_version": "^1.2.2"
      }
     },
     "c485918eaf034e13897d6b52ced055ef": {
      "model_module": "jupyter-cytoscape",
      "model_module_version": "^1.2.2",
      "model_name": "NodeModel",
      "state": {
       "_model_module_version": "^1.2.2",
       "_view_module_version": "^1.2.2",
       "data": {
        "id": "UBERON:0001017: central nervous system\nUBERON:0001894: diencephalon"
       },
       "grabbable": true,
       "grabbed": false,
       "selectable": false
      }
     },
     "c4f54d16400a4c84b61e7b140c5c4f3f": {
      "model_module": "@jupyter-widgets/base",
      "model_module_version": "1.2.0",
      "model_name": "LayoutModel",
      "state": {}
     },
     "c5a0a8a511204142b9e5e92ebdacb736": {
      "model_module": "jupyter-cytoscape",
      "model_module_version": "^1.2.2",
      "model_name": "EdgeModel",
      "state": {
       "_model_module_version": "^1.2.2",
       "_view_module_version": "^1.2.2",
       "classes": " directed ",
       "data": {
        "directed": true,
        "id": 2,
        "source": "\nUBERON:0005453: inferior mesenteric ganglion",
        "target": "\nUBERON:0005303: hypogastric nerve"
       },
       "selectable": false
      }
     },
     "c6294ad4280d467a9ced84a25dbf7bf7": {
      "model_module": "jupyter-cytoscape",
      "model_module_version": "^1.2.2",
      "model_name": "NodeModel",
      "state": {
       "_model_module_version": "^1.2.2",
       "_view_module_version": "^1.2.2",
       "data": {
        "id": "UBERON:0006118: lamina I of gray matter of spinal cord\nUBERON:0006450: second lumbar spinal cord segment"
       },
       "grabbable": true,
       "grabbed": false,
       "position": {
        "x": 238.050546234871,
        "y": -106.41926223112166
       },
       "selectable": false
      }
     },
     "c68e5af8c07e4433abeab302745a2657": {
      "model_module": "jupyter-cytoscape",
      "model_module_version": "^1.2.2",
      "model_name": "CytoscapeModel",
      "state": {
       "_interaction_handlers": {},
       "_model_module_version": "^1.2.2",
       "_view_module_version": "^1.2.2",
       "auto_ungrabify": false,
       "autolock": false,
       "cytoscape_layout": {
        "name": "cola"
       },
       "cytoscape_style": [
        {
         "selector": "node",
         "style": {
          "background-color": "#80F0F0",
          "font-size": "10px",
          "label": "data(id)",
          "text-max-width": "80px",
          "text-valign": "center",
          "text-wrap": "wrap"
         }
        },
        {
         "selector": "edge.directed",
         "style": {
          "line-color": "#9dbaea",
          "mid-target-arrow-color": "#8090c0",
          "mid-target-arrow-shape": "triangle",
          "width": 2
         }
        }
       ],
       "desktop_tap_threshold": 4,
       "graph": "IPY_MODEL_856db0a7675a4e1e8d7458f5c42d4297",
       "headless": false,
       "hide_edges_on_viewport": false,
       "layout": "IPY_MODEL_9c13724a00924a0eb48c6b912a1a1a70",
       "max_zoom": 1e+50,
       "min_zoom": 1e-50,
       "motion_blur": false,
       "motion_blur_opacity": 0.2,
       "panning_enabled": true,
       "pixel_ratio": "auto",
       "rendered_position": {
        "renderedPosition": {
         "x": 100,
         "y": 100
        }
       },
       "selection_type": "single",
       "style_enabled": true,
       "texture_on_viewport": false,
       "tooltip_source": "tooltip",
       "touch_tap_threshold": 8,
       "user_panning_enabled": true,
       "user_zooming_enabled": true,
       "wheel_sensitivity": 1,
       "zoom": 2,
       "zooming_enabled": true
      }
     },
     "c6c5c9e245c14d7e86aa04c6ca5e00c9": {
      "model_module": "jupyter-cytoscape",
      "model_module_version": "^1.2.2",
      "model_name": "NodeModel",
      "state": {
       "_model_module_version": "^1.2.2",
       "_view_module_version": "^1.2.2",
       "data": {
        "id": "UBERON:0016578: lamina VII of gray matter of spinal cord\nUBERON:0006460: first sacral spinal cord segment"
       },
       "grabbable": true,
       "grabbed": false,
       "selectable": false
      }
     },
     "c79c124edf2b40329f7c6d3573bb233e": {
      "model_module": "jupyter-cytoscape",
      "model_module_version": "^1.2.2",
      "model_name": "NodeModel",
      "state": {
       "_model_module_version": "^1.2.2",
       "_view_module_version": "^1.2.2",
       "data": {
        "id": "UBERON:0001017: central nervous system\nUBERON:0000988: pons"
       },
       "grabbable": true,
       "grabbed": false,
       "selectable": false
      }
     },
     "c7e91809c3634f90b0b1c5c75b366e0f": {
      "model_module": "jupyter-cytoscape",
      "model_module_version": "^1.2.2",
      "model_name": "NodeModel",
      "state": {
       "_model_module_version": "^1.2.2",
       "_view_module_version": "^1.2.2",
       "data": {
        "id": "\nUBERON:0005303: hypogastric nerve"
       },
       "grabbable": true,
       "grabbed": false,
       "position": {
        "x": 657.3449005824101,
        "y": 237.31090711003603
       },
       "selectable": false
      }
     },
     "c81c1ea3da5f422883e8469913c89afe": {
      "model_module": "jupyter-cytoscape",
      "model_module_version": "^1.2.2",
      "model_name": "EdgeModel",
      "state": {
       "_model_module_version": "^1.2.2",
       "_view_module_version": "^1.2.2",
       "classes": " directed ",
       "data": {
        "directed": true,
        "id": 5,
        "source": "UBERON:0016549: central nervous system white matter layer\nUBERON:0006460: first sacral spinal cord segment\n\nUBERON:0005844: spinal cord segment",
        "target": "\nEMAPA:25281"
       },
       "selectable": false
      }
     },
     "c85763e01bed409abdb71995b31ef635": {
      "model_module": "jupyter-cytoscape",
      "model_module_version": "^1.2.2",
      "model_name": "GraphModel",
      "state": {
       "_adj": {
        "\nEMAPA:25269": {},
        "\nEMAPA:25271": {},
        "\nFMA:12697: White communicating ramus of first lumbar anterior ramus": {},
        "\nFMA:12698: White communicating ramus of second lumbar anterior ramus": {},
        "\nFMA:6540: First lumbar ganglion": {},
        "\nFMA:6541: Second lumbar ganglion": {},
        "\nFMA:65910: Gray communicating ramus of first lumbar nerve": {},
        "\nFMA:65911: Gray communicating ramus of second lumbar nerve": {},
        "\nUBERON:0005303: hypogastric nerve": {},
        "\nUBERON:0005453: inferior mesenteric ganglion": {},
        "\nUBERON:0016508: pelvic ganglion": {},
        "\nUBERON:0018683: lumbar splanchnic nerve": {},
        "UBERON:0016549: central nervous system white matter layer\nUBERON:0006448: first lumbar spinal cord segment\n\nUBERON:0005844: spinal cord segment": {},
        "UBERON:0016549: central nervous system white matter layer\nUBERON:0006450: second lumbar spinal cord segment\n\nUBERON:0005844: spinal cord segment": {},
        "UBERON:0016578: lamina VII of gray matter of spinal cord\nUBERON:0006448: first lumbar spinal cord segment\n\nUBERON:0005844: spinal cord segment": {},
        "UBERON:0016578: lamina VII of gray matter of spinal cord\nUBERON:0006450: second lumbar spinal cord segment\n\nUBERON:0005844: spinal cord segment": {}
       },
       "_model_module_version": "^1.2.2",
       "_view_module": "jupyter-cytoscape",
       "_view_module_version": "^1.2.2",
       "edges": [
        "IPY_MODEL_b40059f243ee4f96b7e2eb31951b9fac",
        "IPY_MODEL_d63016f0c7d3497e896d8e9ad7c3244e",
        "IPY_MODEL_939fa92415264794b716d9f02591be18",
        "IPY_MODEL_f4e43f409c3d4fce876f1ed0c665ba88",
        "IPY_MODEL_8b7df0781ca14d0b9254c40a5fd6a233",
        "IPY_MODEL_59d56f84eb054c3b95a30266ef9ec09e",
        "IPY_MODEL_27da4a0b4df44802b45f9fb3d5a92d84",
        "IPY_MODEL_d59f085005be41bba1eb58fc1d84d0ad",
        "IPY_MODEL_25deb6d365f749df81c63f55ceaffd73",
        "IPY_MODEL_6cf2f3c44240460caef7d21b7a7db3be",
        "IPY_MODEL_c199b1320adb49c78f73a98761f50b98",
        "IPY_MODEL_f5b84b500c1646a59c06c7eff957925e",
        "IPY_MODEL_f09d81c3e22f4fe884b968ba6d7f05c5",
        "IPY_MODEL_cf18e529622241bba8e52ba3c1478cda",
        "IPY_MODEL_52c1932501b64574890da856ce89ab94"
       ],
       "nodes": [
        "IPY_MODEL_d671fa230b024fb786aa910a6ed5c1df",
        "IPY_MODEL_a24129859da7411fb6b650ecf1909b37",
        "IPY_MODEL_e2885e7bcb044611ae94c8c4efba4955",
        "IPY_MODEL_2132d475510c4ee2acf8c9f401cc0b9b",
        "IPY_MODEL_4824f80cc56c4698881cb3e583e45a84",
        "IPY_MODEL_7d3399646b2f4523a205962ebebe1e06",
        "IPY_MODEL_390ae7be3dcf4373afaf2138379774b6",
        "IPY_MODEL_577cfbf05bdd4fd38d435482dd3cb702",
        "IPY_MODEL_ef11c0af333a403585f37c048dc74399",
        "IPY_MODEL_5bd8d91868d34e5b877ad2c60b2f0f74",
        "IPY_MODEL_d75b2ba1f2244296aa1e2cada6795e8f",
        "IPY_MODEL_f97a2f933cf8487d96df9cb243ca915c",
        "IPY_MODEL_bf53a5f77e694ea6a0ced5cb1256a12d",
        "IPY_MODEL_fb65a17e09e941759f46509cb96c2729",
        "IPY_MODEL_5e29c8d7485849fd8c9f24f727972964",
        "IPY_MODEL_f405bf3fa2a84718b3873b306a1e41f6"
       ]
      }
     },
     "c8f28da04d7f4b028531eaf9a9428670": {
      "model_module": "jupyter-cytoscape",
      "model_module_version": "^1.2.2",
      "model_name": "NodeModel",
      "state": {
       "_model_module_version": "^1.2.2",
       "_view_module_version": "^1.2.2",
       "data": {
        "id": "\nEMAPA:31526"
       },
       "grabbable": true,
       "grabbed": false,
       "position": {
        "x": 913.2274269543096,
        "y": 325.41258595493434
       },
       "selectable": false
      }
     },
     "c9d55fed006b4f5a8cacea8b62e2beb7": {
      "model_module": "jupyter-cytoscape",
      "model_module_version": "^1.2.2",
      "model_name": "NodeModel",
      "state": {
       "_model_module_version": "^1.2.2",
       "_view_module_version": "^1.2.2",
       "data": {
        "id": "UBERON:0016549: central nervous system white matter layer\nUBERON:0006447: fifth lumbar spinal cord segment"
       },
       "grabbable": true,
       "grabbed": false,
       "selectable": false
      }
     },
     "ca44bdb1312044b285c3ce9dbf9b5969": {
      "model_module": "jupyter-cytoscape",
      "model_module_version": "^1.2.2",
      "model_name": "EdgeModel",
      "state": {
       "_model_module_version": "^1.2.2",
       "_view_module_version": "^1.2.2",
       "classes": " directed ",
       "data": {
        "directed": true,
        "id": 22,
        "source": "UBERON:0016549: central nervous system white matter layer\nUBERON:0006469: C1 segment of cervical spinal cord",
        "target": "UBERON:0016549: central nervous system white matter layer\nUBERON:0006489: C2 segment of cervical spinal cord"
       },
       "selectable": false
      }
     },
     "cab7e5d119c2463fad8eeccc76eef16c": {
      "model_module": "jupyter-cytoscape",
      "model_module_version": "^1.2.2",
      "model_name": "NodeModel",
      "state": {
       "_model_module_version": "^1.2.2",
       "_view_module_version": "^1.2.2",
       "data": {
        "id": "\nILX:0777093: L6 - S1 interganglionic segment"
       },
       "grabbable": true,
       "grabbed": false,
       "selectable": false
      }
     },
     "caea735cde3f4e5490b3cc4abbf37cd4": {
      "model_module": "jupyter-cytoscape",
      "model_module_version": "^1.2.2",
      "model_name": "NodeModel",
      "state": {
       "_model_module_version": "^1.2.2",
       "_view_module_version": "^1.2.2",
       "data": {
        "id": "\nUBERON:0007769: medial preoptic region\nUBERON:0001017: central nervous system\nUBERON:0001894: diencephalon"
       },
       "grabbable": true,
       "grabbed": false,
       "selectable": false
      }
     },
     "cca4feb213a74d05902aa460ce55413b": {
      "model_module": "jupyter-cytoscape",
      "model_module_version": "^1.2.2",
      "model_name": "NodeModel",
      "state": {
       "_model_module_version": "^1.2.2",
       "_view_module_version": "^1.2.2",
       "data": {
        "id": "UBERON:0001017: central nervous system\nUBERON:0001896: medulla oblongata"
       },
       "grabbable": true,
       "grabbed": false,
       "selectable": false
      }
     },
     "cd423b35b70d4f0c94b2fc44d24dee35": {
      "model_module": "jupyter-cytoscape",
      "model_module_version": "^1.2.2",
      "model_name": "NodeModel",
      "state": {
       "_model_module_version": "^1.2.2",
       "_view_module_version": "^1.2.2",
       "data": {
        "id": "UBERON:0016549: central nervous system white matter layer\nUBERON:0006466: tenth thoracic spinal cord segment"
       },
       "grabbable": true,
       "grabbed": false,
       "selectable": false
      }
     },
     "cd797e6294a4479e8de8d7b2c09400a0": {
      "model_module": "jupyter-cytoscape",
      "model_module_version": "^1.2.2",
      "model_name": "EdgeModel",
      "state": {
       "_model_module_version": "^1.2.2",
       "_view_module_version": "^1.2.2",
       "classes": " directed ",
       "data": {
        "directed": true,
        "id": 10,
        "source": "UBERON:0002384: connective tissue\nUBERON:0001258: neck of urinary bladder",
        "target": "UBERON:0001135: smooth muscle tissue\nUBERON:0001258: neck of urinary bladder"
       },
       "selectable": false
      }
     },
     "cdfae35fcfd6495f9cd9ffae62b36a75": {
      "model_module": "jupyter-cytoscape",
      "model_module_version": "^1.2.2",
      "model_name": "NodeModel",
      "state": {
       "_model_module_version": "^1.2.2",
       "_view_module_version": "^1.2.2",
       "data": {
        "id": "UBERON:0000483: epithelium\nUBERON:0001258: neck of urinary bladder"
       },
       "grabbable": true,
       "grabbed": false,
       "selectable": false
      }
     },
     "ce397a4a792847ae9989f444b080291c": {
      "model_module": "jupyter-cytoscape",
      "model_module_version": "^1.2.2",
      "model_name": "EdgeModel",
      "state": {
       "_model_module_version": "^1.2.2",
       "_view_module_version": "^1.2.2",
       "classes": " directed ",
       "data": {
        "directed": true,
        "id": 1,
        "source": "UBERON:0016549: central nervous system white matter layer\nUBERON:0005844: spinal cord segment\n\nUBERON:0006448: first lumbar spinal cord segment",
        "target": "\nEMAPA:25269"
       },
       "selectable": false
      }
     },
     "cea20768b66d43149ae39533ba2e77c2": {
      "model_module": "jupyter-cytoscape",
      "model_module_version": "^1.2.2",
      "model_name": "NodeModel",
      "state": {
       "_model_module_version": "^1.2.2",
       "_view_module_version": "^1.2.2",
       "data": {
        "id": "UBERON:0035965: wall of blood vessel\nUBERON:0001981: blood vessel\nUBERON:0002384: connective tissue\nUBERON:0001258: neck of urinary bladder"
       },
       "grabbable": true,
       "grabbed": false,
       "position": {
        "x": 858.6659455968726,
        "y": 249.2706922594874
       },
       "selectable": false
      }
     },
     "cf18e529622241bba8e52ba3c1478cda": {
      "model_module": "jupyter-cytoscape",
      "model_module_version": "^1.2.2",
      "model_name": "EdgeModel",
      "state": {
       "_model_module_version": "^1.2.2",
       "_view_module_version": "^1.2.2",
       "classes": " directed ",
       "data": {
        "directed": true,
        "id": "13",
        "source": "\nFMA:6541: Second lumbar ganglion",
        "target": "\nFMA:65911: Gray communicating ramus of second lumbar nerve"
       },
       "selectable": false
      }
     },
     "cf52120ce13040aca9faa47ac9c139b7": {
      "model_module": "jupyter-cytoscape",
      "model_module_version": "^1.2.2",
      "model_name": "EdgeModel",
      "state": {
       "_model_module_version": "^1.2.2",
       "_view_module_version": "^1.2.2",
       "classes": " directed ",
       "data": {
        "directed": true,
        "id": "6",
        "source": "UBERON:0016549: central nervous system white matter layer\nUBERON:0006460: first sacral spinal cord segment",
        "target": "UBERON:0006118: lamina I of gray matter of spinal cord\nUBERON:0006460: first sacral spinal cord segment"
       },
       "selectable": false
      }
     },
     "cf878a94b05b461581d7c2f4535d43bd": {
      "model_module": "jupyter-cytoscape",
      "model_module_version": "^1.2.2",
      "model_name": "EdgeModel",
      "state": {
       "_model_module_version": "^1.2.2",
       "_view_module_version": "^1.2.2",
       "classes": " directed ",
       "data": {
        "directed": true,
        "id": 18,
        "source": "UBERON:0016549: central nervous system white matter layer\nUBERON:0006450: second lumbar spinal cord segment",
        "target": "UBERON:0016549: central nervous system white matter layer\nUBERON:0006449: third lumbar spinal cord segment"
       },
       "selectable": false
      }
     },
     "d00c1bf843c4493d9974877ff611e77a": {
      "model_module": "jupyter-cytoscape",
      "model_module_version": "^1.2.2",
      "model_name": "EdgeModel",
      "state": {
       "_model_module_version": "^1.2.2",
       "_view_module_version": "^1.2.2",
       "classes": " directed ",
       "data": {
        "directed": true,
        "id": "30",
        "source": "\nUBERON:0002857: first lumbar dorsal root ganglion",
        "target": "\nUBERON:0018683: lumbar splanchnic nerve"
       },
       "selectable": false
      }
     },
     "d044b9ae3c784d64a387e39df92c3e5a": {
      "model_module": "jupyter-cytoscape",
      "model_module_version": "^1.2.2",
      "model_name": "NodeModel",
      "state": {
       "_model_module_version": "^1.2.2",
       "_view_module_version": "^1.2.2",
       "data": {
        "id": "\nFMA:6542: Third lumbar ganglion"
       },
       "grabbable": true,
       "grabbed": false,
       "selectable": false
      }
     },
     "d0bcee984eb74d8eb21b2e3f9c430fc7": {
      "model_module": "jupyter-cytoscape",
      "model_module_version": "^1.2.2",
      "model_name": "GraphModel",
      "state": {
       "_adj": {},
       "_model_module_version": "^1.2.2",
       "_view_module": "jupyter-cytoscape",
       "_view_module_version": "^1.2.2"
      }
     },
     "d0eb018730304089ade73f78889fbdc0": {
      "model_module": "jupyter-cytoscape",
      "model_module_version": "^1.2.2",
      "model_name": "NodeModel",
      "state": {
       "_model_module_version": "^1.2.2",
       "_view_module_version": "^1.2.2",
       "data": {
        "id": "UBERON:0016549: central nervous system white matter layer\nUBERON:0006454: sixth thoracic spinal cord segment"
       },
       "grabbable": true,
       "grabbed": false,
       "selectable": false
      }
     },
     "d12a4fb7587d41b48fbc05d71a9d8507": {
      "model_module": "jupyter-cytoscape",
      "model_module_version": "^1.2.2",
      "model_name": "NodeModel",
      "state": {
       "_model_module_version": "^1.2.2",
       "_view_module_version": "^1.2.2",
       "data": {
        "id": "UBERON:0002181: substantia gelatinosa\nILX:0738432: Sixth lumbar spinal cord segment"
       },
       "grabbable": true,
       "grabbed": false,
       "position": {
        "x": 88.07072759885739,
        "y": 294.6507935062619
       },
       "selectable": false
      }
     },
     "d14ed2b412c14bc4b15201ad58191adf": {
      "model_module": "jupyter-cytoscape",
      "model_module_version": "^1.2.2",
      "model_name": "EdgeModel",
      "state": {
       "_model_module_version": "^1.2.2",
       "_view_module_version": "^1.2.2",
       "classes": " directed ",
       "data": {
        "directed": true,
        "id": "4",
        "source": "UBERON:0016549: central nervous system white matter layer\nILX:0738432: Sixth lumbar spinal cord segment",
        "target": "UBERON:0016576: lamina V of gray matter of spinal cord\nILX:0738432: Sixth lumbar spinal cord segment"
       },
       "selectable": false
      }
     },
     "d19cda4a2f8449c6a55ffbce5dd3e62d": {
      "model_module": "jupyter-cytoscape",
      "model_module_version": "^1.2.2",
      "model_name": "EdgeModel",
      "state": {
       "_model_module_version": "^1.2.2",
       "_view_module_version": "^1.2.2",
       "classes": " directed ",
       "data": {
        "directed": true,
        "id": 52,
        "source": "\nFMA:6543: Fourth lumbar ganglion",
        "target": "\nILX:0777091: L4 - L5 interganglionic segment"
       },
       "selectable": false
      }
     },
     "d1c2dd3087da4b6caa0d274b5fc86d79": {
      "model_module": "jupyter-cytoscape",
      "model_module_version": "^1.2.2",
      "model_name": "GraphModel",
      "state": {
       "_adj": {},
       "_model_module_version": "^1.2.2",
       "_view_module": "jupyter-cytoscape",
       "_view_module_version": "^1.2.2"
      }
     },
     "d200b6999dc546298528e7fc360ecd7b": {
      "model_module": "jupyter-cytoscape",
      "model_module_version": "^1.2.2",
      "model_name": "EdgeModel",
      "state": {
       "_model_module_version": "^1.2.2",
       "_view_module_version": "^1.2.2",
       "classes": " directed ",
       "data": {
        "directed": true,
        "id": 38,
        "source": "\nFMA:6541: Second lumbar ganglion",
        "target": "\nILX:0777089: L2 - L3 interganglionic segment"
       },
       "selectable": false
      }
     },
     "d38c6207f83f444094b60cb0ddea2db8": {
      "model_module": "jupyter-cytoscape",
      "model_module_version": "^1.2.2",
      "model_name": "NodeModel",
      "state": {
       "_model_module_version": "^1.2.2",
       "_view_module_version": "^1.2.2",
       "data": {
        "id": "UBERON:0016549: central nervous system white matter layer\nUBERON:0006455: seventh thoracic spinal cord segment"
       },
       "grabbable": true,
       "grabbed": false,
       "selectable": false
      }
     },
     "d593bf143f6b470f8bc12028d987f390": {
      "model_module": "jupyter-cytoscape",
      "model_module_version": "^1.2.2",
      "model_name": "EdgeModel",
      "state": {
       "_model_module_version": "^1.2.2",
       "_view_module_version": "^1.2.2",
       "classes": " directed ",
       "data": {
        "directed": true,
        "id": 9,
        "source": "\nEMAPA:25271",
        "target": "\nFMA:12698: White communicating ramus of second lumbar anterior ramus"
       },
       "selectable": false
      }
     },
     "d59f085005be41bba1eb58fc1d84d0ad": {
      "model_module": "jupyter-cytoscape",
      "model_module_version": "^1.2.2",
      "model_name": "EdgeModel",
      "state": {
       "_model_module_version": "^1.2.2",
       "_view_module_version": "^1.2.2",
       "classes": " directed ",
       "data": {
        "directed": true,
        "id": "7",
        "source": "\nFMA:6540: First lumbar ganglion",
        "target": "\nFMA:65910: Gray communicating ramus of first lumbar nerve"
       },
       "selectable": false
      }
     },
     "d63016f0c7d3497e896d8e9ad7c3244e": {
      "model_module": "jupyter-cytoscape",
      "model_module_version": "^1.2.2",
      "model_name": "EdgeModel",
      "state": {
       "_model_module_version": "^1.2.2",
       "_view_module_version": "^1.2.2",
       "classes": " directed ",
       "data": {
        "directed": true,
        "id": "1",
        "source": "\nUBERON:0005453: inferior mesenteric ganglion",
        "target": "\nUBERON:0005303: hypogastric nerve"
       },
       "selectable": false
      }
     },
     "d64ef2aad9324a25b0d271a2fd3eb686": {
      "model_module": "jupyter-cytoscape",
      "model_module_version": "^1.2.2",
      "model_name": "EdgeModel",
      "state": {
       "_model_module_version": "^1.2.2",
       "_view_module_version": "^1.2.2",
       "classes": " directed ",
       "data": {
        "directed": true,
        "id": 2,
        "source": "\nEMAPA:25277",
        "target": "\nUBERON:0011390: pudendal nerve"
       },
       "selectable": false
      }
     },
     "d671fa230b024fb786aa910a6ed5c1df": {
      "model_module": "jupyter-cytoscape",
      "model_module_version": "^1.2.2",
      "model_name": "NodeModel",
      "state": {
       "_model_module_version": "^1.2.2",
       "_view_module_version": "^1.2.2",
       "data": {
        "id": "\nUBERON:0018683: lumbar splanchnic nerve"
       },
       "grabbable": true,
       "grabbed": false,
       "position": {
        "x": 467.4157971961938,
        "y": 217.53527343722013
       },
       "selectable": false
      }
     },
     "d728fe4d47314a6d9a591ff533d6f84e": {
      "model_module": "jupyter-cytoscape",
      "model_module_version": "^1.2.2",
      "model_name": "CytoscapeModel",
      "state": {
       "_interaction_handlers": {},
       "_model_module_version": "^1.2.2",
       "_view_module_version": "^1.2.2",
       "auto_ungrabify": false,
       "autolock": false,
       "cytoscape_layout": {
        "name": "cola"
       },
       "cytoscape_style": [
        {
         "selector": "node",
         "style": {
          "background-color": "#80F0F0",
          "font-size": "10px",
          "label": "data(id)",
          "text-max-width": "80px",
          "text-valign": "center",
          "text-wrap": "wrap"
         }
        },
        {
         "selector": "edge.directed",
         "style": {
          "line-color": "#9dbaea",
          "mid-target-arrow-color": "#8090c0",
          "mid-target-arrow-shape": "triangle",
          "width": 2
         }
        }
       ],
       "desktop_tap_threshold": 4,
       "graph": "IPY_MODEL_6eaa8d5017694086974675f5a815ccf4",
       "headless": false,
       "hide_edges_on_viewport": false,
       "layout": "IPY_MODEL_d86c3bd256464cdcb1e2e9c5dbd8b891",
       "max_zoom": 1e+50,
       "min_zoom": 1e-50,
       "motion_blur": false,
       "motion_blur_opacity": 0.2,
       "panning_enabled": true,
       "pixel_ratio": "auto",
       "rendered_position": {
        "renderedPosition": {
         "x": 100,
         "y": 100
        }
       },
       "selection_type": "single",
       "style_enabled": true,
       "texture_on_viewport": false,
       "tooltip_source": "tooltip",
       "touch_tap_threshold": 8,
       "user_panning_enabled": true,
       "user_zooming_enabled": true,
       "wheel_sensitivity": 1,
       "zoom": 2,
       "zooming_enabled": true
      }
     },
     "d75b2ba1f2244296aa1e2cada6795e8f": {
      "model_module": "jupyter-cytoscape",
      "model_module_version": "^1.2.2",
      "model_name": "NodeModel",
      "state": {
       "_model_module_version": "^1.2.2",
       "_view_module_version": "^1.2.2",
       "data": {
        "id": "UBERON:0016578: lamina VII of gray matter of spinal cord\nUBERON:0006450: second lumbar spinal cord segment\n\nUBERON:0005844: spinal cord segment"
       },
       "grabbable": true,
       "grabbed": false,
       "position": {
        "x": 640.4210531819236,
        "y": -405.5588635115287
       },
       "selectable": false
      }
     },
     "d796df1955534f9f9f72f374571e89ed": {
      "model_module": "jupyter-cytoscape",
      "model_module_version": "^1.2.2",
      "model_name": "NodeModel",
      "state": {
       "_model_module_version": "^1.2.2",
       "_view_module_version": "^1.2.2",
       "data": {
        "id": "UBERON:0000483: epithelium\nUBERON:0001258: neck of urinary bladder"
       },
       "grabbable": true,
       "grabbed": false,
       "position": {
        "x": 1148.1772279243642,
        "y": 54.34915352406213
       },
       "selectable": false
      }
     },
     "d8183c8e4c4247659b6938c0a6125505": {
      "model_module": "jupyter-cytoscape",
      "model_module_version": "^1.2.2",
      "model_name": "EdgeModel",
      "state": {
       "_model_module_version": "^1.2.2",
       "_view_module_version": "^1.2.2",
       "classes": " directed ",
       "data": {
        "directed": true,
        "id": 0,
        "source": "\nUBERON:0007769: medial preoptic region\nUBERON:0001017: central nervous system\nUBERON:0001894: diencephalon",
        "target": "UBERON:0001017: central nervous system\nUBERON:0001894: diencephalon"
       },
       "selectable": false
      }
     },
     "d835e82f0dc24902b705c366116c5f6f": {
      "model_module": "jupyter-cytoscape",
      "model_module_version": "^1.2.2",
      "model_name": "GraphModel",
      "state": {
       "_adj": {
        "\nEMAPA:25269": {},
        "\nFMA:12697: White communicating ramus of first lumbar anterior ramus": {},
        "\nFMA:6540: First lumbar ganglion": {},
        "UBERON:0016549: central nervous system white matter layer\nUBERON:0005844: spinal cord segment\n\nUBERON:0006448: first lumbar spinal cord segment": {},
        "UBERON:0016578: lamina VII of gray matter of spinal cord\nUBERON:0005844: spinal cord segment\n\nUBERON:0006448: first lumbar spinal cord segment": {}
       },
       "_model_module_version": "^1.2.2",
       "_view_module": "jupyter-cytoscape",
       "_view_module_version": "^1.2.2",
       "edges": [
        "IPY_MODEL_93737f2ab8764957be6d00e78d725338",
        "IPY_MODEL_ce397a4a792847ae9989f444b080291c",
        "IPY_MODEL_62bc51362ec741bb8e13c4b985bef172",
        "IPY_MODEL_36cf3a2e9f31441ba0f0c9c9966b7148"
       ],
       "nodes": [
        "IPY_MODEL_2ee7b47fe2f94b42ba27db95adb5a0fc",
        "IPY_MODEL_37b8b889357743cc88762a3cc24c3843",
        "IPY_MODEL_97670d813bfb423a8396f9e08e682fc7",
        "IPY_MODEL_2acb09d5c2cf4d9a8065fa5d2c6efffb",
        "IPY_MODEL_102d96743c544b2ca714e9337a9dd26e"
       ]
      }
     },
     "d85ce9a2e26443e59e9dcb7502b7bd03": {
      "model_module": "jupyter-cytoscape",
      "model_module_version": "^1.2.2",
      "model_name": "NodeModel",
      "state": {
       "_model_module_version": "^1.2.2",
       "_view_module_version": "^1.2.2",
       "data": {
        "id": "UBERON:0001135: smooth muscle tissue\nUBERON:0001258: neck of urinary bladder"
       },
       "grabbable": true,
       "grabbed": false,
       "selectable": false
      }
     },
     "d86c3bd256464cdcb1e2e9c5dbd8b891": {
      "model_module": "@jupyter-widgets/base",
      "model_module_version": "1.2.0",
      "model_name": "LayoutModel",
      "state": {}
     },
     "d886d594e6254d7e9b1c308d15ff60a0": {
      "model_module": "jupyter-cytoscape",
      "model_module_version": "^1.2.2",
      "model_name": "NodeModel",
      "state": {
       "_model_module_version": "^1.2.2",
       "_view_module_version": "^1.2.2",
       "data": {
        "id": "UBERON:0016549: central nervous system white matter layer\nUBERON:0006450: second lumbar spinal cord segment"
       },
       "grabbable": true,
       "grabbed": false,
       "selectable": false
      }
     },
     "d9e7ed1c494d4214968e5393268c3ecf": {
      "model_module": "jupyter-cytoscape",
      "model_module_version": "^1.2.2",
      "model_name": "EdgeModel",
      "state": {
       "_model_module_version": "^1.2.2",
       "_view_module_version": "^1.2.2",
       "classes": " directed ",
       "data": {
        "directed": true,
        "id": 39,
        "source": "\nILX:0777089: L2 - L3 interganglionic segment",
        "target": "\nFMA:6542: Third lumbar ganglion"
       },
       "selectable": false
      }
     },
     "da54e0fdcce84823902d6d330a973360": {
      "model_module": "jupyter-cytoscape",
      "model_module_version": "^1.2.2",
      "model_name": "NodeModel",
      "state": {
       "_model_module_version": "^1.2.2",
       "_view_module_version": "^1.2.2",
       "data": {
        "id": "UBERON:0016578: lamina VII of gray matter of spinal cord\nUBERON:0006448: first lumbar spinal cord segment"
       },
       "grabbable": true,
       "grabbed": false,
       "position": {
        "x": 60.620414556416726,
        "y": 428.07665181181005
       },
       "selectable": false
      }
     },
     "da8b48854a974a4abcda38e0a1c4a71e": {
      "model_module": "jupyter-cytoscape",
      "model_module_version": "^1.2.2",
      "model_name": "EdgeModel",
      "state": {
       "_model_module_version": "^1.2.2",
       "_view_module_version": "^1.2.2",
       "classes": " directed ",
       "data": {
        "directed": true,
        "id": 10,
        "source": "\nFMA:12698: White communicating ramus of second lumbar anterior ramus",
        "target": "\nFMA:6541: Second lumbar ganglion"
       },
       "selectable": false
      }
     },
     "db93669700cd451aa59b423438a1349a": {
      "model_module": "jupyter-cytoscape",
      "model_module_version": "^1.2.2",
      "model_name": "EdgeModel",
      "state": {
       "_model_module_version": "^1.2.2",
       "_view_module_version": "^1.2.2",
       "classes": " directed ",
       "data": {
        "directed": true,
        "id": 7,
        "source": "UBERON:0016578: lamina VII of gray matter of spinal cord\nUBERON:0006450: second lumbar spinal cord segment\n\nUBERON:0005844: spinal cord segment",
        "target": "UBERON:0016549: central nervous system white matter layer\nUBERON:0006450: second lumbar spinal cord segment\n\nUBERON:0005844: spinal cord segment"
       },
       "selectable": false
      }
     },
     "dbae24fa566944b2904cc66a38143f07": {
      "model_module": "jupyter-cytoscape",
      "model_module_version": "^1.2.2",
      "model_name": "EdgeModel",
      "state": {
       "_model_module_version": "^1.2.2",
       "_view_module_version": "^1.2.2",
       "classes": " directed ",
       "data": {
        "directed": true,
        "id": 3,
        "source": "UBERON:0001017: central nervous system\nUBERON:0000988: pons",
        "target": "\nUBERON:0007632: Barrington's nucleus\nUBERON:0001017: central nervous system\nUBERON:0000988: pons"
       },
       "selectable": false
      }
     },
     "dc951855709947759ae3d38fd1ce8afd": {
      "model_module": "jupyter-cytoscape",
      "model_module_version": "^1.2.2",
      "model_name": "NodeModel",
      "state": {
       "_model_module_version": "^1.2.2",
       "_view_module_version": "^1.2.2",
       "data": {
        "id": "UBERON:0001359: cerebrospinal fluid\nUBERON:0006460: first sacral spinal cord segment"
       },
       "grabbable": true,
       "grabbed": false,
       "selectable": false
      }
     },
     "dcf1e15df74f423996748d4d6238e4b1": {
      "model_module": "jupyter-cytoscape",
      "model_module_version": "^1.2.2",
      "model_name": "NodeModel",
      "state": {
       "_model_module_version": "^1.2.2",
       "_view_module_version": "^1.2.2",
       "data": {
        "id": "UBERON:0016549: central nervous system white matter layer\nUBERON:0006453: fifth thoracic spinal cord segment"
       },
       "grabbable": true,
       "grabbed": false,
       "selectable": false
      }
     },
     "df8aeb13d7df41cdb9dbd51c9424a4fe": {
      "model_module": "jupyter-cytoscape",
      "model_module_version": "^1.2.2",
      "model_name": "EdgeModel",
      "state": {
       "_model_module_version": "^1.2.2",
       "_view_module_version": "^1.2.2",
       "classes": " directed ",
       "data": {
        "directed": true,
        "id": "26",
        "source": "\nUBERON:0018683: lumbar splanchnic nerve",
        "target": "\nUBERON:0005453: inferior mesenteric ganglion"
       },
       "selectable": false
      }
     },
     "e116ba27319941a099905370e125b121": {
      "model_module": "jupyter-cytoscape",
      "model_module_version": "^1.2.2",
      "model_name": "EdgeModel",
      "state": {
       "_model_module_version": "^1.2.2",
       "_view_module_version": "^1.2.2",
       "classes": " directed ",
       "data": {
        "directed": true,
        "id": 16,
        "source": "UBERON:0016549: central nervous system white matter layer\nEMAPA:19554",
        "target": "UBERON:0016549: central nervous system white matter layer\nUBERON:0006448: first lumbar spinal cord segment"
       },
       "selectable": false
      }
     },
     "e18da381780c4c43837c85d2b9211730": {
      "model_module": "jupyter-cytoscape",
      "model_module_version": "^1.2.2",
      "model_name": "GraphModel",
      "state": {
       "_adj": {},
       "_model_module_version": "^1.2.2",
       "_view_module": "jupyter-cytoscape",
       "_view_module_version": "^1.2.2"
      }
     },
     "e1c11b6985374892962e0c644b9d0786": {
      "model_module": "@jupyter-widgets/base",
      "model_module_version": "1.2.0",
      "model_name": "LayoutModel",
      "state": {}
     },
     "e2885e7bcb044611ae94c8c4efba4955": {
      "model_module": "jupyter-cytoscape",
      "model_module_version": "^1.2.2",
      "model_name": "NodeModel",
      "state": {
       "_model_module_version": "^1.2.2",
       "_view_module_version": "^1.2.2",
       "data": {
        "id": "\nUBERON:0005303: hypogastric nerve"
       },
       "grabbable": true,
       "grabbed": false,
       "position": {
        "x": 247.1570418138151,
        "y": 260.63782334494783
       },
       "selectable": false
      }
     },
     "e2cb27144e27417fa88fb91ca2452499": {
      "model_module": "jupyter-cytoscape",
      "model_module_version": "^1.2.2",
      "model_name": "NodeModel",
      "state": {
       "_model_module_version": "^1.2.2",
       "_view_module_version": "^1.2.2",
       "data": {
        "id": "UBERON:0002384: connective tissue\nUBERON:0006082: fundus of urinary bladder"
       },
       "grabbable": true,
       "grabbed": false,
       "selectable": false
      }
     },
     "e2e2e07fb6304d3891487268b81f1e64": {
      "model_module": "jupyter-cytoscape",
      "model_module_version": "^1.2.2",
      "model_name": "CytoscapeModel",
      "state": {
       "_interaction_handlers": {},
       "_model_module_version": "^1.2.2",
       "_view_module_version": "^1.2.2",
       "auto_ungrabify": false,
       "autolock": false,
       "cytoscape_layout": {
        "name": "cola"
       },
       "cytoscape_style": [
        {
         "selector": "node",
         "style": {
          "background-color": "#80F0F0",
          "font-size": "10px",
          "label": "data(id)",
          "text-max-width": "80px",
          "text-valign": "center",
          "text-wrap": "wrap"
         }
        },
        {
         "selector": "edge.directed",
         "style": {
          "line-color": "#9dbaea",
          "mid-target-arrow-color": "#8090c0",
          "mid-target-arrow-shape": "triangle",
          "width": 2
         }
        }
       ],
       "desktop_tap_threshold": 4,
       "graph": "IPY_MODEL_28c29c310e894dc6bbaaf6bee0c30eeb",
       "headless": false,
       "hide_edges_on_viewport": false,
       "layout": "IPY_MODEL_1d7b1007e5074aad86fba9e6efad8bae",
       "max_zoom": 1e+50,
       "min_zoom": 1e-50,
       "motion_blur": false,
       "motion_blur_opacity": 0.2,
       "panning_enabled": true,
       "pixel_ratio": "auto",
       "rendered_position": {
        "renderedPosition": {
         "x": 100,
         "y": 100
        }
       },
       "selection_type": "single",
       "style_enabled": true,
       "texture_on_viewport": false,
       "tooltip_source": "tooltip",
       "touch_tap_threshold": 8,
       "user_panning_enabled": true,
       "user_zooming_enabled": true,
       "wheel_sensitivity": 1,
       "zoom": 2,
       "zooming_enabled": true
      }
     },
     "e3026bdfd1064c338585cff96edb62f0": {
      "model_module": "jupyter-cytoscape",
      "model_module_version": "^1.2.2",
      "model_name": "NodeModel",
      "state": {
       "_model_module_version": "^1.2.2",
       "_view_module_version": "^1.2.2",
       "data": {
        "id": "UBERON:0035965: wall of blood vessel\nUBERON:0001981: blood vessel\nUBERON:0002384: connective tissue\nUBERON:0001258: neck of urinary bladder"
       },
       "grabbable": true,
       "grabbed": false,
       "position": {
        "x": 1125.1509918269212,
        "y": 273.7427311289421
       },
       "selectable": false
      }
     },
     "e3081220642a4e03ae019198c832607b": {
      "model_module": "jupyter-cytoscape",
      "model_module_version": "^1.2.2",
      "model_name": "NodeModel",
      "state": {
       "_model_module_version": "^1.2.2",
       "_view_module_version": "^1.2.2",
       "data": {
        "id": "UBERON:0016549: central nervous system white matter layer\nUBERON:0006459: third thoracic spinal cord segment"
       },
       "grabbable": true,
       "grabbed": false,
       "selectable": false
      }
     },
     "e315a4924f5140959452db7058a3d340": {
      "model_module": "jupyter-cytoscape",
      "model_module_version": "^1.2.2",
      "model_name": "NodeModel",
      "state": {
       "_model_module_version": "^1.2.2",
       "_view_module_version": "^1.2.2",
       "data": {
        "id": "\nUBERON:0016508: pelvic ganglion"
       },
       "grabbable": true,
       "grabbed": false,
       "selectable": false
      }
     },
     "e3f979b7f22c4939820cf05ede9e4abc": {
      "model_module": "jupyter-cytoscape",
      "model_module_version": "^1.2.2",
      "model_name": "NodeModel",
      "state": {
       "_model_module_version": "^1.2.2",
       "_view_module_version": "^1.2.2",
       "data": {
        "id": "\nFMA:6485: Twelfth thoracic ganglion"
       },
       "grabbable": true,
       "grabbed": false,
       "selectable": false
      }
     },
     "e4079d1910e24285bbc7912cc04e795d": {
      "model_module": "jupyter-cytoscape",
      "model_module_version": "^1.2.2",
      "model_name": "CytoscapeModel",
      "state": {
       "_interaction_handlers": {},
       "_model_module_version": "^1.2.2",
       "_view_module_version": "^1.2.2",
       "auto_ungrabify": false,
       "autolock": false,
       "cytoscape_layout": {
        "name": "cola"
       },
       "cytoscape_style": [
        {
         "selector": "node",
         "style": {
          "background-color": "#80F0F0",
          "font-size": "10px",
          "label": "data(id)",
          "text-max-width": "80px",
          "text-valign": "center",
          "text-wrap": "wrap"
         }
        },
        {
         "selector": "edge.directed",
         "style": {
          "line-color": "#9dbaea",
          "mid-target-arrow-color": "#8090c0",
          "mid-target-arrow-shape": "triangle",
          "width": 2
         }
        }
       ],
       "desktop_tap_threshold": 4,
       "graph": "IPY_MODEL_5b02c8cfa77e42109f3f6c5fa1568853",
       "headless": false,
       "hide_edges_on_viewport": false,
       "layout": "IPY_MODEL_1180693fd5a740deb7b2c7db17ad3f9b",
       "max_zoom": 1e+50,
       "min_zoom": 1e-50,
       "motion_blur": false,
       "motion_blur_opacity": 0.2,
       "panning_enabled": true,
       "pixel_ratio": "auto",
       "rendered_position": {
        "renderedPosition": {
         "x": 100,
         "y": 100
        }
       },
       "selection_type": "single",
       "style_enabled": true,
       "texture_on_viewport": false,
       "tooltip_source": "tooltip",
       "touch_tap_threshold": 8,
       "user_panning_enabled": true,
       "user_zooming_enabled": true,
       "wheel_sensitivity": 1,
       "zoom": 2,
       "zooming_enabled": true
      }
     },
     "e5bf730294d14834a57929fe86e2b4a5": {
      "model_module": "jupyter-cytoscape",
      "model_module_version": "^1.2.2",
      "model_name": "NodeModel",
      "state": {
       "_model_module_version": "^1.2.2",
       "_view_module_version": "^1.2.2",
       "data": {
        "id": "UBERON:0016578: lamina VII of gray matter of spinal cord\nUBERON:0005844: spinal cord segment\n\nILX:0738432: Sixth lumbar spinal cord segment"
       },
       "grabbable": true,
       "grabbed": false,
       "selectable": false
      }
     },
     "e63567be1dbc48aeb06f4dfb714965b5": {
      "model_module": "jupyter-cytoscape",
      "model_module_version": "^1.2.2",
      "model_name": "GraphModel",
      "state": {
       "_adj": {
        "\nEMAPA:25169": {},
        "\nUBERON:0002860: first sacral dorsal root ganglion": {},
        "\nUBERON:0011390: pudendal nerve": {},
        "EMAPA:32269\nUBERON:0000057: urethra": {},
        "UBERON:0001359: cerebrospinal fluid\nUBERON:0006460: first sacral spinal cord segment": {},
        "UBERON:0002181: substantia gelatinosa\nILX:0738432: Sixth lumbar spinal cord segment": {},
        "UBERON:0004677: spinal cord gray commissure\nILX:0738432: Sixth lumbar spinal cord segment": {},
        "UBERON:0006118: lamina I of gray matter of spinal cord\nILX:0738432: Sixth lumbar spinal cord segment": {},
        "UBERON:0016549: central nervous system white matter layer\nILX:0738432: Sixth lumbar spinal cord segment": {},
        "UBERON:0016576: lamina V of gray matter of spinal cord\nILX:0738432: Sixth lumbar spinal cord segment": {},
        "UBERON:0016578: lamina VII of gray matter of spinal cord\nILX:0738432: Sixth lumbar spinal cord segment": {}
       },
       "_model_module_version": "^1.2.2",
       "_view_module": "jupyter-cytoscape",
       "_view_module_version": "^1.2.2",
       "edges": [
        "IPY_MODEL_3e721b7113b8400ca08205d323e1956d",
        "IPY_MODEL_425e4624bc04401fa1496eff03e24eae",
        "IPY_MODEL_12893a3c580d495e994f2671f9cff5ba",
        "IPY_MODEL_63f22358651949528453d85a593b2ab8",
        "IPY_MODEL_75a4f6923b984cee904c6c587a684c79",
        "IPY_MODEL_21fb580a41fd467d877105393229a3ee",
        "IPY_MODEL_32c68de643a4461ea7cbddba5c42edc4",
        "IPY_MODEL_09c08eb26500403da03373fed50cd011",
        "IPY_MODEL_98765321c37f45e29602813bf84a8afb",
        "IPY_MODEL_ed1ec0429eeb4934a68111f2ca57de24"
       ],
       "nodes": [
        "IPY_MODEL_29e6c298abce4d1da0f58a5659fd9e8c",
        "IPY_MODEL_feba8d0958a74d51acf625734c92896f",
        "IPY_MODEL_45d38914cfa2411fa6fef378a3b38ce6",
        "IPY_MODEL_ba5e49bf68ff46768596f794b516b812",
        "IPY_MODEL_892fbcf18b9a44a49dec3fe52b3a86ef",
        "IPY_MODEL_42045e4864984443882948fed5d18f11",
        "IPY_MODEL_6014557edc654ef6a9a0254cbf80917c",
        "IPY_MODEL_e947e7a4c32e4309a6a643b308e0861c",
        "IPY_MODEL_dc951855709947759ae3d38fd1ce8afd",
        "IPY_MODEL_84958332a8f544b7923be06a8b11f6c7",
        "IPY_MODEL_aa4ce431e56c4c66914a8a02e04e2c4d"
       ]
      }
     },
     "e72e0c470d7c473793364e33a8d335ef": {
      "model_module": "jupyter-cytoscape",
      "model_module_version": "^1.2.2",
      "model_name": "EdgeModel",
      "state": {
       "_model_module_version": "^1.2.2",
       "_view_module_version": "^1.2.2",
       "classes": " directed ",
       "data": {
        "directed": true,
        "id": 3,
        "source": "UBERON:0016549: central nervous system white matter layer\nUBERON:0006457: first thoracic spinal cord segment",
        "target": "UBERON:0016549: central nervous system white matter layer\nUBERON:0006458: second thoracic spinal cord segment"
       },
       "selectable": false
      }
     },
     "e83856fe29d947359bee7f99afc37ec8": {
      "model_module": "jupyter-cytoscape",
      "model_module_version": "^1.2.2",
      "model_name": "NodeModel",
      "state": {
       "_model_module_version": "^1.2.2",
       "_view_module_version": "^1.2.2",
       "data": {
        "id": "\nFMA:6543: Fourth lumbar ganglion"
       },
       "grabbable": true,
       "grabbed": false,
       "selectable": false
      }
     },
     "e83f33bf3abd4664bdf1accab73d160f": {
      "model_module": "jupyter-cytoscape",
      "model_module_version": "^1.2.2",
      "model_name": "NodeModel",
      "state": {
       "_model_module_version": "^1.2.2",
       "_view_module_version": "^1.2.2",
       "data": {
        "id": "\nFMA:12697: White communicating ramus of first lumbar anterior ramus"
       },
       "grabbable": true,
       "grabbed": false,
       "selectable": false
      }
     },
     "e947e7a4c32e4309a6a643b308e0861c": {
      "model_module": "jupyter-cytoscape",
      "model_module_version": "^1.2.2",
      "model_name": "NodeModel",
      "state": {
       "_model_module_version": "^1.2.2",
       "_view_module_version": "^1.2.2",
       "data": {
        "id": "\nUBERON:0002860: first sacral dorsal root ganglion"
       },
       "grabbable": true,
       "grabbed": false,
       "selectable": false
      }
     },
     "e9ed8002ae7641078418db70c769959d": {
      "model_module": "jupyter-cytoscape",
      "model_module_version": "^1.2.2",
      "model_name": "EdgeModel",
      "state": {
       "_model_module_version": "^1.2.2",
       "_view_module_version": "^1.2.2",
       "classes": " directed ",
       "data": {
        "directed": true,
        "id": "7",
        "source": "\nUBERON:0002860: first sacral dorsal root ganglion",
        "target": "UBERON:0016549: central nervous system white matter layer\nUBERON:0006460: first sacral spinal cord segment"
       },
       "selectable": false
      }
     },
     "ea1522bc715e4c5aa0588d8b492ba693": {
      "model_module": "jupyter-cytoscape",
      "model_module_version": "^1.2.2",
      "model_name": "NodeModel",
      "state": {
       "_model_module_version": "^1.2.2",
       "_view_module_version": "^1.2.2",
       "data": {
        "id": "UBERON:0016549: central nervous system white matter layer\nUBERON:0005844: spinal cord segment\n\nILX:0738432: Sixth lumbar spinal cord segment"
       },
       "grabbable": true,
       "grabbed": false,
       "selectable": false
      }
     },
     "ea304ea8494045af84a4b039376e5de2": {
      "model_module": "jupyter-cytoscape",
      "model_module_version": "^1.2.2",
      "model_name": "EdgeModel",
      "state": {
       "_model_module_version": "^1.2.2",
       "_view_module_version": "^1.2.2",
       "classes": " directed ",
       "data": {
        "directed": true,
        "id": "3",
        "source": "UBERON:0016549: central nervous system white matter layer\nUBERON:0006448: first lumbar spinal cord segment",
        "target": "UBERON:0016578: lamina VII of gray matter of spinal cord\nUBERON:0006448: first lumbar spinal cord segment"
       },
       "selectable": false
      }
     },
     "ea58890eabcc4036abb3eb8582efa2f3": {
      "model_module": "jupyter-cytoscape",
      "model_module_version": "^1.2.2",
      "model_name": "EdgeModel",
      "state": {
       "_model_module_version": "^1.2.2",
       "_view_module_version": "^1.2.2",
       "classes": " directed ",
       "data": {
        "directed": true,
        "id": 1,
        "source": "UBERON:0001017: central nervous system\nUBERON:0001893: cerebrum",
        "target": "UBERON:0001017: central nervous system\nUBERON:0001894: diencephalon"
       },
       "selectable": false
      }
     },
     "eabfd860d2d040f39d24987434e12409": {
      "model_module": "jupyter-cytoscape",
      "model_module_version": "^1.2.2",
      "model_name": "EdgeModel",
      "state": {
       "_model_module_version": "^1.2.2",
       "_view_module_version": "^1.2.2",
       "classes": " directed ",
       "data": {
        "directed": true,
        "id": "21",
        "source": "UBERON:0001135: smooth muscle tissue\nUBERON:0001258: neck of urinary bladder",
        "target": "UBERON:0000483: epithelium\nUBERON:0001258: neck of urinary bladder"
       },
       "selectable": false
      }
     },
     "ead69a8cae004b15a2322ee99047d187": {
      "model_module": "jupyter-cytoscape",
      "model_module_version": "^1.2.2",
      "model_name": "NodeModel",
      "state": {
       "_model_module_version": "^1.2.2",
       "_view_module_version": "^1.2.2",
       "data": {
        "id": "UBERON:0016549: central nervous system white matter layer\nUBERON:0006449: third lumbar spinal cord segment"
       },
       "grabbable": true,
       "grabbed": false,
       "selectable": false
      }
     },
     "ebaf40dbec1046a5bd7558e85988a40c": {
      "model_module": "jupyter-cytoscape",
      "model_module_version": "^1.2.2",
      "model_name": "GraphModel",
      "state": {
       "_adj": {
        "\nEMAPA:25269": {},
        "\nEMAPA:25271": {},
        "\nFMA:12697: White communicating ramus of first lumbar anterior ramus": {},
        "\nFMA:12698: White communicating ramus of second lumbar anterior ramus": {},
        "\nFMA:6540: First lumbar ganglion": {},
        "\nFMA:6541: Second lumbar ganglion": {},
        "\nFMA:65910: Gray communicating ramus of first lumbar nerve": {},
        "\nFMA:65911: Gray communicating ramus of second lumbar nerve": {},
        "\nUBERON:0005453: inferior mesenteric ganglion": {},
        "\nUBERON:0018683: lumbar splanchnic nerve": {},
        "UBERON:0016549: central nervous system white matter layer\nUBERON:0006448: first lumbar spinal cord segment\n\nUBERON:0005844: spinal cord segment": {},
        "UBERON:0016549: central nervous system white matter layer\nUBERON:0006450: second lumbar spinal cord segment\n\nUBERON:0005844: spinal cord segment": {},
        "UBERON:0016578: lamina VII of gray matter of spinal cord\nUBERON:0006448: first lumbar spinal cord segment\n\nUBERON:0005844: spinal cord segment": {},
        "UBERON:0016578: lamina VII of gray matter of spinal cord\nUBERON:0006450: second lumbar spinal cord segment\n\nUBERON:0005844: spinal cord segment": {}
       },
       "_model_module_version": "^1.2.2",
       "_view_module": "jupyter-cytoscape",
       "_view_module_version": "^1.2.2",
       "edges": [
        "IPY_MODEL_6d282f4a4d8f453381cd7550ac654ce9",
        "IPY_MODEL_878530c9b4f74df8b73664f1680c55f0",
        "IPY_MODEL_741002f8a62b4b75b0b6ef81d5358f27",
        "IPY_MODEL_c0b9931f91344b51847851e484a0fdbc",
        "IPY_MODEL_ad81b095f7f2416483771d61c1b99d26",
        "IPY_MODEL_bf03d4204c244e1ea4ca8b43e26c67a2",
        "IPY_MODEL_83d543444a8b48ae8324c8ccf5fd5a86",
        "IPY_MODEL_db93669700cd451aa59b423438a1349a",
        "IPY_MODEL_8079dacab98746398f065a0142615608",
        "IPY_MODEL_d593bf143f6b470f8bc12028d987f390",
        "IPY_MODEL_da8b48854a974a4abcda38e0a1c4a71e",
        "IPY_MODEL_70871b46e2bf4e3aa3787733ad2271d5",
        "IPY_MODEL_3628ba5fe5b9437b96428f31e0b41a71"
       ],
       "nodes": [
        "IPY_MODEL_02f3412e48c245d7a93f25cb35925fa0",
        "IPY_MODEL_6a512a78b8cf4f5fae7767afc895ea9d",
        "IPY_MODEL_ae1a31bce23b4c42bf8b7ad53ae6ba6c",
        "IPY_MODEL_e83f33bf3abd4664bdf1accab73d160f",
        "IPY_MODEL_6f8c8650c2f34a99941ac50087bc1049",
        "IPY_MODEL_79d0e799fdb74bd9b6d89ab4e4a9ad37",
        "IPY_MODEL_471dffe9f97044bea15a2cdea97f5ac9",
        "IPY_MODEL_43756b485c3f4fbfba593053bbf14372",
        "IPY_MODEL_f4c9fb0213b64bbc968a949d0979bbc2",
        "IPY_MODEL_ee279239caf04044a716aed6431ca067",
        "IPY_MODEL_975702a6dc1b48e981c229c09c5d330d",
        "IPY_MODEL_4b812ac71f664796bdc0372ad81b62e4",
        "IPY_MODEL_2feb62b970e44f0a9d29f370fd3aff91",
        "IPY_MODEL_96c1f995b68145cdb94d0bdae2f4fa11"
       ]
      }
     },
     "ec1f7cee1d594058817c4e3db227573a": {
      "model_module": "jupyter-cytoscape",
      "model_module_version": "^1.2.2",
      "model_name": "NodeModel",
      "state": {
       "_model_module_version": "^1.2.2",
       "_view_module_version": "^1.2.2",
       "data": {
        "id": "UBERON:0001135: smooth muscle tissue\nUBERON:0006082: fundus of urinary bladder"
       },
       "grabbable": true,
       "grabbed": false,
       "selectable": false
      }
     },
     "ec8edf7b4380465a89902974e05e2a65": {
      "model_module": "jupyter-cytoscape",
      "model_module_version": "^1.2.2",
      "model_name": "EdgeModel",
      "state": {
       "_model_module_version": "^1.2.2",
       "_view_module_version": "^1.2.2",
       "classes": " directed ",
       "data": {
        "directed": true,
        "id": 2,
        "source": "UBERON:0001017: central nervous system\nUBERON:0001894: diencephalon",
        "target": "UBERON:0001017: central nervous system\nUBERON:0001891: midbrain"
       },
       "selectable": false
      }
     },
     "ed0cdceefc794da5a405e4b65577926a": {
      "model_module": "jupyter-cytoscape",
      "model_module_version": "^1.2.2",
      "model_name": "EdgeModel",
      "state": {
       "_model_module_version": "^1.2.2",
       "_view_module_version": "^1.2.2",
       "classes": " directed ",
       "data": {
        "directed": true,
        "id": 3,
        "source": "\nUBERON:0005303: hypogastric nerve",
        "target": "\nUBERON:0016508: pelvic ganglion"
       },
       "selectable": false
      }
     },
     "ed1ec0429eeb4934a68111f2ca57de24": {
      "model_module": "jupyter-cytoscape",
      "model_module_version": "^1.2.2",
      "model_name": "EdgeModel",
      "state": {
       "_model_module_version": "^1.2.2",
       "_view_module_version": "^1.2.2",
       "classes": " directed ",
       "data": {
        "directed": true,
        "id": 7,
        "source": "\nUBERON:0011390: pudendal nerve",
        "target": "EMAPA:32269\nUBERON:0000057: urethra"
       },
       "selectable": false
      }
     },
     "ed51c64bdfc04a929f71aa1021afd0c7": {
      "model_module": "jupyter-cytoscape",
      "model_module_version": "^1.2.2",
      "model_name": "NodeModel",
      "state": {
       "_model_module_version": "^1.2.2",
       "_view_module_version": "^1.2.2",
       "data": {
        "id": "\nUBERON:0002625: median preoptic nucleus\nUBERON:0001017: central nervous system\nUBERON:0001894: diencephalon"
       },
       "grabbable": true,
       "grabbed": false,
       "selectable": false
      }
     },
     "edb2f46e7ef54660b2acf2a889c4b3d8": {
      "model_module": "jupyter-cytoscape",
      "model_module_version": "^1.2.2",
      "model_name": "NodeModel",
      "state": {
       "_model_module_version": "^1.2.2",
       "_view_module_version": "^1.2.2",
       "data": {
        "id": "\nUBERON:0016508: pelvic ganglion"
       },
       "grabbable": true,
       "grabbed": false,
       "selectable": false
      }
     },
     "ee1553b4babd430e995d1d6391ff2348": {
      "model_module": "jupyter-cytoscape",
      "model_module_version": "^1.2.2",
      "model_name": "EdgeModel",
      "state": {
       "_model_module_version": "^1.2.2",
       "_view_module_version": "^1.2.2",
       "classes": " directed ",
       "data": {
        "directed": true,
        "id": 61,
        "source": "\nUBERON:0016508: pelvic ganglion",
        "target": "\nEMAPA:31526"
       },
       "selectable": false
      }
     },
     "ee279239caf04044a716aed6431ca067": {
      "model_module": "jupyter-cytoscape",
      "model_module_version": "^1.2.2",
      "model_name": "NodeModel",
      "state": {
       "_model_module_version": "^1.2.2",
       "_view_module_version": "^1.2.2",
       "data": {
        "id": "UBERON:0016549: central nervous system white matter layer\nUBERON:0006450: second lumbar spinal cord segment\n\nUBERON:0005844: spinal cord segment"
       },
       "grabbable": true,
       "grabbed": false,
       "selectable": false
      }
     },
     "ee7ddcc8ef774ed0962f8b64defe2dfe": {
      "model_module": "jupyter-cytoscape",
      "model_module_version": "^1.2.2",
      "model_name": "NodeModel",
      "state": {
       "_model_module_version": "^1.2.2",
       "_view_module_version": "^1.2.2",
       "data": {
        "id": "UBERON:0002384: connective tissue\nUBERON:0001258: neck of urinary bladder"
       },
       "grabbable": true,
       "grabbed": false,
       "selectable": false
      }
     },
     "eefa400c57664dc890155eff2e86e727": {
      "model_module": "jupyter-cytoscape",
      "model_module_version": "^1.2.2",
      "model_name": "EdgeModel",
      "state": {
       "_model_module_version": "^1.2.2",
       "_view_module_version": "^1.2.2",
       "classes": " directed ",
       "data": {
        "directed": true,
        "id": 1,
        "source": "\nEMAPA:31526",
        "target": "UBERON:0001135: smooth muscle tissue\nUBERON:0001258: neck of urinary bladder"
       },
       "selectable": false
      }
     },
     "eefdaff27fb448ceae45fdce06fba2fa": {
      "model_module": "jupyter-cytoscape",
      "model_module_version": "^1.2.2",
      "model_name": "CytoscapeModel",
      "state": {
       "_interaction_handlers": {},
       "_model_module_version": "^1.2.2",
       "_view_module_version": "^1.2.2",
       "auto_ungrabify": false,
       "autolock": false,
       "cytoscape_layout": {
        "name": "cola"
       },
       "cytoscape_style": [
        {
         "selector": "node",
         "style": {
          "background-color": "#80F0F0",
          "font-size": "10px",
          "label": "data(id)",
          "text-max-width": "80px",
          "text-valign": "center",
          "text-wrap": "wrap"
         }
        },
        {
         "selector": "edge.directed",
         "style": {
          "line-color": "#9dbaea",
          "mid-target-arrow-color": "#8090c0",
          "mid-target-arrow-shape": "triangle",
          "width": 2
         }
        }
       ],
       "desktop_tap_threshold": 4,
       "graph": "IPY_MODEL_fe2c232e5c1d45ee994657e4960d6cd2",
       "headless": false,
       "hide_edges_on_viewport": false,
       "layout": "IPY_MODEL_954c4eac15694b1a86c6c5964f16cb51",
       "max_zoom": 1e+50,
       "min_zoom": 1e-50,
       "motion_blur": false,
       "motion_blur_opacity": 0.2,
       "panning_enabled": true,
       "pixel_ratio": "auto",
       "rendered_position": {
        "renderedPosition": {
         "x": 100,
         "y": 100
        }
       },
       "selection_type": "single",
       "style_enabled": true,
       "texture_on_viewport": false,
       "tooltip_source": "tooltip",
       "touch_tap_threshold": 8,
       "user_panning_enabled": true,
       "user_zooming_enabled": true,
       "wheel_sensitivity": 1,
       "zoom": 2,
       "zooming_enabled": true
      }
     },
     "ef11c0af333a403585f37c048dc74399": {
      "model_module": "jupyter-cytoscape",
      "model_module_version": "^1.2.2",
      "model_name": "NodeModel",
      "state": {
       "_model_module_version": "^1.2.2",
       "_view_module_version": "^1.2.2",
       "data": {
        "id": "\nFMA:6540: First lumbar ganglion"
       },
       "grabbable": true,
       "grabbed": false,
       "position": {
        "x": 612.7352428342793,
        "y": 389.23464351108333
       },
       "selectable": false
      }
     },
     "f08ac9c392e444d7bb1b64153f3f3a0a": {
      "model_module": "jupyter-cytoscape",
      "model_module_version": "^1.2.2",
      "model_name": "NodeModel",
      "state": {
       "_model_module_version": "^1.2.2",
       "_view_module_version": "^1.2.2",
       "data": {
        "id": "UBERON:0001017: central nervous system\nUBERON:0001894: diencephalon"
       },
       "grabbable": true,
       "grabbed": false,
       "selectable": false
      }
     },
     "f09d81c3e22f4fe884b968ba6d7f05c5": {
      "model_module": "jupyter-cytoscape",
      "model_module_version": "^1.2.2",
      "model_name": "EdgeModel",
      "state": {
       "_model_module_version": "^1.2.2",
       "_view_module_version": "^1.2.2",
       "classes": " directed ",
       "data": {
        "directed": true,
        "id": "12",
        "source": "\nFMA:12698: White communicating ramus of second lumbar anterior ramus",
        "target": "\nFMA:6541: Second lumbar ganglion"
       },
       "selectable": false
      }
     },
     "f09f4f40289b4336835eb33c2b213197": {
      "model_module": "jupyter-cytoscape",
      "model_module_version": "^1.2.2",
      "model_name": "EdgeModel",
      "state": {
       "_model_module_version": "^1.2.2",
       "_view_module_version": "^1.2.2",
       "classes": " directed ",
       "data": {
        "directed": true,
        "id": 6,
        "source": "UBERON:0016549: central nervous system white matter layer\nUBERON:0006452: fourth thoracic spinal cord segment",
        "target": "UBERON:0016549: central nervous system white matter layer\nUBERON:0006453: fifth thoracic spinal cord segment"
       },
       "selectable": false
      }
     },
     "f14cc6e8486b45608fc2f286f601ded8": {
      "model_module": "jupyter-cytoscape",
      "model_module_version": "^1.2.2",
      "model_name": "EdgeModel",
      "state": {
       "_model_module_version": "^1.2.2",
       "_view_module_version": "^1.2.2",
       "classes": " directed ",
       "data": {
        "directed": true,
        "id": 3,
        "source": "UBERON:0001017: central nervous system\nUBERON:0000988: pons",
        "target": "\nUBERON:0007632: Barrington's nucleus\nUBERON:0001017: central nervous system\nUBERON:0000988: pons"
       },
       "selectable": false
      }
     },
     "f16b1587d45e4822989598f46756e735": {
      "model_module": "jupyter-cytoscape",
      "model_module_version": "^1.2.2",
      "model_name": "EdgeModel",
      "state": {
       "_model_module_version": "^1.2.2",
       "_view_module_version": "^1.2.2",
       "classes": " directed ",
       "data": {
        "directed": true,
        "id": 3,
        "source": "\nEMAPA:31526",
        "target": "UBERON:0002384: connective tissue\nUBERON:0006082: fundus of urinary bladder"
       },
       "selectable": false
      }
     },
     "f177134158c74ed5a7fc86cc166274db": {
      "model_module": "jupyter-cytoscape",
      "model_module_version": "^1.2.2",
      "model_name": "NodeModel",
      "state": {
       "_model_module_version": "^1.2.2",
       "_view_module_version": "^1.2.2",
       "data": {
        "id": "UBERON:0001017: central nervous system\nUBERON:0001893: cerebrum"
       },
       "grabbable": true,
       "grabbed": false,
       "selectable": false
      }
     },
     "f2c4f3d800894114b0f8fbd9e02892c7": {
      "model_module": "@jupyter-widgets/base",
      "model_module_version": "1.2.0",
      "model_name": "LayoutModel",
      "state": {}
     },
     "f2cfa9c29b1b4198b8e316d38eccac86": {
      "model_module": "jupyter-cytoscape",
      "model_module_version": "^1.2.2",
      "model_name": "EdgeModel",
      "state": {
       "_model_module_version": "^1.2.2",
       "_view_module_version": "^1.2.2",
       "classes": " directed ",
       "data": {
        "directed": true,
        "id": 65,
        "source": "\nILX:0777093: L6 - S1 interganglionic segment",
        "target": "\nFMA:6552: First sacral ganglion"
       },
       "selectable": false
      }
     },
     "f2dfb513e83340dc8a95b2402c687d3b": {
      "model_module": "jupyter-cytoscape",
      "model_module_version": "^1.2.2",
      "model_name": "NodeModel",
      "state": {
       "_model_module_version": "^1.2.2",
       "_view_module_version": "^1.2.2",
       "data": {
        "id": "UBERON:0016549: central nervous system white matter layer\nUBERON:0006469: C1 segment of cervical spinal cord"
       },
       "grabbable": true,
       "grabbed": false,
       "selectable": false
      }
     },
     "f3c3c9bb8f884bf9bf0c2aff1913015a": {
      "model_module": "jupyter-cytoscape",
      "model_module_version": "^1.2.2",
      "model_name": "GraphModel",
      "state": {
       "_adj": {},
       "_model_module_version": "^1.2.2",
       "_view_module": "jupyter-cytoscape",
       "_view_module_version": "^1.2.2"
      }
     },
     "f3cf8ff18c4a4a5ca8f092081cdf9f9a": {
      "model_module": "jupyter-cytoscape",
      "model_module_version": "^1.2.2",
      "model_name": "EdgeModel",
      "state": {
       "_model_module_version": "^1.2.2",
       "_view_module_version": "^1.2.2",
       "classes": " directed ",
       "data": {
        "directed": true,
        "id": 1,
        "source": "UBERON:0001017: central nervous system\nUBERON:0001893: cerebrum",
        "target": "UBERON:0001017: central nervous system\nUBERON:0001894: diencephalon"
       },
       "selectable": false
      }
     },
     "f3e2d8d454d549528760b874a5893c40": {
      "model_module": "jupyter-cytoscape",
      "model_module_version": "^1.2.2",
      "model_name": "NodeModel",
      "state": {
       "_model_module_version": "^1.2.2",
       "_view_module_version": "^1.2.2",
       "data": {
        "id": "UBERON:0016549: central nervous system white matter layer\nUBERON:0006490: C4 segment of cervical spinal cord"
       },
       "grabbable": true,
       "grabbed": false,
       "selectable": false
      }
     },
     "f405bf3fa2a84718b3873b306a1e41f6": {
      "model_module": "jupyter-cytoscape",
      "model_module_version": "^1.2.2",
      "model_name": "NodeModel",
      "state": {
       "_model_module_version": "^1.2.2",
       "_view_module_version": "^1.2.2",
       "data": {
        "id": "\nFMA:65911: Gray communicating ramus of second lumbar nerve"
       },
       "grabbable": true,
       "grabbed": false,
       "position": {
        "x": 503.84027289674935,
        "y": 110.16163689671282
       },
       "selectable": false
      }
     },
     "f4119c58133b4b3291cfcf753ce782b9": {
      "model_module": "@jupyter-widgets/base",
      "model_module_version": "1.2.0",
      "model_name": "LayoutModel",
      "state": {}
     },
     "f4a3d106e85a44ae8474d10f798e363b": {
      "model_module": "jupyter-cytoscape",
      "model_module_version": "^1.2.2",
      "model_name": "NodeModel",
      "state": {
       "_model_module_version": "^1.2.2",
       "_view_module_version": "^1.2.2",
       "data": {
        "id": "UBERON:0001017: central nervous system\nUBERON:0000988: pons"
       },
       "grabbable": true,
       "grabbed": false,
       "selectable": false
      }
     },
     "f4c9fb0213b64bbc968a949d0979bbc2": {
      "model_module": "jupyter-cytoscape",
      "model_module_version": "^1.2.2",
      "model_name": "NodeModel",
      "state": {
       "_model_module_version": "^1.2.2",
       "_view_module_version": "^1.2.2",
       "data": {
        "id": "UBERON:0016578: lamina VII of gray matter of spinal cord\nUBERON:0006450: second lumbar spinal cord segment\n\nUBERON:0005844: spinal cord segment"
       },
       "grabbable": true,
       "grabbed": false,
       "selectable": false
      }
     },
     "f4e43f409c3d4fce876f1ed0c665ba88": {
      "model_module": "jupyter-cytoscape",
      "model_module_version": "^1.2.2",
      "model_name": "EdgeModel",
      "state": {
       "_model_module_version": "^1.2.2",
       "_view_module_version": "^1.2.2",
       "classes": " directed ",
       "data": {
        "directed": true,
        "id": "3",
        "source": "UBERON:0016578: lamina VII of gray matter of spinal cord\nUBERON:0006448: first lumbar spinal cord segment\n\nUBERON:0005844: spinal cord segment",
        "target": "UBERON:0016549: central nervous system white matter layer\nUBERON:0006448: first lumbar spinal cord segment\n\nUBERON:0005844: spinal cord segment"
       },
       "selectable": false
      }
     },
     "f5b84b500c1646a59c06c7eff957925e": {
      "model_module": "jupyter-cytoscape",
      "model_module_version": "^1.2.2",
      "model_name": "EdgeModel",
      "state": {
       "_model_module_version": "^1.2.2",
       "_view_module_version": "^1.2.2",
       "classes": " directed ",
       "data": {
        "directed": true,
        "id": "11",
        "source": "\nEMAPA:25271",
        "target": "\nFMA:12698: White communicating ramus of second lumbar anterior ramus"
       },
       "selectable": false
      }
     },
     "f5fb2400cd964583ba15d22219e63709": {
      "model_module": "jupyter-cytoscape",
      "model_module_version": "^1.2.2",
      "model_name": "EdgeModel",
      "state": {
       "_model_module_version": "^1.2.2",
       "_view_module_version": "^1.2.2",
       "classes": " directed ",
       "data": {
        "directed": true,
        "id": 28,
        "source": "UBERON:0016549: central nervous system white matter layer\nUBERON:0006447: fifth lumbar spinal cord segment",
        "target": "UBERON:0016578: lamina VII of gray matter of spinal cord\nILX:0738432: Sixth lumbar spinal cord segment"
       },
       "selectable": false
      }
     },
     "f65bec9ae5e74efaaf95ad63bdc32dc5": {
      "model_module": "jupyter-cytoscape",
      "model_module_version": "^1.2.2",
      "model_name": "EdgeModel",
      "state": {
       "_model_module_version": "^1.2.2",
       "_view_module_version": "^1.2.2",
       "classes": " directed ",
       "data": {
        "directed": true,
        "id": 14,
        "source": "UBERON:0016549: central nervous system white matter layer\nUBERON:0006467: eleventh thoracic spinal cord segment",
        "target": "UBERON:0016549: central nervous system white matter layer\nUBERON:0006468: twelfth thoracic spinal cord segment"
       },
       "selectable": false
      }
     },
     "f72e474f30ae4e839ad6097890b092b5": {
      "model_module": "jupyter-cytoscape",
      "model_module_version": "^1.2.2",
      "model_name": "NodeModel",
      "state": {
       "_model_module_version": "^1.2.2",
       "_view_module_version": "^1.2.2",
       "data": {
        "id": "UBERON:0016580: lamina IX of gray matter of spinal cord\nUBERON:0005844: spinal cord segment\n\nUBERON:0006447: fifth lumbar spinal cord segment"
       },
       "grabbable": true,
       "grabbed": false,
       "selectable": false
      }
     },
     "f7e8788dd02e4858ad2be038592fbcd2": {
      "model_module": "@jupyter-widgets/base",
      "model_module_version": "1.2.0",
      "model_name": "LayoutModel",
      "state": {}
     },
     "f80882eec22241baa683b1627d7442b8": {
      "model_module": "jupyter-cytoscape",
      "model_module_version": "^1.2.2",
      "model_name": "EdgeModel",
      "state": {
       "_model_module_version": "^1.2.2",
       "_view_module_version": "^1.2.2",
       "classes": " directed ",
       "data": {
        "directed": true,
        "id": "24",
        "source": "UBERON:0001135: smooth muscle tissue\nUBERON:0001258: neck of urinary bladder",
        "target": "UBERON:0000483: epithelium\nUBERON:0001258: neck of urinary bladder"
       },
       "selectable": false
      }
     },
     "f8bea7aee3c1490ea0043ea75c8d39e4": {
      "model_module": "jupyter-cytoscape",
      "model_module_version": "^1.2.2",
      "model_name": "NodeModel",
      "state": {
       "_model_module_version": "^1.2.2",
       "_view_module_version": "^1.2.2",
       "data": {
        "id": "\nUBERON:0007632: Barrington's nucleus\nUBERON:0001017: central nervous system\nUBERON:0000988: pons"
       },
       "grabbable": true,
       "grabbed": false,
       "selectable": false
      }
     },
     "f97a2f933cf8487d96df9cb243ca915c": {
      "model_module": "jupyter-cytoscape",
      "model_module_version": "^1.2.2",
      "model_name": "NodeModel",
      "state": {
       "_model_module_version": "^1.2.2",
       "_view_module_version": "^1.2.2",
       "data": {
        "id": "UBERON:0016549: central nervous system white matter layer\nUBERON:0006450: second lumbar spinal cord segment\n\nUBERON:0005844: spinal cord segment"
       },
       "grabbable": true,
       "grabbed": false,
       "position": {
        "x": 616.8600570508953,
        "y": -306.2408500327373
       },
       "selectable": false
      }
     },
     "f9d6865fadd94880b7cd99dbabc744e6": {
      "model_module": "jupyter-cytoscape",
      "model_module_version": "^1.2.2",
      "model_name": "EdgeModel",
      "state": {
       "_model_module_version": "^1.2.2",
       "_view_module_version": "^1.2.2",
       "classes": " directed ",
       "data": {
        "directed": true,
        "id": 6,
        "source": "\nEMAPA:25279",
        "target": "\nUBERON:0011390: pudendal nerve"
       },
       "selectable": false
      }
     },
     "fa4ba9c428a64d5d89194b2a7ebf5b4f": {
      "model_module": "@jupyter-widgets/base",
      "model_module_version": "1.2.0",
      "model_name": "LayoutModel",
      "state": {}
     },
     "fa93a70e27b94022999a3f2689c0121e": {
      "model_module": "jupyter-cytoscape",
      "model_module_version": "^1.2.2",
      "model_name": "EdgeModel",
      "state": {
       "_model_module_version": "^1.2.2",
       "_view_module_version": "^1.2.2",
       "classes": " directed ",
       "data": {
        "directed": true,
        "id": 4,
        "source": "\nUBERON:0016508: pelvic ganglion",
        "target": "\nEMAPA:31526"
       },
       "selectable": false
      }
     },
     "faac598caf7049d59ac8e8ede3b277e5": {
      "model_module": "jupyter-cytoscape",
      "model_module_version": "^1.2.2",
      "model_name": "EdgeModel",
      "state": {
       "_model_module_version": "^1.2.2",
       "_view_module_version": "^1.2.2",
       "classes": " directed ",
       "data": {
        "directed": true,
        "id": "12",
        "source": "UBERON:0002384: connective tissue\nUBERON:0006082: fundus of urinary bladder",
        "target": "UBERON:0035965: wall of blood vessel\nUBERON:0001981: blood vessel\nUBERON:0002384: connective tissue\nUBERON:0006082: fundus of urinary bladder"
       },
       "selectable": false
      }
     },
     "fb4f2a66e1c9486ea5fd6cc365b651dc": {
      "model_module": "jupyter-cytoscape",
      "model_module_version": "^1.2.2",
      "model_name": "NodeModel",
      "state": {
       "_model_module_version": "^1.2.2",
       "_view_module_version": "^1.2.2",
       "data": {
        "id": "\nUBERON:0007632: Barrington's nucleus\nUBERON:0001017: central nervous system\nUBERON:0000988: pons"
       },
       "grabbable": true,
       "grabbed": false,
       "selectable": false
      }
     },
     "fb65a17e09e941759f46509cb96c2729": {
      "model_module": "jupyter-cytoscape",
      "model_module_version": "^1.2.2",
      "model_name": "NodeModel",
      "state": {
       "_model_module_version": "^1.2.2",
       "_view_module_version": "^1.2.2",
       "data": {
        "id": "\nFMA:12698: White communicating ramus of second lumbar anterior ramus"
       },
       "grabbable": true,
       "grabbed": false,
       "position": {
        "x": 565.9647651424066,
        "y": -101.56831625827066
       },
       "selectable": false
      }
     },
     "fb72d6a57bfb4842aa0ff8b89647555b": {
      "model_module": "jupyter-cytoscape",
      "model_module_version": "^1.2.2",
      "model_name": "GraphModel",
      "state": {
       "_adj": {},
       "_model_module_version": "^1.2.2",
       "_view_module": "jupyter-cytoscape",
       "_view_module_version": "^1.2.2"
      }
     },
     "fd37533c2d764992b7afbb99098d36fb": {
      "model_module": "jupyter-cytoscape",
      "model_module_version": "^1.2.2",
      "model_name": "NodeModel",
      "state": {
       "_model_module_version": "^1.2.2",
       "_view_module_version": "^1.2.2",
       "data": {
        "id": "UBERON:0016549: central nervous system white matter layer\nILX:0738432: Sixth lumbar spinal cord segment"
       },
       "grabbable": true,
       "grabbed": false,
       "selectable": false
      }
     },
     "fda43baf728e45908309b103df728a64": {
      "model_module": "jupyter-cytoscape",
      "model_module_version": "^1.2.2",
      "model_name": "GraphModel",
      "state": {
       "_adj": {},
       "_model_module_version": "^1.2.2",
       "_view_module": "jupyter-cytoscape",
       "_view_module_version": "^1.2.2"
      }
     },
     "fe2c232e5c1d45ee994657e4960d6cd2": {
      "model_module": "jupyter-cytoscape",
      "model_module_version": "^1.2.2",
      "model_name": "GraphModel",
      "state": {
       "_adj": {
        "\nEMAPA:25169": {},
        "\nEMAPA:31526": {},
        "\nUBERON:0002860: first sacral dorsal root ganglion": {},
        "\nUBERON:0016508: pelvic ganglion": {},
        "\nUBERON:0018675: pelvic splanchnic nerve": {},
        "UBERON:0000483: epithelium\nUBERON:0001258: neck of urinary bladder": {},
        "UBERON:0000483: epithelium\nUBERON:0006082: fundus of urinary bladder": {},
        "UBERON:0001135: smooth muscle tissue\nUBERON:0001258: neck of urinary bladder": {},
        "UBERON:0001135: smooth muscle tissue\nUBERON:0006082: fundus of urinary bladder": {},
        "UBERON:0002181: substantia gelatinosa\nILX:0738432: Sixth lumbar spinal cord segment": {},
        "UBERON:0002181: substantia gelatinosa\nUBERON:0006460: first sacral spinal cord segment": {},
        "UBERON:0002384: connective tissue\nUBERON:0001258: neck of urinary bladder": {},
        "UBERON:0002384: connective tissue\nUBERON:0006082: fundus of urinary bladder": {},
        "UBERON:0004677: spinal cord gray commissure\nUBERON:0006460: first sacral spinal cord segment": {},
        "UBERON:0006118: lamina I of gray matter of spinal cord\nUBERON:0006460: first sacral spinal cord segment": {},
        "UBERON:0016549: central nervous system white matter layer\nILX:0738432: Sixth lumbar spinal cord segment": {},
        "UBERON:0016549: central nervous system white matter layer\nUBERON:0006460: first sacral spinal cord segment": {},
        "UBERON:0016576: lamina V of gray matter of spinal cord\nILX:0738432: Sixth lumbar spinal cord segment": {},
        "UBERON:0016576: lamina V of gray matter of spinal cord\nUBERON:0006460: first sacral spinal cord segment": {},
        "UBERON:0016578: lamina VII of gray matter of spinal cord\nILX:0738432: Sixth lumbar spinal cord segment": {},
        "UBERON:0016578: lamina VII of gray matter of spinal cord\nUBERON:0006460: first sacral spinal cord segment": {},
        "UBERON:0035965: wall of blood vessel\nUBERON:0001981: blood vessel\nUBERON:0002384: connective tissue\nUBERON:0001258: neck of urinary bladder": {},
        "UBERON:0035965: wall of blood vessel\nUBERON:0001981: blood vessel\nUBERON:0002384: connective tissue\nUBERON:0006082: fundus of urinary bladder": {}
       },
       "_model_module_version": "^1.2.2",
       "_view_module": "jupyter-cytoscape",
       "_view_module_version": "^1.2.2",
       "edges": [
        "IPY_MODEL_387993b1c1604de298f121d31b9bfc31",
        "IPY_MODEL_0cfd6a2bed7449fb927e0a430f394c8e",
        "IPY_MODEL_d14ed2b412c14bc4b15201ad58191adf",
        "IPY_MODEL_8efe1e03909641e09606dd5e52ff9ee8",
        "IPY_MODEL_1fd5c966342249c6b0ae235825bac2bc",
        "IPY_MODEL_7f9514c9c20b4829a9400e52d987deda",
        "IPY_MODEL_cf52120ce13040aca9faa47ac9c139b7",
        "IPY_MODEL_2300770328d84c419b279dac8df11391",
        "IPY_MODEL_3f86a4bf9175408580ac665e6ee98d22",
        "IPY_MODEL_7bdc0d51dbe146ecaacde4713f1909c8",
        "IPY_MODEL_e9ed8002ae7641078418db70c769959d",
        "IPY_MODEL_b76618099e3d4554a71b08c001093edf",
        "IPY_MODEL_8ac56aa16a5644319310a67ad25667b7",
        "IPY_MODEL_5edf728ad487490988550dc717312903",
        "IPY_MODEL_faac598caf7049d59ac8e8ede3b277e5",
        "IPY_MODEL_11b8e4c0ca8f45bca9474c50de260a7b",
        "IPY_MODEL_0978729e64b64e07b1e40b7ecdd3b3ba",
        "IPY_MODEL_0fd1c7e0ea0f4b7a877ead9deb0dfea1",
        "IPY_MODEL_8d3847e00abd4b5781dd4bb07c41f0f1",
        "IPY_MODEL_f80882eec22241baa683b1627d7442b8",
        "IPY_MODEL_61a05568398240e7921fab855edf95e4",
        "IPY_MODEL_6aeb8c1129074bd7bbe65bed3d6ec413"
       ],
       "nodes": [
        "IPY_MODEL_05ecc6e14df54c7fb518fd738af5b1ac",
        "IPY_MODEL_d12a4fb7587d41b48fbc05d71a9d8507",
        "IPY_MODEL_8782908467c5418ba4f1acf96055ef9f",
        "IPY_MODEL_a493059ff7fd48c4911f2206bf5b43b2",
        "IPY_MODEL_7bdcc3fab9d34295ac331f19e542b827",
        "IPY_MODEL_39d343e7936d4aadab4c83b6d67b4c43",
        "IPY_MODEL_7dc2c51897084e2492e93dd5f61546aa",
        "IPY_MODEL_85b1fe0c952c49119921fff99aea8f0a",
        "IPY_MODEL_67a1781a6f3a4d8fa0a5002fe05039b9",
        "IPY_MODEL_0a1cf5b85f7f40308870e0b48b3e2d97",
        "IPY_MODEL_1b754c0c0dc94bfaaff357c232eef3dc",
        "IPY_MODEL_631726b2acc0418a8e3ba96dab56c9f6",
        "IPY_MODEL_8d2c485fdfaa467c8506aae973e0ab0f",
        "IPY_MODEL_a51b7eabfbf74d0786c65f6cd01cb8e5",
        "IPY_MODEL_a7d2b09ef0d942748d29aa2099d77e6f",
        "IPY_MODEL_a87dab240e944544926994fb416b7633",
        "IPY_MODEL_5c7e5e6ca0dd44288e93476300ec1014",
        "IPY_MODEL_0a07c740787c4704a34a2cac4dc22bfa",
        "IPY_MODEL_cea20768b66d43149ae39533ba2e77c2",
        "IPY_MODEL_ffb47c7dac8549a0a7e130e0641dfed3",
        "IPY_MODEL_7f6e07f12e5a449ba96782f17f5dd92e",
        "IPY_MODEL_94ee15b6695b40dcaaa7cb0003461f52",
        "IPY_MODEL_590543a351364330b4a70c4db0a3f2ac"
       ]
      }
     },
     "fe6120f60b924274ba6254c1e66581ea": {
      "model_module": "jupyter-cytoscape",
      "model_module_version": "^1.2.2",
      "model_name": "EdgeModel",
      "state": {
       "_model_module_version": "^1.2.2",
       "_view_module_version": "^1.2.2",
       "classes": " directed ",
       "data": {
        "directed": true,
        "id": 13,
        "source": "UBERON:0016549: central nervous system white matter layer\nUBERON:0006466: tenth thoracic spinal cord segment",
        "target": "UBERON:0016549: central nervous system white matter layer\nUBERON:0006467: eleventh thoracic spinal cord segment"
       },
       "selectable": false
      }
     },
     "feba8d0958a74d51acf625734c92896f": {
      "model_module": "jupyter-cytoscape",
      "model_module_version": "^1.2.2",
      "model_name": "NodeModel",
      "state": {
       "_model_module_version": "^1.2.2",
       "_view_module_version": "^1.2.2",
       "data": {
        "id": "UBERON:0002181: substantia gelatinosa\nILX:0738432: Sixth lumbar spinal cord segment"
       },
       "grabbable": true,
       "grabbed": false,
       "selectable": false
      }
     },
     "ff058a1f3ad844dfae3732cfef1d3dc3": {
      "model_module": "jupyter-cytoscape",
      "model_module_version": "^1.2.2",
      "model_name": "NodeModel",
      "state": {
       "_model_module_version": "^1.2.2",
       "_view_module_version": "^1.2.2",
       "data": {
        "id": "\nUBERON:0007632: Barrington's nucleus\nUBERON:0001017: central nervous system\nUBERON:0000988: pons"
       },
       "grabbable": true,
       "grabbed": false,
       "selectable": false
      }
     },
     "ffb47c7dac8549a0a7e130e0641dfed3": {
      "model_module": "jupyter-cytoscape",
      "model_module_version": "^1.2.2",
      "model_name": "NodeModel",
      "state": {
       "_model_module_version": "^1.2.2",
       "_view_module_version": "^1.2.2",
       "data": {
        "id": "UBERON:0001135: smooth muscle tissue\nUBERON:0001258: neck of urinary bladder"
       },
       "grabbable": true,
       "grabbed": false,
       "position": {
        "x": 950.2761008464735,
        "y": 370.0282221644002
       },
       "selectable": false
      }
     }
    },
    "version_major": 2,
    "version_minor": 0
   }
  }
 },
 "nbformat": 4,
 "nbformat_minor": 5
}
